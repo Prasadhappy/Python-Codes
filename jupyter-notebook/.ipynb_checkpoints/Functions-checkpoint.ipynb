{
 "cells": [
  {
   "cell_type": "markdown",
   "id": "dd2eee33",
   "metadata": {},
   "source": [
    "# Functions in Python\n",
    "\n",
    "* A function is a block of code which only runs when it is called.\n",
    "* In python a function a defined with the 'def'\n",
    "* Functions can accept any number of arguments of any type \n",
    "* Functions can optionally return data as well. This data may also be of any type. You can return more than one value as well\n",
    "* Arguments can have default values as well.\n",
    "* While calling function, the user may define arguments as keyword pairs"
   ]
  },
  {
   "cell_type": "code",
   "execution_count": null,
   "id": "94dd1713",
   "metadata": {},
   "outputs": [],
   "source": []
  },
  {
   "cell_type": "code",
   "execution_count": 1,
   "id": "8a71f73b",
   "metadata": {},
   "outputs": [
    {
     "name": "stdout",
     "output_type": "stream",
     "text": [
      "Not a part of the function\n"
     ]
    }
   ],
   "source": [
    "def tea():\n",
    "    print('Boil water with tea leaves and sugar')\n",
    "    print('Add milk')\n",
    "    print('Let it boil 4-5 times')\n",
    "    \n",
    "print('Not a part of the function')\n",
    "    \n",
    "def coffee():\n",
    "    print('Boil some milk')\n",
    "    print('Pour it in cup with some coffee')\n",
    "    print('Stir')\n",
    "    \n",
    "    \n",
    "    \n",
    "    \n",
    "# def function work only upon called"
   ]
  },
  {
   "cell_type": "code",
   "execution_count": null,
   "id": "3a5ec95d",
   "metadata": {},
   "outputs": [],
   "source": []
  },
  {
   "cell_type": "code",
   "execution_count": 2,
   "id": "ad6bfe9e",
   "metadata": {},
   "outputs": [
    {
     "name": "stdout",
     "output_type": "stream",
     "text": [
      "Boil water with tea leaves and sugar\n",
      "Add milk\n",
      "Let it boil 4-5 times\n"
     ]
    }
   ],
   "source": [
    "# Calling function\n",
    "tea()"
   ]
  },
  {
   "cell_type": "code",
   "execution_count": null,
   "id": "f14ec8a9",
   "metadata": {},
   "outputs": [],
   "source": []
  },
  {
   "cell_type": "code",
   "execution_count": 3,
   "id": "edc2fc3e",
   "metadata": {},
   "outputs": [
    {
     "name": "stdout",
     "output_type": "stream",
     "text": [
      "Boil water with tea leaves and sugar\n",
      "Add milk\n",
      "Let it boil 4-5 times\n",
      "Boil water with tea leaves and sugar\n",
      "Add milk\n",
      "Let it boil 4-5 times\n",
      "Boil water with tea leaves and sugar\n",
      "Add milk\n",
      "Let it boil 4-5 times\n"
     ]
    }
   ],
   "source": [
    "# Can be called as many times\n",
    "\n",
    "tea()\n",
    "tea()\n",
    "tea()"
   ]
  },
  {
   "cell_type": "code",
   "execution_count": null,
   "id": "50b4913d",
   "metadata": {},
   "outputs": [],
   "source": []
  },
  {
   "cell_type": "code",
   "execution_count": 4,
   "id": "19469dfa",
   "metadata": {},
   "outputs": [
    {
     "name": "stdout",
     "output_type": "stream",
     "text": [
      "Boil some milk\n",
      "Pour it in cup with some coffee\n",
      "Stir\n"
     ]
    }
   ],
   "source": [
    "coffee()"
   ]
  },
  {
   "cell_type": "code",
   "execution_count": null,
   "id": "8c1508bc",
   "metadata": {},
   "outputs": [],
   "source": []
  },
  {
   "cell_type": "markdown",
   "id": "695bc76d",
   "metadata": {},
   "source": [
    "### Write a function to say hello to people by their names"
   ]
  },
  {
   "cell_type": "code",
   "execution_count": null,
   "id": "88a03d4d",
   "metadata": {},
   "outputs": [],
   "source": []
  },
  {
   "cell_type": "code",
   "execution_count": null,
   "id": "af8e827e",
   "metadata": {},
   "outputs": [],
   "source": [
    "print('Hello Prasad')\n",
    "print('Hello Batman')\n",
    "Print('hello Thor')"
   ]
  },
  {
   "cell_type": "code",
   "execution_count": 12,
   "id": "ef6742c1",
   "metadata": {},
   "outputs": [],
   "source": [
    "def hello(name):\n",
    "    print('I am ', name)"
   ]
  },
  {
   "cell_type": "code",
   "execution_count": 14,
   "id": "1348edd6",
   "metadata": {},
   "outputs": [
    {
     "name": "stdout",
     "output_type": "stream",
     "text": [
      "I am  Batman\n"
     ]
    }
   ],
   "source": [
    "hello ('Batman')\n",
    "\n",
    "\n",
    "# Here 'Batman' gets passed to (name) in def hello(name)\n",
    "# the string in hello(batman) gets passed implicitly to def hello(name)"
   ]
  },
  {
   "cell_type": "code",
   "execution_count": 11,
   "id": "0420ccd9",
   "metadata": {},
   "outputs": [
    {
     "name": "stdout",
     "output_type": "stream",
     "text": [
      "I am iron name\n"
     ]
    }
   ],
   "source": [
    "hello('iron name')"
   ]
  },
  {
   "cell_type": "code",
   "execution_count": 13,
   "id": "e5efb754",
   "metadata": {},
   "outputs": [
    {
     "name": "stdout",
     "output_type": "stream",
     "text": [
      "I am  4\n"
     ]
    }
   ],
   "source": [
    "hello(4)"
   ]
  },
  {
   "cell_type": "code",
   "execution_count": 15,
   "id": "9576c540",
   "metadata": {},
   "outputs": [
    {
     "name": "stdout",
     "output_type": "stream",
     "text": [
      "I am  18\n",
      "I am  Virat\n",
      "I am  my jersy number is\n"
     ]
    }
   ],
   "source": [
    "hello(18)\n",
    "hello('Virat')\n",
    "hello('my jersy number is')"
   ]
  },
  {
   "cell_type": "code",
   "execution_count": 16,
   "id": "30f0d1e5",
   "metadata": {},
   "outputs": [
    {
     "name": "stdout",
     "output_type": "stream",
     "text": [
      "<class 'function'>\n"
     ]
    }
   ],
   "source": [
    "print(type(hello))"
   ]
  },
  {
   "cell_type": "code",
   "execution_count": null,
   "id": "35cf6d58",
   "metadata": {},
   "outputs": [],
   "source": []
  },
  {
   "cell_type": "code",
   "execution_count": 18,
   "id": "6a92b1a6",
   "metadata": {},
   "outputs": [],
   "source": [
    "def fight(name, age, villains):\n",
    "    print('Hero name', name, 'at age ', age, 'was fighting the villians - ', villains)"
   ]
  },
  {
   "cell_type": "code",
   "execution_count": null,
   "id": "706f11c3",
   "metadata": {},
   "outputs": [],
   "source": []
  },
  {
   "cell_type": "code",
   "execution_count": 20,
   "id": "ef4831fb",
   "metadata": {},
   "outputs": [
    {
     "name": "stdout",
     "output_type": "stream",
     "text": [
      "Hero name spider man at age  15 was fighting the villians -  ['Green Goblin', 'elctro']\n"
     ]
    }
   ],
   "source": [
    "fight('spider man', 15, ['Green Goblin', 'elctro'])"
   ]
  },
  {
   "cell_type": "code",
   "execution_count": null,
   "id": "80fbca9f",
   "metadata": {},
   "outputs": [],
   "source": []
  },
  {
   "cell_type": "code",
   "execution_count": 24,
   "id": "8876e0a0",
   "metadata": {},
   "outputs": [
    {
     "name": "stdout",
     "output_type": "stream",
     "text": [
      "Hero name Iron man at age  30 was fighting the villians -  ['Thanos', 'Ultron']\n"
     ]
    }
   ],
   "source": [
    "def fight(name, age, villains = ['Thanos', 'Ultron']):\n",
    "    print('Hero name', name, 'at age ', age, 'was fighting the villians - ', villains)\n",
    "    \n",
    "    \n",
    "fight ('Iron man', 30)\n",
    "\n",
    "# there was default agrument was provided as ['Thanos', 'Ultron']\n",
    "# so if the 3rd argument was not provided while calling the function it will print the default values."
   ]
  },
  {
   "cell_type": "code",
   "execution_count": null,
   "id": "9102104d",
   "metadata": {},
   "outputs": [],
   "source": []
  },
  {
   "cell_type": "code",
   "execution_count": 25,
   "id": "8f13c1fd",
   "metadata": {},
   "outputs": [],
   "source": [
    "# giving them the default values\n",
    "\n",
    "def fight(name = 'Spiderman', age = 15, villains= ['Green Goblin', 'Electro']):\n",
    "    print('Hero name', name, 'at age ', age, 'was fighting the villians - ', villains)"
   ]
  },
  {
   "cell_type": "code",
   "execution_count": 26,
   "id": "b58504ac",
   "metadata": {},
   "outputs": [
    {
     "name": "stdout",
     "output_type": "stream",
     "text": [
      "Hero name Spiderman at age  15 was fighting the villians -  ['Green Goblin', 'Electro']\n"
     ]
    }
   ],
   "source": [
    "fight()"
   ]
  },
  {
   "cell_type": "code",
   "execution_count": null,
   "id": "a70fac30",
   "metadata": {},
   "outputs": [],
   "source": []
  },
  {
   "cell_type": "markdown",
   "id": "338f87e5",
   "metadata": {},
   "source": [
    "## Returning data from a function"
   ]
  },
  {
   "cell_type": "markdown",
   "id": "43f25b3d",
   "metadata": {},
   "source": [
    "### Write a function to get the cube of a number"
   ]
  },
  {
   "cell_type": "code",
   "execution_count": null,
   "id": "d646c9de",
   "metadata": {},
   "outputs": [],
   "source": []
  },
  {
   "cell_type": "code",
   "execution_count": 28,
   "id": "37d8a063",
   "metadata": {},
   "outputs": [],
   "source": [
    "def cube_of(x):\n",
    "\n",
    "    ans = x ** 3\n",
    "    return ans"
   ]
  },
  {
   "cell_type": "code",
   "execution_count": 29,
   "id": "4e84cc15",
   "metadata": {},
   "outputs": [
    {
     "data": {
      "text/plain": [
       "64"
      ]
     },
     "execution_count": 29,
     "metadata": {},
     "output_type": "execute_result"
    }
   ],
   "source": [
    "cube_of(4)"
   ]
  },
  {
   "cell_type": "code",
   "execution_count": null,
   "id": "7b59c404",
   "metadata": {},
   "outputs": [],
   "source": []
  },
  {
   "cell_type": "code",
   "execution_count": 30,
   "id": "9428df41",
   "metadata": {},
   "outputs": [],
   "source": [
    "def cube_of(x):\n",
    "#return value of x**3\n",
    "\n",
    "    ans = x ** 3\n",
    "    return ans"
   ]
  },
  {
   "cell_type": "code",
   "execution_count": 31,
   "id": "5291b868",
   "metadata": {},
   "outputs": [],
   "source": [
    "x = 5\n",
    "\n",
    "# compute the cube of c and store it in 'y'\n",
    "y = cube_of(x)\n",
    "\n",
    "#"
   ]
  },
  {
   "cell_type": "code",
   "execution_count": 33,
   "id": "5f4658ce",
   "metadata": {},
   "outputs": [
    {
     "name": "stdout",
     "output_type": "stream",
     "text": [
      "125 <class 'int'>\n"
     ]
    }
   ],
   "source": [
    "print(y, type(y))"
   ]
  },
  {
   "cell_type": "code",
   "execution_count": null,
   "id": "fee32d6d",
   "metadata": {},
   "outputs": [],
   "source": []
  },
  {
   "cell_type": "code",
   "execution_count": 34,
   "id": "13bf85b9",
   "metadata": {},
   "outputs": [
    {
     "name": "stdout",
     "output_type": "stream",
     "text": [
      "216\n"
     ]
    }
   ],
   "source": [
    "z = cube_of(6)\n",
    "print(z)"
   ]
  },
  {
   "cell_type": "code",
   "execution_count": null,
   "id": "740ae5c1",
   "metadata": {},
   "outputs": [],
   "source": []
  },
  {
   "cell_type": "markdown",
   "id": "795af3b7",
   "metadata": {},
   "source": [
    "### Return as many as values as you want"
   ]
  },
  {
   "cell_type": "code",
   "execution_count": null,
   "id": "96726a17",
   "metadata": {},
   "outputs": [],
   "source": []
  },
  {
   "cell_type": "code",
   "execution_count": 45,
   "id": "b731651b",
   "metadata": {},
   "outputs": [],
   "source": [
    "def spiderman():\n",
    "    return 'Peter Parker', 20, 'Tom'\n",
    "\n",
    "    return 5, 2,3. ## reduntant code, will never get executed\n",
    "# only one return can be use\n",
    "\n"
   ]
  },
  {
   "cell_type": "code",
   "execution_count": 46,
   "id": "929c0e2e",
   "metadata": {},
   "outputs": [],
   "source": [
    "name, age, actor = spiderman()"
   ]
  },
  {
   "cell_type": "code",
   "execution_count": 47,
   "id": "d16def7d",
   "metadata": {},
   "outputs": [
    {
     "name": "stdout",
     "output_type": "stream",
     "text": [
      "name -  Peter Parker\n",
      "age -  20\n",
      "Actor -  Tom\n"
     ]
    }
   ],
   "source": [
    "print('name - ', name)\n",
    "print('age - ', age)\n",
    "print('Actor - ', actor)"
   ]
  },
  {
   "cell_type": "code",
   "execution_count": null,
   "id": "7eff4fa6",
   "metadata": {},
   "outputs": [],
   "source": []
  },
  {
   "cell_type": "markdown",
   "id": "5f7edf69",
   "metadata": {},
   "source": [
    "# Calling with keyword pair arguments"
   ]
  },
  {
   "cell_type": "code",
   "execution_count": null,
   "id": "39dd90ec",
   "metadata": {},
   "outputs": [],
   "source": []
  },
  {
   "cell_type": "code",
   "execution_count": 50,
   "id": "a60bfe8a",
   "metadata": {},
   "outputs": [],
   "source": [
    "def fight(name, age, villains = ['Thanos', 'Ultron']):\n",
    "    print('Hero name', name, 'at age ', age, 'was fighting the villians - ', villains)\n",
    "    \n",
    "    "
   ]
  },
  {
   "cell_type": "code",
   "execution_count": 54,
   "id": "e4371596",
   "metadata": {},
   "outputs": [
    {
     "name": "stdout",
     "output_type": "stream",
     "text": [
      "Hero name Spiderman at age  20 was fighting the villians -  ['Thanos jr', 'Electroo']\n"
     ]
    }
   ],
   "source": [
    "fight(age = 20, villains = ['Thanos jr', 'Electroo'], name = 'Spiderman')\n",
    "\n",
    "# even if you do not remember the order in the def function, this is the alternative way to use the keywordsto assign the value"
   ]
  },
  {
   "cell_type": "code",
   "execution_count": 55,
   "id": "2b72a12f",
   "metadata": {},
   "outputs": [],
   "source": [
    "fight?"
   ]
  },
  {
   "cell_type": "code",
   "execution_count": null,
   "id": "102de53d",
   "metadata": {},
   "outputs": [],
   "source": []
  },
  {
   "cell_type": "markdown",
   "id": "10730072",
   "metadata": {},
   "source": [
    "## Call stack"
   ]
  },
  {
   "cell_type": "code",
   "execution_count": null,
   "id": "575fe99f",
   "metadata": {},
   "outputs": [],
   "source": []
  },
  {
   "cell_type": "code",
   "execution_count": 57,
   "id": "dd5d54fe",
   "metadata": {},
   "outputs": [
    {
     "name": "stdout",
     "output_type": "stream",
     "text": [
      "41\n",
      "hello\n",
      "100\n"
     ]
    }
   ],
   "source": [
    "def square(x):\n",
    "    return x ** 2\n",
    "\n",
    "def pyth(a,b):\n",
    "    c2 = square(a) + square(b)\n",
    "    return c2\n",
    "\n",
    "print(pyth(4,5))\n",
    "\n",
    "print('hello')\n",
    "print(square(10))"
   ]
  },
  {
   "cell_type": "markdown",
   "id": "e824e978",
   "metadata": {},
   "source": [
    "#### Area where a variable is accessible\n",
    "\n",
    "* scope of 'a' and 'b' was in c2 = square(a)+square(b)\n",
    "\n",
    "\n",
    "* print statments were in the Global Scope\n"
   ]
  },
  {
   "cell_type": "code",
   "execution_count": 58,
   "id": "520aa577",
   "metadata": {},
   "outputs": [
    {
     "name": "stdout",
     "output_type": "stream",
     "text": [
      "41\n"
     ]
    }
   ],
   "source": [
    "m = 10        # Global Scope\n",
    "# its value can be read inside any function\n",
    "\n",
    "\n",
    "x = 1000  # Global 'x' s shadowed by the local 'x'\n",
    "\n",
    "def square(x):\n",
    "    return x ** 2\n",
    "\n",
    "def pyth(a,b):\n",
    "    c2 = square(a) + square(b)\n",
    "    return c2\n",
    "\n",
    "print(pyth(4,5))"
   ]
  },
  {
   "cell_type": "code",
   "execution_count": 61,
   "id": "fc9b74e9",
   "metadata": {},
   "outputs": [
    {
     "name": "stdout",
     "output_type": "stream",
     "text": [
      "global variable is =  4\n"
     ]
    }
   ],
   "source": [
    "y = 4        # Global y\n",
    "\n",
    "def square(x):\n",
    "    y = 10   # Local y\n",
    "    print('local y = ', y)\n",
    "    return x ** 2\n",
    "\n",
    "def pyth(a,b):\n",
    "    c2 = square(a) + square(b)\n",
    "    return c2\n",
    "\n",
    "\n",
    "print('global variable is = ', y)"
   ]
  },
  {
   "cell_type": "code",
   "execution_count": null,
   "id": "4b77d62d",
   "metadata": {},
   "outputs": [],
   "source": []
  },
  {
   "cell_type": "code",
   "execution_count": 62,
   "id": "633ff39d",
   "metadata": {},
   "outputs": [
    {
     "name": "stdout",
     "output_type": "stream",
     "text": [
      "global variable is =  4\n"
     ]
    }
   ],
   "source": [
    "y = 4        # Global y\n",
    "\n",
    "def square(x):\n",
    "    global y\n",
    "    y = 10   # Local y\n",
    "    print('local y = ', y)\n",
    "    return x ** 2\n",
    "\n",
    "def pyth(a,b):\n",
    "    c2 = square(a) + square(b)\n",
    "    return c2\n",
    "\n",
    "\n",
    "print('global variable is = ', y)"
   ]
  },
  {
   "cell_type": "code",
   "execution_count": null,
   "id": "7e13ac92",
   "metadata": {},
   "outputs": [],
   "source": []
  },
  {
   "cell_type": "code",
   "execution_count": null,
   "id": "b7ca6ec7",
   "metadata": {},
   "outputs": [],
   "source": []
  },
  {
   "cell_type": "code",
   "execution_count": null,
   "id": "28317cc1",
   "metadata": {},
   "outputs": [],
   "source": []
  },
  {
   "cell_type": "markdown",
   "id": "ac08e553",
   "metadata": {},
   "source": [
    "# Map Function"
   ]
  },
  {
   "cell_type": "code",
   "execution_count": 67,
   "id": "f175f07a",
   "metadata": {},
   "outputs": [],
   "source": [
    "def square(x):\n",
    "    return x ** 2\n",
    "\n",
    "a = [5,2, 6, 9, 3]"
   ]
  },
  {
   "cell_type": "markdown",
   "id": "af583aea",
   "metadata": {},
   "source": [
    "Generate a list that contains the square of the number in 'a;\n",
    "\n",
    "b = [25, 4, 36, 81, 9]"
   ]
  },
  {
   "cell_type": "code",
   "execution_count": 64,
   "id": "66782539",
   "metadata": {},
   "outputs": [
    {
     "name": "stdout",
     "output_type": "stream",
     "text": [
      "[25, 4, 36, 81, 9]\n"
     ]
    }
   ],
   "source": [
    "# 1st method\n",
    "\n",
    "b = []\n",
    "for x in a:\n",
    "    b.append(square(x))\n",
    "    \n",
    "print (b)"
   ]
  },
  {
   "cell_type": "code",
   "execution_count": null,
   "id": "52f453bf",
   "metadata": {},
   "outputs": [],
   "source": []
  },
  {
   "cell_type": "markdown",
   "id": "6bdbb888",
   "metadata": {},
   "source": [
    "whenever you want to call a function on all elements of an iterable (list, range, tuple, set)\n",
    "\n",
    "you can do it in one line"
   ]
  },
  {
   "cell_type": "code",
   "execution_count": null,
   "id": "5e664d01",
   "metadata": {},
   "outputs": [],
   "source": []
  },
  {
   "cell_type": "code",
   "execution_count": 72,
   "id": "8a7d1f0a",
   "metadata": {},
   "outputs": [],
   "source": [
    "a = [5,2, 6, 9, 3]\n",
    "\n",
    "b = list(map(square, a))"
   ]
  },
  {
   "cell_type": "code",
   "execution_count": 73,
   "id": "273c0d75",
   "metadata": {},
   "outputs": [
    {
     "name": "stdout",
     "output_type": "stream",
     "text": [
      "[25, 4, 36, 81, 9]\n"
     ]
    }
   ],
   "source": [
    "print(b)"
   ]
  },
  {
   "cell_type": "code",
   "execution_count": null,
   "id": "1a4e1210",
   "metadata": {},
   "outputs": [],
   "source": []
  },
  {
   "cell_type": "code",
   "execution_count": null,
   "id": "8e6f7740",
   "metadata": {},
   "outputs": [],
   "source": []
  },
  {
   "cell_type": "markdown",
   "id": "b7908c34",
   "metadata": {},
   "source": [
    "# Lambda function\n",
    "\n",
    "A lambda function is a small anonymous function.\n",
    "A lambda function can take any number of arguments, but can only have one expression.\n",
    "\n",
    "Example:\n",
    "\n",
    "    square = lambda n: n**2\n",
    "    print(square(5)) #25"
   ]
  },
  {
   "cell_type": "code",
   "execution_count": 74,
   "id": "98432252",
   "metadata": {},
   "outputs": [],
   "source": [
    "def square(x):\n",
    "    return x ** 2\n",
    "\n",
    "def cube(x):\n",
    "    return x ** 3\n",
    "\n",
    "# there is a simpler way to write this using lambda function"
   ]
  },
  {
   "cell_type": "code",
   "execution_count": null,
   "id": "776faf5d",
   "metadata": {},
   "outputs": [],
   "source": []
  },
  {
   "cell_type": "code",
   "execution_count": 75,
   "id": "3b742d12",
   "metadata": {},
   "outputs": [],
   "source": [
    "square2 = lambda x: x **2"
   ]
  },
  {
   "cell_type": "code",
   "execution_count": null,
   "id": "6f0b3b75",
   "metadata": {},
   "outputs": [],
   "source": []
  },
  {
   "cell_type": "code",
   "execution_count": null,
   "id": "cc82a22a",
   "metadata": {},
   "outputs": [],
   "source": []
  },
  {
   "cell_type": "code",
   "execution_count": null,
   "id": "8c33d526",
   "metadata": {},
   "outputs": [],
   "source": []
  },
  {
   "cell_type": "code",
   "execution_count": null,
   "id": "17818d02",
   "metadata": {},
   "outputs": [],
   "source": []
  },
  {
   "cell_type": "code",
   "execution_count": null,
   "id": "c7dd6b41",
   "metadata": {},
   "outputs": [],
   "source": []
  },
  {
   "cell_type": "code",
   "execution_count": null,
   "id": "312a3b94",
   "metadata": {},
   "outputs": [],
   "source": []
  },
  {
   "cell_type": "code",
   "execution_count": null,
   "id": "528586fe",
   "metadata": {},
   "outputs": [],
   "source": []
  },
  {
   "cell_type": "code",
   "execution_count": null,
   "id": "248477cb",
   "metadata": {},
   "outputs": [],
   "source": []
  },
  {
   "cell_type": "code",
   "execution_count": null,
   "id": "76ab5a12",
   "metadata": {},
   "outputs": [],
   "source": []
  },
  {
   "cell_type": "code",
   "execution_count": null,
   "id": "bfa980ef",
   "metadata": {},
   "outputs": [],
   "source": []
  },
  {
   "cell_type": "code",
   "execution_count": null,
   "id": "431aa594",
   "metadata": {},
   "outputs": [],
   "source": []
  },
  {
   "cell_type": "code",
   "execution_count": null,
   "id": "276b2103",
   "metadata": {},
   "outputs": [],
   "source": []
  },
  {
   "cell_type": "code",
   "execution_count": null,
   "id": "b07c5ebe",
   "metadata": {},
   "outputs": [],
   "source": []
  },
  {
   "cell_type": "code",
   "execution_count": null,
   "id": "80293d47",
   "metadata": {},
   "outputs": [],
   "source": []
  },
  {
   "cell_type": "code",
   "execution_count": null,
   "id": "0468aafd",
   "metadata": {},
   "outputs": [],
   "source": []
  },
  {
   "cell_type": "code",
   "execution_count": null,
   "id": "7ca7c7ef",
   "metadata": {},
   "outputs": [],
   "source": []
  },
  {
   "cell_type": "code",
   "execution_count": null,
   "id": "b55e1753",
   "metadata": {},
   "outputs": [],
   "source": []
  }
 ],
 "metadata": {
  "kernelspec": {
   "display_name": "Python 3 (ipykernel)",
   "language": "python",
   "name": "python3"
  },
  "language_info": {
   "codemirror_mode": {
    "name": "ipython",
    "version": 3
   },
   "file_extension": ".py",
   "mimetype": "text/x-python",
   "name": "python",
   "nbconvert_exporter": "python",
   "pygments_lexer": "ipython3",
   "version": "3.10.11"
  }
 },
 "nbformat": 4,
 "nbformat_minor": 5
}
