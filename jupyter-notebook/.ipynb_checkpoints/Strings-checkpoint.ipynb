{
 "cells": [
  {
   "cell_type": "markdown",
   "id": "8b891771",
   "metadata": {},
   "source": [
    "# Strings:\n"
   ]
  },
  {
   "cell_type": "markdown",
   "id": "e79b19cf",
   "metadata": {},
   "source": [
    "# Initialisation and indexing"
   ]
  },
  {
   "cell_type": "code",
   "execution_count": null,
   "id": "853b7029",
   "metadata": {},
   "outputs": [],
   "source": []
  },
  {
   "cell_type": "code",
   "execution_count": 42,
   "id": "ec26ce73",
   "metadata": {},
   "outputs": [],
   "source": [
    "# Strings can be defined in single, double or triple quotes"
   ]
  },
  {
   "cell_type": "code",
   "execution_count": 38,
   "id": "2126c7a0",
   "metadata": {},
   "outputs": [],
   "source": [
    "book = 'Harry Poter and the Half Blood Prince'"
   ]
  },
  {
   "cell_type": "code",
   "execution_count": 39,
   "id": "e32fae93",
   "metadata": {},
   "outputs": [
    {
     "name": "stdout",
     "output_type": "stream",
     "text": [
      "Harry Poter and the Half Blood Prince\n"
     ]
    }
   ],
   "source": [
    "print(book)"
   ]
  },
  {
   "cell_type": "code",
   "execution_count": null,
   "id": "5b292493",
   "metadata": {},
   "outputs": [],
   "source": []
  },
  {
   "cell_type": "code",
   "execution_count": 40,
   "id": "119d1e1b",
   "metadata": {},
   "outputs": [],
   "source": [
    "books = '''\n",
    "Harry Potter and the Philospher's Stone\n",
    "Harry Potter and the Half Blood Prince\n",
    "Harry Potter and the Half Blood Prince\n",
    "'''"
   ]
  },
  {
   "cell_type": "code",
   "execution_count": 41,
   "id": "a9380ba8",
   "metadata": {},
   "outputs": [
    {
     "name": "stdout",
     "output_type": "stream",
     "text": [
      "\n",
      "Harry Potter and the Philospher's Stone\n",
      "Harry Potter and the Half Blood Prince\n",
      "Harry Potter and the Half Blood Prince\n",
      "\n"
     ]
    }
   ],
   "source": [
    "print(books)"
   ]
  },
  {
   "cell_type": "code",
   "execution_count": null,
   "id": "b70e7781",
   "metadata": {},
   "outputs": [],
   "source": []
  },
  {
   "cell_type": "code",
   "execution_count": 43,
   "id": "4a35daec",
   "metadata": {},
   "outputs": [],
   "source": [
    "book = 'Harry Poter and the Half Blood Prince'"
   ]
  },
  {
   "cell_type": "code",
   "execution_count": 44,
   "id": "1db17791",
   "metadata": {},
   "outputs": [
    {
     "data": {
      "text/plain": [
       "'a'"
      ]
     },
     "execution_count": 44,
     "metadata": {},
     "output_type": "execute_result"
    }
   ],
   "source": [
    "book[1]"
   ]
  },
  {
   "cell_type": "code",
   "execution_count": 45,
   "id": "fe8fdd56",
   "metadata": {},
   "outputs": [
    {
     "data": {
      "text/plain": [
       "'H'"
      ]
     },
     "execution_count": 45,
     "metadata": {},
     "output_type": "execute_result"
    }
   ],
   "source": [
    "book[0]"
   ]
  },
  {
   "cell_type": "code",
   "execution_count": null,
   "id": "77c246e8",
   "metadata": {},
   "outputs": [],
   "source": []
  },
  {
   "cell_type": "code",
   "execution_count": 46,
   "id": "5455b1f2",
   "metadata": {},
   "outputs": [],
   "source": [
    "# How strings are handled in python "
   ]
  },
  {
   "cell_type": "code",
   "execution_count": null,
   "id": "7145671b",
   "metadata": {},
   "outputs": [],
   "source": []
  },
  {
   "cell_type": "code",
   "execution_count": 47,
   "id": "ee90f7a6",
   "metadata": {},
   "outputs": [],
   "source": [
    "s = 'hello'\n",
    "s = 'hello world'\n",
    "\n",
    "# if you print the value of s here the, first the str 'hello' will be stored in s and than s will point towards 'hello world'\n",
    "# hello world will not be updated in s\n",
    "# the value will not be updated\n",
    "# a new string object is created\n",
    "# in python all strings are immutable, strings cannot be modified"
   ]
  },
  {
   "cell_type": "code",
   "execution_count": null,
   "id": "fbb3eb35",
   "metadata": {},
   "outputs": [],
   "source": []
  },
  {
   "cell_type": "code",
   "execution_count": 49,
   "id": "06c0e68a",
   "metadata": {},
   "outputs": [
    {
     "data": {
      "text/plain": [
       "37"
      ]
     },
     "execution_count": 49,
     "metadata": {},
     "output_type": "execute_result"
    }
   ],
   "source": [
    "len(book)  # to get the length of the string and also the spaces are counted"
   ]
  },
  {
   "cell_type": "code",
   "execution_count": null,
   "id": "78b3987d",
   "metadata": {},
   "outputs": [],
   "source": []
  },
  {
   "cell_type": "markdown",
   "id": "3f74bee0",
   "metadata": {},
   "source": [
    "# Basic operations\n",
    "\n",
    "    1. Concatenation: +\n",
    "    2. Repetition: *\n",
    "    3. Check occurence: in oparator\n",
    "    4. Find index of occurence: ,find()\n",
    "    5. Changing case- .lower(), .upper()"
   ]
  },
  {
   "cell_type": "code",
   "execution_count": null,
   "id": "c6cde167",
   "metadata": {},
   "outputs": [],
   "source": []
  },
  {
   "cell_type": "markdown",
   "id": "72b5a7e9",
   "metadata": {},
   "source": [
    "# Concatenation: +"
   ]
  },
  {
   "cell_type": "code",
   "execution_count": null,
   "id": "cb9e06d2",
   "metadata": {},
   "outputs": [],
   "source": []
  },
  {
   "cell_type": "code",
   "execution_count": 50,
   "id": "57479375",
   "metadata": {},
   "outputs": [
    {
     "name": "stdout",
     "output_type": "stream",
     "text": [
      "Harry Potter and the Chamber of Secrets\n"
     ]
    }
   ],
   "source": [
    "harry = 'Harry Potter and the '\n",
    "chamber = 'Chamber of Secrets'\n",
    "\n",
    "book2 = harry + chamber\n",
    "\n",
    "print(book2)"
   ]
  },
  {
   "cell_type": "code",
   "execution_count": null,
   "id": "25f0e190",
   "metadata": {},
   "outputs": [],
   "source": []
  },
  {
   "cell_type": "code",
   "execution_count": 51,
   "id": "6aeb14f7",
   "metadata": {},
   "outputs": [
    {
     "ename": "TypeError",
     "evalue": "can only concatenate str (not \"int\") to str",
     "output_type": "error",
     "traceback": [
      "\u001b[1;31m---------------------------------------------------------------------------\u001b[0m",
      "\u001b[1;31mTypeError\u001b[0m                                 Traceback (most recent call last)",
      "Cell \u001b[1;32mIn[51], line 1\u001b[0m\n\u001b[1;32m----> 1\u001b[0m book2 \u001b[38;5;241m=\u001b[39m \u001b[43mharry\u001b[49m\u001b[43m \u001b[49m\u001b[38;5;241;43m+\u001b[39;49m\u001b[43m \u001b[49m\u001b[43mchamber\u001b[49m\u001b[43m \u001b[49m\u001b[38;5;241;43m+\u001b[39;49m\u001b[43m \u001b[49m\u001b[38;5;124;43m'\u001b[39;49m\u001b[38;5;124;43m: Book \u001b[39;49m\u001b[38;5;124;43m'\u001b[39;49m\u001b[43m \u001b[49m\u001b[38;5;241;43m+\u001b[39;49m\u001b[43m \u001b[49m\u001b[38;5;241;43m2\u001b[39;49m\n",
      "\u001b[1;31mTypeError\u001b[0m: can only concatenate str (not \"int\") to str"
     ]
    }
   ],
   "source": [
    "book2 = harry + chamber + ': Book ' + 2"
   ]
  },
  {
   "cell_type": "code",
   "execution_count": 52,
   "id": "79924446",
   "metadata": {},
   "outputs": [],
   "source": [
    "# cannot add a int to a str "
   ]
  },
  {
   "cell_type": "code",
   "execution_count": null,
   "id": "8d976a07",
   "metadata": {},
   "outputs": [],
   "source": []
  },
  {
   "cell_type": "code",
   "execution_count": 54,
   "id": "54c006b2",
   "metadata": {},
   "outputs": [
    {
     "name": "stdout",
     "output_type": "stream",
     "text": [
      "Harry Potter and the Chamber of Secrets: Book 2\n"
     ]
    }
   ],
   "source": [
    "book2 = harry + chamber + ': Book ' + str(2)\n",
    "\n",
    "print(book2)"
   ]
  },
  {
   "cell_type": "code",
   "execution_count": null,
   "id": "cca02dca",
   "metadata": {},
   "outputs": [],
   "source": []
  },
  {
   "cell_type": "code",
   "execution_count": 55,
   "id": "381ccda3",
   "metadata": {},
   "outputs": [],
   "source": [
    "book2 = harry + chamber + ': Book ' + '2'"
   ]
  },
  {
   "cell_type": "code",
   "execution_count": 56,
   "id": "cbd3bce1",
   "metadata": {},
   "outputs": [
    {
     "data": {
      "text/plain": [
       "'Harry Potter and the Chamber of Secrets: Book 2'"
      ]
     },
     "execution_count": 56,
     "metadata": {},
     "output_type": "execute_result"
    }
   ],
   "source": [
    "book2"
   ]
  },
  {
   "cell_type": "code",
   "execution_count": null,
   "id": "69c01747",
   "metadata": {},
   "outputs": [],
   "source": []
  },
  {
   "cell_type": "code",
   "execution_count": null,
   "id": "be97ef22",
   "metadata": {},
   "outputs": [],
   "source": []
  },
  {
   "cell_type": "code",
   "execution_count": 57,
   "id": "c68b431f",
   "metadata": {},
   "outputs": [
    {
     "name": "stdout",
     "output_type": "stream",
     "text": [
      "Harry Potter and the Chamber of Secrets: Book 2\n"
     ]
    }
   ],
   "source": [
    "x = 2\n",
    "\n",
    "book2 = harry + chamber + ': Book ' + str(x)\n",
    "\n",
    "print(book2)"
   ]
  },
  {
   "cell_type": "code",
   "execution_count": 58,
   "id": "1b7724ad",
   "metadata": {},
   "outputs": [],
   "source": [
    "# for these cases we use the 'str' keyword\n",
    "# x might be defined somewhere in the code and when you want to call it and add as an str you can use the 'str' funciton"
   ]
  },
  {
   "cell_type": "code",
   "execution_count": null,
   "id": "c4d6868a",
   "metadata": {},
   "outputs": [],
   "source": []
  },
  {
   "cell_type": "markdown",
   "id": "62ba2299",
   "metadata": {},
   "source": [
    "# Repetition:*"
   ]
  },
  {
   "cell_type": "code",
   "execution_count": null,
   "id": "f9a71a47",
   "metadata": {},
   "outputs": [],
   "source": []
  },
  {
   "cell_type": "code",
   "execution_count": 8,
   "id": "3fd9cda8",
   "metadata": {},
   "outputs": [
    {
     "name": "stdout",
     "output_type": "stream",
     "text": [
      "Hello World Hello World Hello World Hello World Hello World \n"
     ]
    }
   ],
   "source": [
    "hello = 'Hello World '\n",
    "s = hello * 5\n",
    "\n",
    "print(s)"
   ]
  },
  {
   "cell_type": "code",
   "execution_count": null,
   "id": "e518ca35",
   "metadata": {},
   "outputs": [],
   "source": []
  },
  {
   "cell_type": "code",
   "execution_count": 4,
   "id": "4a82653f",
   "metadata": {},
   "outputs": [
    {
     "data": {
      "text/plain": [
       "'1111111111'"
      ]
     },
     "execution_count": 4,
     "metadata": {},
     "output_type": "execute_result"
    }
   ],
   "source": [
    "'1'*10"
   ]
  },
  {
   "cell_type": "code",
   "execution_count": null,
   "id": "383bc523",
   "metadata": {},
   "outputs": [],
   "source": []
  },
  {
   "cell_type": "markdown",
   "id": "d3ca5f32",
   "metadata": {},
   "source": [
    "# In operator"
   ]
  },
  {
   "cell_type": "code",
   "execution_count": null,
   "id": "463aab36",
   "metadata": {},
   "outputs": [],
   "source": []
  },
  {
   "cell_type": "code",
   "execution_count": null,
   "id": "a45d9564",
   "metadata": {},
   "outputs": [],
   "source": []
  },
  {
   "cell_type": "code",
   "execution_count": null,
   "id": "897fc7fd",
   "metadata": {},
   "outputs": [],
   "source": []
  },
  {
   "cell_type": "code",
   "execution_count": null,
   "id": "9b721282",
   "metadata": {},
   "outputs": [],
   "source": []
  },
  {
   "cell_type": "code",
   "execution_count": 5,
   "id": "42ce22d8",
   "metadata": {},
   "outputs": [],
   "source": [
    "book = 'Harry Potter and the Half Blood Prince'"
   ]
  },
  {
   "cell_type": "code",
   "execution_count": 6,
   "id": "77c3af7e",
   "metadata": {},
   "outputs": [
    {
     "name": "stdout",
     "output_type": "stream",
     "text": [
      "yes\n"
     ]
    }
   ],
   "source": [
    "if 'Harry' in book:\n",
    "    print('yes')\n",
    "else:\n",
    "    print('no')"
   ]
  },
  {
   "cell_type": "code",
   "execution_count": null,
   "id": "bb63dcf6",
   "metadata": {},
   "outputs": [],
   "source": []
  },
  {
   "cell_type": "code",
   "execution_count": 7,
   "id": "d5a8d1cf",
   "metadata": {},
   "outputs": [
    {
     "name": "stdout",
     "output_type": "stream",
     "text": [
      "no\n"
     ]
    }
   ],
   "source": [
    "if 'harry' in book:\n",
    "    print('yes')\n",
    "else:\n",
    "    print('no')"
   ]
  },
  {
   "cell_type": "code",
   "execution_count": null,
   "id": "d91db270",
   "metadata": {},
   "outputs": [],
   "source": []
  },
  {
   "cell_type": "code",
   "execution_count": 11,
   "id": "d48b6c57",
   "metadata": {},
   "outputs": [
    {
     "data": {
      "text/plain": [
       "1"
      ]
     },
     "execution_count": 11,
     "metadata": {},
     "output_type": "execute_result"
    }
   ],
   "source": [
    "book.count('Harry')   # count()"
   ]
  },
  {
   "cell_type": "code",
   "execution_count": null,
   "id": "5db3cd64",
   "metadata": {},
   "outputs": [],
   "source": []
  },
  {
   "cell_type": "markdown",
   "id": "d4da3040",
   "metadata": {},
   "source": [
    "# .find()"
   ]
  },
  {
   "cell_type": "code",
   "execution_count": null,
   "id": "d1b2c44e",
   "metadata": {},
   "outputs": [],
   "source": []
  },
  {
   "cell_type": "code",
   "execution_count": 15,
   "id": "9e0636e0",
   "metadata": {},
   "outputs": [
    {
     "name": "stdout",
     "output_type": "stream",
     "text": [
      "13\n"
     ]
    }
   ],
   "source": [
    "book = 'Harry Potter and the Half Blood Prince'\n",
    "\n",
    "print(book.find('and')) # a will occur at 13th index"
   ]
  },
  {
   "cell_type": "code",
   "execution_count": null,
   "id": "c94ce458",
   "metadata": {},
   "outputs": [],
   "source": []
  },
  {
   "cell_type": "code",
   "execution_count": null,
   "id": "d61199a6",
   "metadata": {},
   "outputs": [],
   "source": []
  },
  {
   "cell_type": "markdown",
   "id": "32e0243a",
   "metadata": {},
   "source": [
    "# .replace()"
   ]
  },
  {
   "cell_type": "code",
   "execution_count": null,
   "id": "54fcaba0",
   "metadata": {},
   "outputs": [],
   "source": []
  },
  {
   "cell_type": "code",
   "execution_count": 16,
   "id": "08d5f44d",
   "metadata": {},
   "outputs": [],
   "source": [
    "text = 'Python is amazing'"
   ]
  },
  {
   "cell_type": "code",
   "execution_count": 17,
   "id": "754e2ba9",
   "metadata": {},
   "outputs": [
    {
     "name": "stdout",
     "output_type": "stream",
     "text": [
      "Python is amazing\n"
     ]
    }
   ],
   "source": [
    "print(text)"
   ]
  },
  {
   "cell_type": "code",
   "execution_count": 20,
   "id": "1f8f1265",
   "metadata": {},
   "outputs": [],
   "source": [
    "text = text.replace('amazing', 'awesome')"
   ]
  },
  {
   "cell_type": "code",
   "execution_count": 22,
   "id": "a38f7062",
   "metadata": {},
   "outputs": [
    {
     "name": "stdout",
     "output_type": "stream",
     "text": [
      "Python is awesome\n"
     ]
    }
   ],
   "source": [
    "print(text) # it returns the same text output"
   ]
  },
  {
   "cell_type": "code",
   "execution_count": null,
   "id": "911245bc",
   "metadata": {},
   "outputs": [],
   "source": []
  },
  {
   "cell_type": "code",
   "execution_count": 23,
   "id": "8fe7c739",
   "metadata": {},
   "outputs": [
    {
     "name": "stdout",
     "output_type": "stream",
     "text": [
      "Python is awesome\n"
     ]
    }
   ],
   "source": [
    "# so store it in the new function\n",
    "\n",
    "new_text = text.replace('amazing', 'awesome')\n",
    "\n",
    "print(new_text)"
   ]
  },
  {
   "cell_type": "code",
   "execution_count": null,
   "id": "6b9b4f58",
   "metadata": {},
   "outputs": [],
   "source": []
  },
  {
   "cell_type": "code",
   "execution_count": 27,
   "id": "a450b274",
   "metadata": {},
   "outputs": [
    {
     "name": "stdout",
     "output_type": "stream",
     "text": [
      "Python xs amazxng\n"
     ]
    }
   ],
   "source": [
    "some_text = 'Python is amazing'\n",
    "\n",
    "some_text = some_text.replace('i', 'x')\n",
    "\n",
    "print(some_text)"
   ]
  },
  {
   "cell_type": "code",
   "execution_count": null,
   "id": "ad5f4d8b",
   "metadata": {},
   "outputs": [],
   "source": []
  },
  {
   "cell_type": "code",
   "execution_count": 33,
   "id": "6dc72224",
   "metadata": {},
   "outputs": [
    {
     "data": {
      "text/plain": [
       "'python is awsome'"
      ]
     },
     "execution_count": 33,
     "metadata": {},
     "output_type": "execute_result"
    }
   ],
   "source": [
    "'python is amazing'.replace('amazing', 'awsome')"
   ]
  },
  {
   "cell_type": "code",
   "execution_count": 34,
   "id": "d159e2ed",
   "metadata": {},
   "outputs": [],
   "source": [
    "# we can do it in single line itself without assiging it to any variable"
   ]
  },
  {
   "cell_type": "markdown",
   "id": "6a7043c9",
   "metadata": {},
   "source": [
    "# .lower(), .upper()"
   ]
  },
  {
   "cell_type": "code",
   "execution_count": null,
   "id": "ddf017be",
   "metadata": {},
   "outputs": [],
   "source": []
  },
  {
   "cell_type": "code",
   "execution_count": 29,
   "id": "b3051de6",
   "metadata": {},
   "outputs": [
    {
     "data": {
      "text/plain": [
       "'harry potter and the half blood prince'"
      ]
     },
     "execution_count": 29,
     "metadata": {},
     "output_type": "execute_result"
    }
   ],
   "source": [
    "book = 'Harry Potter and the Half Blood Prince'\n",
    "\n",
    "book.lower()\n"
   ]
  },
  {
   "cell_type": "code",
   "execution_count": 30,
   "id": "0bbeab69",
   "metadata": {},
   "outputs": [
    {
     "data": {
      "text/plain": [
       "'HARRY POTTER AND THE HALF BLOOD PRINCE'"
      ]
     },
     "execution_count": 30,
     "metadata": {},
     "output_type": "execute_result"
    }
   ],
   "source": [
    "book = 'Harry Potter and the Half Blood Prince'\n",
    "\n",
    "book.upper()"
   ]
  },
  {
   "cell_type": "code",
   "execution_count": 32,
   "id": "0272cd89",
   "metadata": {},
   "outputs": [
    {
     "name": "stdout",
     "output_type": "stream",
     "text": [
      "Harry Potter and the Half Blood Prince\n"
     ]
    }
   ],
   "source": [
    "print(book)  # book string remains intact, it just returns new string"
   ]
  },
  {
   "cell_type": "code",
   "execution_count": null,
   "id": "e90d29bc",
   "metadata": {},
   "outputs": [],
   "source": []
  },
  {
   "cell_type": "markdown",
   "id": "6ae6fd6c",
   "metadata": {},
   "source": [
    "# Looping over strings"
   ]
  },
  {
   "cell_type": "code",
   "execution_count": null,
   "id": "603f1225",
   "metadata": {},
   "outputs": [],
   "source": []
  },
  {
   "cell_type": "code",
   "execution_count": 38,
   "id": "d57c612e",
   "metadata": {},
   "outputs": [
    {
     "name": "stdout",
     "output_type": "stream",
     "text": [
      "H a r r y   P o t t e r   a n d   t h e   H a l f   B l o o d   P r i n c e "
     ]
    }
   ],
   "source": [
    "book = 'Harry Potter and the Half Blood Prince'\n",
    "\n",
    "for char in book:\n",
    "    print(char, end= ' ')"
   ]
  },
  {
   "cell_type": "code",
   "execution_count": null,
   "id": "046feb23",
   "metadata": {},
   "outputs": [],
   "source": []
  },
  {
   "cell_type": "code",
   "execution_count": 42,
   "id": "3b792aac",
   "metadata": {},
   "outputs": [
    {
     "ename": "NameError",
     "evalue": "name 'book' is not defined",
     "output_type": "error",
     "traceback": [
      "\u001b[1;31m---------------------------------------------------------------------------\u001b[0m",
      "\u001b[1;31mNameError\u001b[0m                                 Traceback (most recent call last)",
      "Cell \u001b[1;32mIn[42], line 5\u001b[0m\n\u001b[0;32m      1\u001b[0m book \u001b[38;5;241m=\u001b[39m \u001b[38;5;124m'\u001b[39m\u001b[38;5;124mHarry Potter and the Half Blood Prince\u001b[39m\u001b[38;5;124m'\u001b[39m\n\u001b[0;32m      3\u001b[0m \u001b[38;5;28;01mdel\u001b[39;00m book\n\u001b[1;32m----> 5\u001b[0m \u001b[38;5;28mprint\u001b[39m(\u001b[43mbook\u001b[49m)\n",
      "\u001b[1;31mNameError\u001b[0m: name 'book' is not defined"
     ]
    }
   ],
   "source": [
    "book = 'Harry Potter and the Half Blood Prince'\n",
    "\n",
    "del book\n",
    "\n",
    "print(book)"
   ]
  },
  {
   "cell_type": "code",
   "execution_count": 40,
   "id": "a1471298",
   "metadata": {},
   "outputs": [],
   "source": [
    "# the string is lost now"
   ]
  },
  {
   "cell_type": "code",
   "execution_count": null,
   "id": "7ea03e95",
   "metadata": {},
   "outputs": [],
   "source": []
  },
  {
   "cell_type": "markdown",
   "id": "bde7dc84",
   "metadata": {},
   "source": [
    "# ord function"
   ]
  },
  {
   "cell_type": "code",
   "execution_count": null,
   "id": "65d908b9",
   "metadata": {},
   "outputs": [],
   "source": []
  },
  {
   "cell_type": "code",
   "execution_count": 43,
   "id": "e58bab07",
   "metadata": {},
   "outputs": [
    {
     "data": {
      "text/plain": [
       "97"
      ]
     },
     "execution_count": 43,
     "metadata": {},
     "output_type": "execute_result"
    }
   ],
   "source": [
    "ord('a')   # it gives a ASCII value"
   ]
  },
  {
   "cell_type": "code",
   "execution_count": 45,
   "id": "44e11954",
   "metadata": {},
   "outputs": [],
   "source": [
    "# it only return values in sigle string value"
   ]
  },
  {
   "cell_type": "code",
   "execution_count": null,
   "id": "6ee51c2f",
   "metadata": {},
   "outputs": [],
   "source": []
  },
  {
   "cell_type": "code",
   "execution_count": 47,
   "id": "e9a18cf6",
   "metadata": {},
   "outputs": [
    {
     "data": {
      "text/plain": [
       "51"
      ]
     },
     "execution_count": 47,
     "metadata": {},
     "output_type": "execute_result"
    }
   ],
   "source": [
    "ord('3')"
   ]
  },
  {
   "cell_type": "code",
   "execution_count": null,
   "id": "87efc842",
   "metadata": {},
   "outputs": [],
   "source": []
  },
  {
   "cell_type": "code",
   "execution_count": 52,
   "id": "a8332e63",
   "metadata": {},
   "outputs": [
    {
     "data": {
      "text/plain": [
       "'A'"
      ]
     },
     "execution_count": 52,
     "metadata": {},
     "output_type": "execute_result"
    }
   ],
   "source": [
    "chr(65)   # chr will give you opp value"
   ]
  },
  {
   "cell_type": "code",
   "execution_count": null,
   "id": "902fb2da",
   "metadata": {},
   "outputs": [],
   "source": []
  },
  {
   "cell_type": "markdown",
   "id": "03fdc11a",
   "metadata": {},
   "source": [
    " # String splicing\n",
    " "
   ]
  },
  {
   "cell_type": "code",
   "execution_count": null,
   "id": "d989a4db",
   "metadata": {},
   "outputs": [],
   "source": []
  },
  {
   "cell_type": "code",
   "execution_count": 53,
   "id": "f45aa3ba",
   "metadata": {},
   "outputs": [],
   "source": [
    "s = 'Hello World'"
   ]
  },
  {
   "cell_type": "code",
   "execution_count": 54,
   "id": "ef98821b",
   "metadata": {},
   "outputs": [
    {
     "data": {
      "text/plain": [
       "'Hello Worl'"
      ]
     },
     "execution_count": 54,
     "metadata": {},
     "output_type": "execute_result"
    }
   ],
   "source": [
    "s[:-1]"
   ]
  },
  {
   "cell_type": "code",
   "execution_count": null,
   "id": "e164ea73",
   "metadata": {},
   "outputs": [],
   "source": []
  },
  {
   "cell_type": "code",
   "execution_count": 64,
   "id": "0aea8135",
   "metadata": {},
   "outputs": [],
   "source": [
    "s = 'this book'\n",
    "\n",
    "\n",
    "rever = s[::-1]"
   ]
  },
  {
   "cell_type": "code",
   "execution_count": 65,
   "id": "e62b5b4f",
   "metadata": {},
   "outputs": [
    {
     "name": "stdout",
     "output_type": "stream",
     "text": [
      "koob siht\n"
     ]
    }
   ],
   "source": [
    "print(rever)"
   ]
  },
  {
   "cell_type": "code",
   "execution_count": null,
   "id": "0ab6e0fb",
   "metadata": {},
   "outputs": [],
   "source": []
  },
  {
   "cell_type": "markdown",
   "id": "959a3c59",
   "metadata": {},
   "source": [
    "# Pattern problem\n",
    "\n",
    "A\\\n",
    "BB\\\n",
    "CCC\\\n",
    "DDDD"
   ]
  },
  {
   "cell_type": "code",
   "execution_count": null,
   "id": "6bdb0273",
   "metadata": {},
   "outputs": [],
   "source": []
  },
  {
   "cell_type": "code",
   "execution_count": 57,
   "id": "9df60cc8",
   "metadata": {},
   "outputs": [
    {
     "name": "stdout",
     "output_type": "stream",
     "text": [
      "A\n",
      "B B\n",
      "C C C\n",
      "D D D D\n"
     ]
    }
   ],
   "source": [
    "n = 4\n",
    "\n",
    "for i in range(1, n+1):\n",
    "    c = chr(i + ord('A') - 1)\n",
    "    s = (c + ' ') * i\n",
    "    print(s[:-1])"
   ]
  },
  {
   "cell_type": "code",
   "execution_count": null,
   "id": "0a429b83",
   "metadata": {},
   "outputs": [],
   "source": []
  },
  {
   "cell_type": "code",
   "execution_count": null,
   "id": "741845de",
   "metadata": {},
   "outputs": [],
   "source": []
  },
  {
   "cell_type": "markdown",
   "id": "951f31cd",
   "metadata": {},
   "source": [
    "# strip function"
   ]
  },
  {
   "cell_type": "code",
   "execution_count": null,
   "id": "e18ccc25",
   "metadata": {},
   "outputs": [],
   "source": []
  },
  {
   "cell_type": "code",
   "execution_count": 58,
   "id": "9ec1d41b",
   "metadata": {},
   "outputs": [
    {
     "name": "stdout",
     "output_type": "stream",
     "text": [
      "        Hello world      \n"
     ]
    }
   ],
   "source": [
    "s = '        Hello world      '\n",
    "print(s)"
   ]
  },
  {
   "cell_type": "code",
   "execution_count": 59,
   "id": "4af38f38",
   "metadata": {},
   "outputs": [
    {
     "data": {
      "text/plain": [
       "'Hello world      '"
      ]
     },
     "execution_count": 59,
     "metadata": {},
     "output_type": "execute_result"
    }
   ],
   "source": [
    "s.lstrip()  # left strip"
   ]
  },
  {
   "cell_type": "code",
   "execution_count": 62,
   "id": "73c44c90",
   "metadata": {},
   "outputs": [
    {
     "data": {
      "text/plain": [
       "'        Hello world'"
      ]
     },
     "execution_count": 62,
     "metadata": {},
     "output_type": "execute_result"
    }
   ],
   "source": [
    "s.rstrip() # right strip"
   ]
  },
  {
   "cell_type": "code",
   "execution_count": null,
   "id": "0de5382f",
   "metadata": {},
   "outputs": [],
   "source": []
  },
  {
   "cell_type": "code",
   "execution_count": 63,
   "id": "44971099",
   "metadata": {},
   "outputs": [
    {
     "data": {
      "text/plain": [
       "'Hello world'"
      ]
     },
     "execution_count": 63,
     "metadata": {},
     "output_type": "execute_result"
    }
   ],
   "source": [
    "s.strip() "
   ]
  },
  {
   "cell_type": "code",
   "execution_count": null,
   "id": "56b53a56",
   "metadata": {},
   "outputs": [],
   "source": []
  },
  {
   "cell_type": "code",
   "execution_count": null,
   "id": "487d8879",
   "metadata": {},
   "outputs": [],
   "source": []
  },
  {
   "cell_type": "markdown",
   "id": "445bd4e7",
   "metadata": {},
   "source": [
    "# Reverse the order of the words"
   ]
  },
  {
   "cell_type": "code",
   "execution_count": null,
   "id": "13e8de1b",
   "metadata": {},
   "outputs": [],
   "source": []
  },
  {
   "cell_type": "code",
   "execution_count": 66,
   "id": "97aac8ec",
   "metadata": {},
   "outputs": [],
   "source": [
    "s = 'this book'   # print it as 'book this'"
   ]
  },
  {
   "cell_type": "code",
   "execution_count": null,
   "id": "487e7f1a",
   "metadata": {},
   "outputs": [],
   "source": []
  },
  {
   "cell_type": "code",
   "execution_count": 67,
   "id": "5188a58e",
   "metadata": {},
   "outputs": [],
   "source": [
    "book = 'Harry Potter and the Half Blood Prince'"
   ]
  },
  {
   "cell_type": "code",
   "execution_count": 69,
   "id": "c406d694",
   "metadata": {},
   "outputs": [],
   "source": [
    "l = book.split()"
   ]
  },
  {
   "cell_type": "code",
   "execution_count": 70,
   "id": "d6259965",
   "metadata": {},
   "outputs": [
    {
     "name": "stdout",
     "output_type": "stream",
     "text": [
      "['Harry', 'Potter', 'and', 'the', 'Half', 'Blood', 'Prince']\n",
      "None <class 'list'>\n"
     ]
    }
   ],
   "source": [
    "print(print(l), type(l))"
   ]
  },
  {
   "cell_type": "code",
   "execution_count": null,
   "id": "661ac7b3",
   "metadata": {},
   "outputs": [],
   "source": []
  },
  {
   "cell_type": "code",
   "execution_count": 82,
   "id": "f5fd742a",
   "metadata": {},
   "outputs": [
    {
     "name": "stdout",
     "output_type": "stream",
     "text": [
      "Prince%Blood%Half%the%and%Potter%Harry\n"
     ]
    }
   ],
   "source": [
    "b = \"%\".join(l)\n",
    "print(b)"
   ]
  },
  {
   "cell_type": "code",
   "execution_count": null,
   "id": "b1b78cb8",
   "metadata": {},
   "outputs": [],
   "source": []
  },
  {
   "cell_type": "code",
   "execution_count": 73,
   "id": "33e34109",
   "metadata": {},
   "outputs": [
    {
     "name": "stdout",
     "output_type": "stream",
     "text": [
      "['Harry', 'Potter', 'and', 'the', 'Half', 'Blood', 'Prince']\n"
     ]
    }
   ],
   "source": [
    "print(l)"
   ]
  },
  {
   "cell_type": "code",
   "execution_count": 74,
   "id": "d10fbf29",
   "metadata": {},
   "outputs": [],
   "source": [
    "l = l[::-1]"
   ]
  },
  {
   "cell_type": "code",
   "execution_count": 75,
   "id": "ac175aa0",
   "metadata": {},
   "outputs": [
    {
     "name": "stdout",
     "output_type": "stream",
     "text": [
      "['Prince', 'Blood', 'Half', 'the', 'and', 'Potter', 'Harry']\n"
     ]
    }
   ],
   "source": [
    "print(l)"
   ]
  },
  {
   "cell_type": "code",
   "execution_count": 76,
   "id": "25a7bdbf",
   "metadata": {},
   "outputs": [],
   "source": [
    "s = ' '.join(l)"
   ]
  },
  {
   "cell_type": "code",
   "execution_count": 77,
   "id": "1ac8b99f",
   "metadata": {},
   "outputs": [
    {
     "name": "stdout",
     "output_type": "stream",
     "text": [
      "Prince Blood Half the and Potter Harry\n"
     ]
    }
   ],
   "source": [
    "print(s)"
   ]
  },
  {
   "cell_type": "code",
   "execution_count": null,
   "id": "1a71f006",
   "metadata": {},
   "outputs": [],
   "source": []
  },
  {
   "cell_type": "code",
   "execution_count": 95,
   "id": "cc054da8",
   "metadata": {},
   "outputs": [
    {
     "name": "stdout",
     "output_type": "stream",
     "text": [
      "Prince Blood Half the and Potter Harry\n"
     ]
    }
   ],
   "source": [
    "# writen in one line\n",
    "\n",
    "book = 'Harry Potter and the Half Blood Prince'\n",
    "\n",
    "s = book.split()\n",
    "r = s[::-1]\n",
    "rev = \" \".join(r)\n",
    "print(rev)"
   ]
  },
  {
   "cell_type": "code",
   "execution_count": null,
   "id": "49b0100e",
   "metadata": {},
   "outputs": [],
   "source": []
  },
  {
   "cell_type": "code",
   "execution_count": 98,
   "id": "ba76ed27",
   "metadata": {},
   "outputs": [
    {
     "name": "stdout",
     "output_type": "stream",
     "text": [
      "ecnirP doolB flaH eht dna rettoP yrraH\n",
      "['ecnirP', 'doolB', 'flaH', 'eht', 'dna', 'rettoP', 'yrraH']\n",
      "['yrraH', 'rettoP', 'dna', 'eht', 'flaH', 'doolB', 'ecnirP']\n",
      "yrraH rettoP dna eht flaH doolB ecnirP\n"
     ]
    }
   ],
   "source": [
    "book = 'Harry Potter and the Half Blood Prince'\n",
    "\n",
    "b = book[::-1]\n",
    "print(b)\n",
    "c = b.split()\n",
    "print(c)\n",
    "r = c[::-1]\n",
    "print(r)\n",
    "j = ' '.join(r)\n",
    "print(j)"
   ]
  },
  {
   "cell_type": "code",
   "execution_count": null,
   "id": "0ed5e21f",
   "metadata": {},
   "outputs": [],
   "source": []
  },
  {
   "cell_type": "code",
   "execution_count": null,
   "id": "113d85f1",
   "metadata": {},
   "outputs": [],
   "source": [
    " "
   ]
  },
  {
   "cell_type": "markdown",
   "id": "7af48050",
   "metadata": {},
   "source": [
    "# Format strings"
   ]
  },
  {
   "cell_type": "code",
   "execution_count": null,
   "id": "5f70b05c",
   "metadata": {},
   "outputs": [],
   "source": []
  },
  {
   "cell_type": "code",
   "execution_count": 1,
   "id": "b1279b23",
   "metadata": {},
   "outputs": [],
   "source": [
    "apple_count = 4\n",
    "orange_count= 10\n",
    "guava_count = 5\n",
    "\n",
    "# generate a string that says, 'I have 4 apples, 10 oranges and 5 guavas'"
   ]
  },
  {
   "cell_type": "code",
   "execution_count": 9,
   "id": "ce7bd6b7",
   "metadata": {},
   "outputs": [],
   "source": [
    "s = 'I have ' + str(apple_count)+' apples,' + str(orange_count) + ' oranges and ' + str(guava_count) + ' guavas.'\n",
    "\n",
    "# this works on the python 3.6 version and above\n",
    "# this wont work on the ide which are less than 3.6"
   ]
  },
  {
   "cell_type": "code",
   "execution_count": 5,
   "id": "195d5ecd",
   "metadata": {},
   "outputs": [
    {
     "name": "stdout",
     "output_type": "stream",
     "text": [
      "I have 4 apples,10 oranges and 5 guavas.\n"
     ]
    }
   ],
   "source": [
    "print(s)"
   ]
  },
  {
   "cell_type": "code",
   "execution_count": null,
   "id": "becfe41a",
   "metadata": {},
   "outputs": [],
   "source": []
  },
  {
   "cell_type": "code",
   "execution_count": 6,
   "id": "cb93c52e",
   "metadata": {},
   "outputs": [
    {
     "name": "stdout",
     "output_type": "stream",
     "text": [
      "I have 4 apples, 10 oranges and 5\n"
     ]
    }
   ],
   "source": [
    "s = f'I have {apple_count} apples, {orange_count} oranges and {guava_count}'\n",
    "\n",
    "print(s)"
   ]
  },
  {
   "cell_type": "code",
   "execution_count": null,
   "id": "20199d99",
   "metadata": {},
   "outputs": [],
   "source": []
  },
  {
   "cell_type": "code",
   "execution_count": 7,
   "id": "d783b272",
   "metadata": {},
   "outputs": [],
   "source": [
    "# this method works on the older version ide and any other  \n",
    "\n",
    "s = ('I have {} apples, {} oranges and {} gvauas').format(apple_count, orange_count, guava_count)"
   ]
  },
  {
   "cell_type": "code",
   "execution_count": 10,
   "id": "1e217ce3",
   "metadata": {},
   "outputs": [
    {
     "name": "stdout",
     "output_type": "stream",
     "text": [
      "I have 4 apples,10 oranges and 5 guavas.\n"
     ]
    }
   ],
   "source": [
    "print(s)"
   ]
  },
  {
   "cell_type": "code",
   "execution_count": null,
   "id": "9c094745",
   "metadata": {},
   "outputs": [],
   "source": []
  },
  {
   "cell_type": "code",
   "execution_count": 11,
   "id": "324d2560",
   "metadata": {},
   "outputs": [
    {
     "name": "stdout",
     "output_type": "stream",
     "text": [
      "I have 4 apples, 5 oranges and 10 gvauas\n"
     ]
    }
   ],
   "source": [
    "s = ('I have {0} apples, {2} oranges and {1} gvauas').format(apple_count, orange_count, guava_count)\n",
    "\n",
    "print(s)\n",
    "\n",
    "# by entering the indices number you can change the value"
   ]
  },
  {
   "cell_type": "code",
   "execution_count": null,
   "id": "73a37bab",
   "metadata": {},
   "outputs": [],
   "source": []
  },
  {
   "cell_type": "markdown",
   "id": "16340783",
   "metadata": {},
   "source": [
    "# Methods in Strings -\n",
    "https://www.scaler.com/topics/python/string-methods-python/"
   ]
  },
  {
   "cell_type": "code",
   "execution_count": null,
   "id": "14bf301d",
   "metadata": {},
   "outputs": [],
   "source": []
  },
  {
   "cell_type": "markdown",
   "id": "56f66988",
   "metadata": {},
   "source": [
    "# Docstrings"
   ]
  },
  {
   "cell_type": "code",
   "execution_count": null,
   "id": "98dd9dd8",
   "metadata": {},
   "outputs": [],
   "source": []
  },
  {
   "cell_type": "code",
   "execution_count": 12,
   "id": "e330a02a",
   "metadata": {},
   "outputs": [],
   "source": [
    "range?"
   ]
  },
  {
   "cell_type": "code",
   "execution_count": 13,
   "id": "42f5b762",
   "metadata": {},
   "outputs": [],
   "source": [
    "def square(x):\n",
    "    return x**2"
   ]
  },
  {
   "cell_type": "code",
   "execution_count": null,
   "id": "e3b20921",
   "metadata": {},
   "outputs": [],
   "source": []
  },
  {
   "cell_type": "code",
   "execution_count": null,
   "id": "018928af",
   "metadata": {},
   "outputs": [],
   "source": []
  },
  {
   "cell_type": "code",
   "execution_count": null,
   "id": "b7bb1198",
   "metadata": {},
   "outputs": [],
   "source": []
  },
  {
   "cell_type": "code",
   "execution_count": null,
   "id": "286d20ad",
   "metadata": {},
   "outputs": [],
   "source": []
  }
 ],
 "metadata": {
  "kernelspec": {
   "display_name": "Python 3 (ipykernel)",
   "language": "python",
   "name": "python3"
  },
  "language_info": {
   "codemirror_mode": {
    "name": "ipython",
    "version": 3
   },
   "file_extension": ".py",
   "mimetype": "text/x-python",
   "name": "python",
   "nbconvert_exporter": "python",
   "pygments_lexer": "ipython3",
   "version": "3.10.11"
  }
 },
 "nbformat": 4,
 "nbformat_minor": 5
}
