{
 "cells": [
  {
   "cell_type": "markdown",
   "id": "5fa0c58b",
   "metadata": {},
   "source": [
    "# OOPS - Object Oriented Programming Style\n",
    "\n",
    "    * Object-oriented programming aims to implement real-world entities like ingeritance, hiding, polymorphism etc in\n",
    "      programming. The main aim of OOP is to bind together the data and the functions that operate on them so that no other\n",
    "      part of the code can access this data except that function.\n",
    "    * Classes and objects are objects are two main aspects of OOPs.\n",
    "    * Classes are the user-defined blueprints that help us create an objects.\n",
    "    * Objects are the instances of a particular class"
   ]
  },
  {
   "cell_type": "code",
   "execution_count": 11,
   "id": "69651572",
   "metadata": {},
   "outputs": [],
   "source": [
    "class Car:\n",
    "    name = 'Maruti 800'\n",
    "    color = 'Red'\n",
    "    age = 2"
   ]
  },
  {
   "cell_type": "code",
   "execution_count": 4,
   "id": "e05ec17c",
   "metadata": {},
   "outputs": [],
   "source": [
    "maruti = Car()"
   ]
  },
  {
   "cell_type": "code",
   "execution_count": 5,
   "id": "8f2e8fe2",
   "metadata": {},
   "outputs": [
    {
     "data": {
      "text/plain": [
       "<__main__.Car at 0x22816ebaf50>"
      ]
     },
     "execution_count": 5,
     "metadata": {},
     "output_type": "execute_result"
    }
   ],
   "source": [
    "maruti"
   ]
  },
  {
   "cell_type": "code",
   "execution_count": 6,
   "id": "d5978d5f",
   "metadata": {},
   "outputs": [
    {
     "data": {
      "text/plain": [
       "'Maruti 800'"
      ]
     },
     "execution_count": 6,
     "metadata": {},
     "output_type": "execute_result"
    }
   ],
   "source": [
    "maruti.name"
   ]
  },
  {
   "cell_type": "code",
   "execution_count": 7,
   "id": "a51e4710",
   "metadata": {},
   "outputs": [
    {
     "data": {
      "text/plain": [
       "'Red'"
      ]
     },
     "execution_count": 7,
     "metadata": {},
     "output_type": "execute_result"
    }
   ],
   "source": [
    "maruti.color"
   ]
  },
  {
   "cell_type": "code",
   "execution_count": 9,
   "id": "5e7f0a58",
   "metadata": {},
   "outputs": [
    {
     "data": {
      "text/plain": [
       "2"
      ]
     },
     "execution_count": 9,
     "metadata": {},
     "output_type": "execute_result"
    }
   ],
   "source": [
    "maruti.age"
   ]
  },
  {
   "cell_type": "code",
   "execution_count": null,
   "id": "0d35ba0f",
   "metadata": {},
   "outputs": [],
   "source": []
  },
  {
   "cell_type": "code",
   "execution_count": 12,
   "id": "c5d381a7",
   "metadata": {},
   "outputs": [],
   "source": [
    "benz = Car()"
   ]
  },
  {
   "cell_type": "code",
   "execution_count": 13,
   "id": "e5f61af4",
   "metadata": {},
   "outputs": [],
   "source": [
    "benz.name = 'Mercedes'\n",
    "benz.color = 'Silver'\n",
    "benz.age = 3"
   ]
  },
  {
   "cell_type": "code",
   "execution_count": 14,
   "id": "fcb5f9c0",
   "metadata": {},
   "outputs": [
    {
     "data": {
      "text/plain": [
       "<__main__.Car at 0x22816e6f590>"
      ]
     },
     "execution_count": 14,
     "metadata": {},
     "output_type": "execute_result"
    }
   ],
   "source": [
    "benz"
   ]
  },
  {
   "cell_type": "code",
   "execution_count": 15,
   "id": "b6fe9339",
   "metadata": {},
   "outputs": [
    {
     "data": {
      "text/plain": [
       "'Mercedes'"
      ]
     },
     "execution_count": 15,
     "metadata": {},
     "output_type": "execute_result"
    }
   ],
   "source": [
    "benz.name"
   ]
  },
  {
   "cell_type": "code",
   "execution_count": 16,
   "id": "7abba154",
   "metadata": {},
   "outputs": [
    {
     "name": "stdout",
     "output_type": "stream",
     "text": [
      "Mercedes Silver 3\n"
     ]
    }
   ],
   "source": [
    "print(benz.name, benz.color, benz.age)"
   ]
  },
  {
   "cell_type": "code",
   "execution_count": 17,
   "id": "d1b3466b",
   "metadata": {},
   "outputs": [
    {
     "name": "stdout",
     "output_type": "stream",
     "text": [
      "Maruti 800 Red 2\n"
     ]
    }
   ],
   "source": [
    "print(maruti.name, maruti.color, maruti.age)"
   ]
  },
  {
   "cell_type": "code",
   "execution_count": null,
   "id": "c0b609c2",
   "metadata": {},
   "outputs": [],
   "source": []
  },
  {
   "cell_type": "code",
   "execution_count": 19,
   "id": "2f134ab8",
   "metadata": {},
   "outputs": [],
   "source": [
    "benz.name = 'Mercedes'\n",
    "benz.color = 'Silver'\n",
    "benz.age = 3\n",
    "benz.fuel = 'Petrol'"
   ]
  },
  {
   "cell_type": "code",
   "execution_count": 20,
   "id": "1f377798",
   "metadata": {},
   "outputs": [
    {
     "data": {
      "text/plain": [
       "'Petrol'"
      ]
     },
     "execution_count": 20,
     "metadata": {},
     "output_type": "execute_result"
    }
   ],
   "source": [
    "benz.fuel"
   ]
  },
  {
   "cell_type": "code",
   "execution_count": 21,
   "id": "170417de",
   "metadata": {},
   "outputs": [
    {
     "name": "stdout",
     "output_type": "stream",
     "text": [
      "Mercedes Silver 3 Petrol\n"
     ]
    }
   ],
   "source": [
    "print(benz.name, benz.color, benz.age, benz.fuel)"
   ]
  },
  {
   "cell_type": "code",
   "execution_count": 23,
   "id": "da01291e",
   "metadata": {},
   "outputs": [],
   "source": [
    "# in python it allows us to add as many properties as we want at run time"
   ]
  },
  {
   "cell_type": "code",
   "execution_count": null,
   "id": "9d2cc678",
   "metadata": {},
   "outputs": [],
   "source": []
  },
  {
   "cell_type": "code",
   "execution_count": 26,
   "id": "d17a2bf6",
   "metadata": {},
   "outputs": [],
   "source": [
    "class car:\n",
    "    name = 'abc'\n",
    "    modle = 'xyz'\n",
    "    milage = 'km'"
   ]
  },
  {
   "cell_type": "code",
   "execution_count": 30,
   "id": "347e323e",
   "metadata": {},
   "outputs": [],
   "source": [
    "nd = car()"
   ]
  },
  {
   "cell_type": "code",
   "execution_count": 29,
   "id": "b967a477",
   "metadata": {},
   "outputs": [
    {
     "name": "stdout",
     "output_type": "stream",
     "text": [
      "<__main__.car object at 0x0000022817BB9790>\n"
     ]
    }
   ],
   "source": [
    "print(new_brand)"
   ]
  },
  {
   "cell_type": "code",
   "execution_count": 31,
   "id": "cb09a8d4",
   "metadata": {},
   "outputs": [
    {
     "name": "stdout",
     "output_type": "stream",
     "text": [
      "abc xyz km\n"
     ]
    }
   ],
   "source": [
    "print(nd.name, nd.modle, nd.milage)"
   ]
  },
  {
   "cell_type": "code",
   "execution_count": null,
   "id": "0217fe4a",
   "metadata": {},
   "outputs": [],
   "source": []
  },
  {
   "cell_type": "code",
   "execution_count": null,
   "id": "bd993ea3",
   "metadata": {},
   "outputs": [],
   "source": []
  },
  {
   "cell_type": "code",
   "execution_count": 1,
   "id": "51ab65bd",
   "metadata": {},
   "outputs": [],
   "source": [
    "class Car:\n",
    "    pass"
   ]
  },
  {
   "cell_type": "code",
   "execution_count": 3,
   "id": "2c5126cf",
   "metadata": {},
   "outputs": [
    {
     "ename": "SyntaxError",
     "evalue": "incomplete input (1891449418.py, line 4)",
     "output_type": "error",
     "traceback": [
      "\u001b[1;36m  Cell \u001b[1;32mIn[3], line 4\u001b[1;36m\u001b[0m\n\u001b[1;33m    \u001b[0m\n\u001b[1;37m    ^\u001b[0m\n\u001b[1;31mSyntaxError\u001b[0m\u001b[1;31m:\u001b[0m incomplete input\n"
     ]
    }
   ],
   "source": [
    "# if i do not write anything under class it wont accept it so write pass\n",
    "\n",
    "class Car:\n",
    "    "
   ]
  },
  {
   "cell_type": "code",
   "execution_count": null,
   "id": "d64286a1",
   "metadata": {},
   "outputs": [],
   "source": []
  },
  {
   "cell_type": "code",
   "execution_count": 5,
   "id": "1315697d",
   "metadata": {},
   "outputs": [],
   "source": [
    "maruti = Car()\n",
    "maruti.name = 'maruti 800'"
   ]
  },
  {
   "cell_type": "code",
   "execution_count": 6,
   "id": "9d632ac2",
   "metadata": {},
   "outputs": [],
   "source": [
    "maruti.age = 2"
   ]
  },
  {
   "cell_type": "code",
   "execution_count": 7,
   "id": "c4b7a2aa",
   "metadata": {},
   "outputs": [],
   "source": [
    "maruti.color = 'Blue'"
   ]
  },
  {
   "cell_type": "code",
   "execution_count": 8,
   "id": "f94185f4",
   "metadata": {},
   "outputs": [
    {
     "name": "stdout",
     "output_type": "stream",
     "text": [
      "Blue maruti 800 2\n"
     ]
    }
   ],
   "source": [
    "print(maruti.color, maruti.name, maruti.age)"
   ]
  },
  {
   "cell_type": "code",
   "execution_count": null,
   "id": "f913f3dc",
   "metadata": {},
   "outputs": [],
   "source": []
  },
  {
   "cell_type": "code",
   "execution_count": 9,
   "id": "7bd5bcc2",
   "metadata": {},
   "outputs": [],
   "source": [
    "# we can write funcitons inside the class\n",
    "\n",
    "class Car():\n",
    "    name = 'maruti 800'\n",
    "    color= 'red'\n",
    "    age = '2'\n",
    "    \n",
    "    def describe(self):\n",
    "        print('This is a car function. Describe cars here.')"
   ]
  },
  {
   "cell_type": "code",
   "execution_count": 12,
   "id": "64e7f489",
   "metadata": {},
   "outputs": [
    {
     "name": "stdout",
     "output_type": "stream",
     "text": [
      "This is a car function. Describe cars here.\n"
     ]
    }
   ],
   "source": [
    "maruti = Car()\n",
    "maruti.describe()"
   ]
  },
  {
   "cell_type": "code",
   "execution_count": 13,
   "id": "b91c4e1b",
   "metadata": {},
   "outputs": [
    {
     "name": "stdout",
     "output_type": "stream",
     "text": [
      "This is a car function. Describe cars here.\n"
     ]
    }
   ],
   "source": [
    "benz = Car()\n",
    "benz.describe()"
   ]
  },
  {
   "cell_type": "code",
   "execution_count": null,
   "id": "8a062bd0",
   "metadata": {},
   "outputs": [],
   "source": []
  },
  {
   "cell_type": "markdown",
   "id": "250c024e",
   "metadata": {},
   "source": [
    "# Self argument\n",
    "\n",
    "    * The first argument of a method of a class is generally referred as 'self'.\n",
    "    * Self refers to the calling object.\n",
    "    * This argument is passed implicitly by the python interpreter and need not be mentioned while calling."
   ]
  },
  {
   "cell_type": "code",
   "execution_count": 22,
   "id": "ee72add0",
   "metadata": {},
   "outputs": [],
   "source": [
    "class Car:\n",
    "    def describe(self):\n",
    "        print('Car name =', self.name)\n",
    "        print('Car color =', self.color)\n",
    "        print('Car age =', self.age)\n",
    "        \n",
    "    def isBanned(self):\n",
    "#         return self.age > 15\n",
    "        if self.age > 15:\n",
    "            return True\n",
    "        else:\n",
    "            return False"
   ]
  },
  {
   "cell_type": "code",
   "execution_count": null,
   "id": "6faaf5c1",
   "metadata": {},
   "outputs": [],
   "source": []
  },
  {
   "cell_type": "code",
   "execution_count": 15,
   "id": "258e8152",
   "metadata": {},
   "outputs": [],
   "source": [
    "benz = Car()\n",
    "benz.name = 'Mercedes'\n",
    "benz.color = 'Silver'\n",
    "benz.age = 3"
   ]
  },
  {
   "cell_type": "code",
   "execution_count": 25,
   "id": "dff549c5",
   "metadata": {},
   "outputs": [],
   "source": [
    "maruti = Car()\n",
    "maruti.name = 'maruti 800'\n",
    "maruti.color = 'red'\n",
    "maruti.age = 20"
   ]
  },
  {
   "cell_type": "code",
   "execution_count": null,
   "id": "9caa8bda",
   "metadata": {},
   "outputs": [],
   "source": []
  },
  {
   "cell_type": "code",
   "execution_count": 18,
   "id": "5821838e",
   "metadata": {},
   "outputs": [
    {
     "name": "stdout",
     "output_type": "stream",
     "text": [
      "Car name = Mercedes\n",
      "Car color = Silver\n",
      "Car age = 3\n"
     ]
    }
   ],
   "source": [
    "benz.describe()"
   ]
  },
  {
   "cell_type": "code",
   "execution_count": null,
   "id": "c82cc02f",
   "metadata": {},
   "outputs": [],
   "source": []
  },
  {
   "cell_type": "code",
   "execution_count": 26,
   "id": "f12148c6",
   "metadata": {},
   "outputs": [
    {
     "name": "stdout",
     "output_type": "stream",
     "text": [
      "Car name = maruti 800\n",
      "Car color = red\n",
      "Car age = 20\n"
     ]
    }
   ],
   "source": [
    "maruti.describe()"
   ]
  },
  {
   "cell_type": "markdown",
   "id": "f783d9f3",
   "metadata": {},
   "source": []
  },
  {
   "cell_type": "code",
   "execution_count": null,
   "id": "d5dbfd9d",
   "metadata": {},
   "outputs": [],
   "source": []
  },
  {
   "cell_type": "markdown",
   "id": "4123fefb",
   "metadata": {},
   "source": [
    "# __init__() Method\n",
    "\n",
    "    * __init__() method is a special method inside a class that allows us to define the properties/attributes while creating it.\n",
    "    * It is special method that is called/invoked automatically when the object is created. The user need not call it.\n",
    "    * It is similar to \"Constuctors\" in C++ and Java.\n",
    "    \n",
    "Suntax:\n",
    "\n",
    "    Class Car:\n",
    "            def __init__(self):\n",
    "                ...initialisation..."
   ]
  },
  {
   "cell_type": "code",
   "execution_count": null,
   "id": "86b3eeb9",
   "metadata": {},
   "outputs": [],
   "source": [
    "class Car:\n",
    "    def __init__(self):\n",
    "          ...initialisation..."
   ]
  },
  {
   "cell_type": "code",
   "execution_count": null,
   "id": "e23295ce",
   "metadata": {},
   "outputs": [],
   "source": []
  },
  {
   "cell_type": "code",
   "execution_count": 27,
   "id": "a78f6390",
   "metadata": {},
   "outputs": [],
   "source": [
    "class Car:\n",
    "    def __init__(self, name, color, age):\n",
    "        self.name = name\n",
    "        self.color = color\n",
    "        self. age = age\n",
    "        \n",
    "    def describe(self):\n",
    "        print('Car name =', self.name)\n",
    "        print('Car color =', self.color)\n",
    "        print('Car age =', self.age)\n",
    "        \n",
    "    def isBanned(self):\n",
    "#         return self.age > 15\n",
    "        if self.age > 15:\n",
    "            return True\n",
    "        else:\n",
    "            return False"
   ]
  },
  {
   "cell_type": "code",
   "execution_count": null,
   "id": "d00af691",
   "metadata": {},
   "outputs": [],
   "source": []
  },
  {
   "cell_type": "code",
   "execution_count": 28,
   "id": "a5a37038",
   "metadata": {},
   "outputs": [],
   "source": [
    "class Car:\n",
    "    def __init__(self, name, color, age):\n",
    "        self.name = name\n",
    "        self.color = color\n",
    "        self. age = age"
   ]
  },
  {
   "cell_type": "code",
   "execution_count": null,
   "id": "62fc0e8f",
   "metadata": {},
   "outputs": [],
   "source": [
    "benz = Car('Mercedes', 'Silver', 3)"
   ]
  },
  {
   "cell_type": "code",
   "execution_count": null,
   "id": "dcf9332d",
   "metadata": {},
   "outputs": [],
   "source": []
  },
  {
   "cell_type": "code",
   "execution_count": 30,
   "id": "95746eed",
   "metadata": {},
   "outputs": [],
   "source": [
    "class Car:\n",
    "    def __init__(self, name = 'Maruti 800', color = 'Red', age = 2):\n",
    "        self.name = name\n",
    "        self.color = color\n",
    "        self. age = age"
   ]
  },
  {
   "cell_type": "code",
   "execution_count": 31,
   "id": "9f07232e",
   "metadata": {},
   "outputs": [],
   "source": [
    "maruti = Car()"
   ]
  },
  {
   "cell_type": "code",
   "execution_count": 32,
   "id": "51999828",
   "metadata": {},
   "outputs": [
    {
     "data": {
      "text/plain": [
       "'Maruti 800'"
      ]
     },
     "execution_count": 32,
     "metadata": {},
     "output_type": "execute_result"
    }
   ],
   "source": [
    "maruti.name "
   ]
  },
  {
   "cell_type": "code",
   "execution_count": 33,
   "id": "adba5ca7",
   "metadata": {},
   "outputs": [],
   "source": [
    "# So here you can assign default values and it will get printed if there is not modified value assigned"
   ]
  },
  {
   "cell_type": "code",
   "execution_count": null,
   "id": "1a5f1a46",
   "metadata": {},
   "outputs": [],
   "source": []
  },
  {
   "cell_type": "code",
   "execution_count": 39,
   "id": "3c0fc437",
   "metadata": {},
   "outputs": [],
   "source": [
    "class Car:\n",
    "    def __init__(self, name, color, age):\n",
    "        self.name = name\n",
    "        self.color = color\n",
    "        self. age = age\n",
    "        \n",
    "    def isBanned(self):\n",
    "#         return self.age > 15\n",
    "        if self.age > 15:\n",
    "            return True\n",
    "        else:\n",
    "            return False"
   ]
  },
  {
   "cell_type": "code",
   "execution_count": null,
   "id": "a79098d5",
   "metadata": {},
   "outputs": [],
   "source": []
  },
  {
   "cell_type": "code",
   "execution_count": 40,
   "id": "b70bfc5f",
   "metadata": {},
   "outputs": [
    {
     "data": {
      "text/plain": [
       "False"
      ]
     },
     "execution_count": 40,
     "metadata": {},
     "output_type": "execute_result"
    }
   ],
   "source": [
    "benz.isBanned()"
   ]
  },
  {
   "cell_type": "code",
   "execution_count": null,
   "id": "617eaa5b",
   "metadata": {},
   "outputs": [],
   "source": []
  },
  {
   "cell_type": "code",
   "execution_count": 41,
   "id": "246ac0ee",
   "metadata": {},
   "outputs": [
    {
     "data": {
      "text/plain": [
       "True"
      ]
     },
     "execution_count": 41,
     "metadata": {},
     "output_type": "execute_result"
    }
   ],
   "source": [
    "maruti = Car('Maruti 800', 'Red', 20)\n",
    "\n",
    "maruti.isBanned()"
   ]
  },
  {
   "cell_type": "code",
   "execution_count": null,
   "id": "0b2fb547",
   "metadata": {},
   "outputs": [],
   "source": []
  },
  {
   "cell_type": "code",
   "execution_count": null,
   "id": "6284cdfd",
   "metadata": {},
   "outputs": [],
   "source": []
  },
  {
   "cell_type": "code",
   "execution_count": 42,
   "id": "237e6066",
   "metadata": {},
   "outputs": [],
   "source": [
    "class Wizard:\n",
    "    def __init__(self, name, age, spell):\n",
    "        self.name = name\n",
    "        self.age = age\n",
    "        self.spell = spell\n",
    "        \n",
    "    def magic(self):\n",
    "        print(\"Cast spell - \", self.spell)"
   ]
  },
  {
   "cell_type": "code",
   "execution_count": 44,
   "id": "66dd1e3e",
   "metadata": {},
   "outputs": [],
   "source": [
    "harry = Wizard(\"Harry Potter\", 18, 'Expelliarmus')"
   ]
  },
  {
   "cell_type": "code",
   "execution_count": 45,
   "id": "518248b4",
   "metadata": {},
   "outputs": [
    {
     "name": "stdout",
     "output_type": "stream",
     "text": [
      "Cast spell -  Expelliarmus\n"
     ]
    }
   ],
   "source": [
    "harry.magic()"
   ]
  },
  {
   "cell_type": "code",
   "execution_count": 46,
   "id": "b951dd9c",
   "metadata": {},
   "outputs": [],
   "source": [
    "voldy = Wizard('He who must not be named', 76, \"Avada Kedavra\") "
   ]
  },
  {
   "cell_type": "code",
   "execution_count": 47,
   "id": "a7aa0094",
   "metadata": {},
   "outputs": [
    {
     "name": "stdout",
     "output_type": "stream",
     "text": [
      "Cast spell -  Avada Kedavra\n"
     ]
    }
   ],
   "source": [
    "voldy.magic()"
   ]
  },
  {
   "cell_type": "code",
   "execution_count": null,
   "id": "cd96236b",
   "metadata": {
    "collapsed": true
   },
   "outputs": [],
   "source": []
  },
  {
   "cell_type": "code",
   "execution_count": 10,
   "id": "3ae66a6f",
   "metadata": {},
   "outputs": [],
   "source": [
    "class Wizard:\n",
    "    def __init__(self, name, age, spell):\n",
    "        self.name = name\n",
    "        self.age = age\n",
    "        self.spell = spell\n",
    "        \n",
    "    def magic(self):\n",
    "        print('Cast spell: ', self.spell)\n",
    "        print('name is: ', self.name)\n",
    "        print('age is ', self.age)"
   ]
  },
  {
   "cell_type": "code",
   "execution_count": 11,
   "id": "222145d9",
   "metadata": {},
   "outputs": [],
   "source": [
    "harry = Wizard('Happy', 18, 'What')"
   ]
  },
  {
   "cell_type": "code",
   "execution_count": 12,
   "id": "114a32c9",
   "metadata": {},
   "outputs": [
    {
     "name": "stdout",
     "output_type": "stream",
     "text": [
      "Cast spell:  What\n",
      "name is:  Happy\n",
      "age is  18\n"
     ]
    }
   ],
   "source": [
    "harry.magic()"
   ]
  },
  {
   "cell_type": "code",
   "execution_count": 13,
   "id": "a71ff58f",
   "metadata": {},
   "outputs": [
    {
     "name": "stdout",
     "output_type": "stream",
     "text": [
      "Cast spell:  What\n",
      "name is:  Happy\n",
      "age is  18\n"
     ]
    },
    {
     "data": {
      "text/plain": [
       "False"
      ]
     },
     "execution_count": 13,
     "metadata": {},
     "output_type": "execute_result"
    }
   ],
   "source": [
    "harry.magic() == 'inhit'"
   ]
  },
  {
   "cell_type": "code",
   "execution_count": null,
   "id": "6dbd2e1a",
   "metadata": {},
   "outputs": [],
   "source": []
  },
  {
   "cell_type": "code",
   "execution_count": 14,
   "id": "cbdf74f9",
   "metadata": {},
   "outputs": [
    {
     "name": "stdout",
     "output_type": "stream",
     "text": [
      "Cast spell:  What\n",
      "name is:  Happy\n",
      "age is  18\n"
     ]
    }
   ],
   "source": [
    "harry.magic() "
   ]
  },
  {
   "cell_type": "code",
   "execution_count": 19,
   "id": "a97b1d53",
   "metadata": {},
   "outputs": [
    {
     "ename": "NameError",
     "evalue": "name 'self' is not defined",
     "output_type": "error",
     "traceback": [
      "\u001b[1;31m---------------------------------------------------------------------------\u001b[0m",
      "\u001b[1;31mNameError\u001b[0m                                 Traceback (most recent call last)",
      "Cell \u001b[1;32mIn[19], line 1\u001b[0m\n\u001b[1;32m----> 1\u001b[0m harry\u001b[38;5;241m.\u001b[39mmagic(\u001b[38;5;28mself\u001b[39m\u001b[38;5;241m.\u001b[39mage)\n",
      "\u001b[1;31mNameError\u001b[0m: name 'self' is not defined"
     ]
    }
   ],
   "source": [
    "harry.magic(self.age)"
   ]
  },
  {
   "cell_type": "code",
   "execution_count": null,
   "id": "496257d0",
   "metadata": {},
   "outputs": [],
   "source": []
  },
  {
   "cell_type": "markdown",
   "id": "ea6c8dca",
   "metadata": {},
   "source": [
    "# Encapsulation"
   ]
  },
  {
   "cell_type": "code",
   "execution_count": 7,
   "id": "b8485118",
   "metadata": {},
   "outputs": [],
   "source": [
    "# encapsulating the code inside the class is called encapsulation\n",
    "\n",
    "# Wraping up the data properties and the associated methods in a single entity\n",
    "\n",
    "# method = funcitons"
   ]
  },
  {
   "cell_type": "code",
   "execution_count": null,
   "id": "70beab7b",
   "metadata": {},
   "outputs": [],
   "source": []
  },
  {
   "cell_type": "code",
   "execution_count": 2,
   "id": "491a13b0",
   "metadata": {},
   "outputs": [],
   "source": [
    "class harry:\n",
    "    def __init__(self, name, age, spell):\n",
    "        self.name = name\n",
    "        self.age = age\n",
    "        self.spell = spell\n",
    "        \n",
    "    def magic(self):\n",
    "        print('Cast spell: ', self.spell)\n",
    "        print('name is: ', self.name)\n",
    "        print('age is ', self.age)"
   ]
  },
  {
   "cell_type": "code",
   "execution_count": 4,
   "id": "99bddee1",
   "metadata": {},
   "outputs": [],
   "source": [
    "prasad = harry('Prasad', 28, 'abra ka dabra')"
   ]
  },
  {
   "cell_type": "code",
   "execution_count": 5,
   "id": "844bd244",
   "metadata": {},
   "outputs": [
    {
     "data": {
      "text/plain": [
       "<__main__.harry at 0x143a1caedd0>"
      ]
     },
     "execution_count": 5,
     "metadata": {},
     "output_type": "execute_result"
    }
   ],
   "source": [
    "prasad"
   ]
  },
  {
   "cell_type": "code",
   "execution_count": 6,
   "id": "5f6ecfca",
   "metadata": {},
   "outputs": [
    {
     "name": "stdout",
     "output_type": "stream",
     "text": [
      "Cast spell:  abra ka dabra\n",
      "name is:  Prasad\n",
      "age is  28\n"
     ]
    }
   ],
   "source": [
    "prasad.magic()"
   ]
  },
  {
   "cell_type": "code",
   "execution_count": null,
   "id": "21279c59",
   "metadata": {},
   "outputs": [],
   "source": []
  },
  {
   "cell_type": "markdown",
   "id": "eb79c927",
   "metadata": {},
   "source": [
    "# Data Abstraction\n",
    "\n",
    "The act of giding the inner workings of your class"
   ]
  },
  {
   "cell_type": "code",
   "execution_count": null,
   "id": "3721a4be",
   "metadata": {},
   "outputs": [],
   "source": []
  },
  {
   "cell_type": "code",
   "execution_count": null,
   "id": "267e88e7",
   "metadata": {},
   "outputs": [],
   "source": []
  },
  {
   "cell_type": "code",
   "execution_count": 8,
   "id": "aa936b4a",
   "metadata": {},
   "outputs": [],
   "source": [
    "import math\n"
   ]
  },
  {
   "cell_type": "code",
   "execution_count": 9,
   "id": "51ffcd30",
   "metadata": {},
   "outputs": [
    {
     "data": {
      "text/plain": [
       "120"
      ]
     },
     "execution_count": 9,
     "metadata": {},
     "output_type": "execute_result"
    }
   ],
   "source": [
    "math.factorial(5)"
   ]
  },
  {
   "cell_type": "markdown",
   "id": "9c28a488",
   "metadata": {},
   "source": [
    "here we do not know what factorial method is doing here inside. but, looking at the name we know it gives factorial of a number"
   ]
  },
  {
   "cell_type": "code",
   "execution_count": null,
   "id": "583c89f7",
   "metadata": {},
   "outputs": [],
   "source": []
  },
  {
   "cell_type": "code",
   "execution_count": null,
   "id": "8e3435d4",
   "metadata": {},
   "outputs": [],
   "source": []
  },
  {
   "cell_type": "code",
   "execution_count": null,
   "id": "ba4c6cf4",
   "metadata": {},
   "outputs": [],
   "source": []
  },
  {
   "cell_type": "code",
   "execution_count": null,
   "id": "14a025e3",
   "metadata": {},
   "outputs": [],
   "source": []
  },
  {
   "cell_type": "markdown",
   "id": "e8f43367",
   "metadata": {},
   "source": [
    "# Everything in python is an object"
   ]
  },
  {
   "cell_type": "code",
   "execution_count": null,
   "id": "5f0f7356",
   "metadata": {},
   "outputs": [],
   "source": []
  },
  {
   "cell_type": "code",
   "execution_count": 10,
   "id": "b05fc07a",
   "metadata": {},
   "outputs": [
    {
     "name": "stdout",
     "output_type": "stream",
     "text": [
      "5 <class 'int'>\n"
     ]
    }
   ],
   "source": [
    "a = 5\n",
    "print(a, type(a))"
   ]
  },
  {
   "cell_type": "code",
   "execution_count": 11,
   "id": "ec7a9380",
   "metadata": {},
   "outputs": [
    {
     "name": "stdout",
     "output_type": "stream",
     "text": [
      "<class 'function'>\n"
     ]
    }
   ],
   "source": [
    "b = 'hello'\n",
    "c = 3544985.343232\n",
    "\n",
    "def hello():\n",
    "    print('hello world')\n",
    "    \n",
    "print(type(hello))"
   ]
  },
  {
   "cell_type": "code",
   "execution_count": null,
   "id": "3db57cb0",
   "metadata": {},
   "outputs": [],
   "source": []
  },
  {
   "cell_type": "code",
   "execution_count": 15,
   "id": "89b3cc86",
   "metadata": {},
   "outputs": [],
   "source": [
    "# type is a class, but it is mapping/pointing to an object 'hello world',inside a class 'str'\n",
    "# b and c were pointing towords an objects of a class internally"
   ]
  },
  {
   "cell_type": "code",
   "execution_count": null,
   "id": "db8df0a5",
   "metadata": {},
   "outputs": [],
   "source": []
  },
  {
   "cell_type": "markdown",
   "id": "0acc1931",
   "metadata": {},
   "source": [
    "# Modularity\n",
    "\n",
    "Dividing your code in blocks of logic - fucntions"
   ]
  },
  {
   "cell_type": "code",
   "execution_count": null,
   "id": "9db6e97f",
   "metadata": {},
   "outputs": [],
   "source": []
  },
  {
   "cell_type": "code",
   "execution_count": null,
   "id": "c976afee",
   "metadata": {},
   "outputs": [],
   "source": []
  },
  {
   "cell_type": "markdown",
   "id": "6749d76a",
   "metadata": {},
   "source": [
    "# OOPS Concepts\n",
    "\n",
    "##### DEMPI\n",
    "\n",
    "1. Data Abstraction\n",
    "2. Encapsulation\n",
    "3. Modularity\n",
    "4. Polymorphism\n",
    "5. Inheritance"
   ]
  },
  {
   "cell_type": "code",
   "execution_count": null,
   "id": "c9598780",
   "metadata": {},
   "outputs": [],
   "source": []
  },
  {
   "cell_type": "code",
   "execution_count": 16,
   "id": "cda11ca3",
   "metadata": {},
   "outputs": [
    {
     "data": {
      "text/plain": [
       "['__add__',\n",
       " '__class__',\n",
       " '__class_getitem__',\n",
       " '__contains__',\n",
       " '__delattr__',\n",
       " '__delitem__',\n",
       " '__dir__',\n",
       " '__doc__',\n",
       " '__eq__',\n",
       " '__format__',\n",
       " '__ge__',\n",
       " '__getattribute__',\n",
       " '__getitem__',\n",
       " '__getstate__',\n",
       " '__gt__',\n",
       " '__hash__',\n",
       " '__iadd__',\n",
       " '__imul__',\n",
       " '__init__',\n",
       " '__init_subclass__',\n",
       " '__iter__',\n",
       " '__le__',\n",
       " '__len__',\n",
       " '__lt__',\n",
       " '__mul__',\n",
       " '__ne__',\n",
       " '__new__',\n",
       " '__reduce__',\n",
       " '__reduce_ex__',\n",
       " '__repr__',\n",
       " '__reversed__',\n",
       " '__rmul__',\n",
       " '__setattr__',\n",
       " '__setitem__',\n",
       " '__sizeof__',\n",
       " '__str__',\n",
       " '__subclasshook__',\n",
       " 'append',\n",
       " 'clear',\n",
       " 'copy',\n",
       " 'count',\n",
       " 'extend',\n",
       " 'index',\n",
       " 'insert',\n",
       " 'pop',\n",
       " 'remove',\n",
       " 'reverse',\n",
       " 'sort']"
      ]
     },
     "execution_count": 16,
     "metadata": {},
     "output_type": "execute_result"
    }
   ],
   "source": [
    "a = []\n",
    "\n",
    "dir(a)\n",
    "\n",
    "# dir(a) it will give us all the method difined on the class list\n",
    "# dunder - double underscore"
   ]
  },
  {
   "cell_type": "code",
   "execution_count": null,
   "id": "d373b85b",
   "metadata": {},
   "outputs": [],
   "source": []
  },
  {
   "cell_type": "code",
   "execution_count": null,
   "id": "3a71262a",
   "metadata": {},
   "outputs": [],
   "source": []
  },
  {
   "cell_type": "code",
   "execution_count": 21,
   "id": "cd1d338a",
   "metadata": {},
   "outputs": [
    {
     "name": "stdout",
     "output_type": "stream",
     "text": [
      "<__main__.Car.Seat object at 0x00000143A1E0BA90>\n",
      "Grey\n"
     ]
    }
   ],
   "source": [
    "class Car:\n",
    "            \n",
    "    class Seat:\n",
    "        def __init__(self):\n",
    "            self.color = \"Grey\"\n",
    "            \n",
    "    def __init__(self):\n",
    "        self.name = 'Lamborghini'\n",
    "\n",
    "            \n",
    "    def drive(self):\n",
    "        s = self.Seat()\n",
    "        print(s)\n",
    "        print(s.color)\n",
    "        \n",
    "c = Car()\n",
    "c.drive()"
   ]
  },
  {
   "cell_type": "code",
   "execution_count": null,
   "id": "d4475171",
   "metadata": {},
   "outputs": [],
   "source": []
  },
  {
   "cell_type": "code",
   "execution_count": 23,
   "id": "d6f605b7",
   "metadata": {},
   "outputs": [
    {
     "name": "stdout",
     "output_type": "stream",
     "text": [
      "<__main__.Car.Seat object at 0x00000143A1E4F390>\n",
      "red\n"
     ]
    }
   ],
   "source": [
    "class Car:\n",
    "            \n",
    "    class Seat:\n",
    "        def __init__(self, color = 'grey'):\n",
    "            self.color = color\n",
    "            \n",
    "    def __init__(self):\n",
    "        self.name = 'Lamborghini'\n",
    "\n",
    "            \n",
    "    def drive(self):\n",
    "        s = self.Seat('red')\n",
    "        print(s)\n",
    "        print(s.color)\n",
    "        \n",
    "c = Car()\n",
    "c.drive()"
   ]
  },
  {
   "cell_type": "code",
   "execution_count": null,
   "id": "5d0d9adc",
   "metadata": {},
   "outputs": [],
   "source": []
  },
  {
   "cell_type": "code",
   "execution_count": null,
   "id": "bbd29840",
   "metadata": {},
   "outputs": [],
   "source": []
  },
  {
   "cell_type": "code",
   "execution_count": null,
   "id": "34d336b3",
   "metadata": {},
   "outputs": [],
   "source": []
  },
  {
   "cell_type": "code",
   "execution_count": null,
   "id": "ccfb5c96",
   "metadata": {},
   "outputs": [],
   "source": []
  },
  {
   "cell_type": "code",
   "execution_count": null,
   "id": "dacd0f5d",
   "metadata": {},
   "outputs": [],
   "source": []
  },
  {
   "cell_type": "code",
   "execution_count": null,
   "id": "0770821e",
   "metadata": {},
   "outputs": [],
   "source": []
  },
  {
   "cell_type": "code",
   "execution_count": null,
   "id": "5fc4e30a",
   "metadata": {},
   "outputs": [],
   "source": []
  },
  {
   "cell_type": "code",
   "execution_count": null,
   "id": "16dfdcf7",
   "metadata": {},
   "outputs": [],
   "source": []
  },
  {
   "cell_type": "code",
   "execution_count": null,
   "id": "987802e0",
   "metadata": {},
   "outputs": [],
   "source": []
  },
  {
   "cell_type": "code",
   "execution_count": null,
   "id": "42fe79aa",
   "metadata": {},
   "outputs": [],
   "source": []
  },
  {
   "cell_type": "code",
   "execution_count": null,
   "id": "16503a0f",
   "metadata": {},
   "outputs": [],
   "source": []
  },
  {
   "cell_type": "code",
   "execution_count": null,
   "id": "907e6c3f",
   "metadata": {},
   "outputs": [],
   "source": []
  },
  {
   "cell_type": "code",
   "execution_count": null,
   "id": "ef88e664",
   "metadata": {},
   "outputs": [],
   "source": []
  },
  {
   "cell_type": "code",
   "execution_count": null,
   "id": "74b7c86b",
   "metadata": {},
   "outputs": [],
   "source": []
  },
  {
   "cell_type": "code",
   "execution_count": null,
   "id": "f65de586",
   "metadata": {},
   "outputs": [],
   "source": []
  },
  {
   "cell_type": "code",
   "execution_count": null,
   "id": "3b192355",
   "metadata": {},
   "outputs": [],
   "source": []
  },
  {
   "cell_type": "code",
   "execution_count": null,
   "id": "972bbc50",
   "metadata": {},
   "outputs": [],
   "source": []
  },
  {
   "cell_type": "code",
   "execution_count": null,
   "id": "0cf9210a",
   "metadata": {},
   "outputs": [],
   "source": []
  },
  {
   "cell_type": "code",
   "execution_count": null,
   "id": "2ed35853",
   "metadata": {},
   "outputs": [],
   "source": []
  },
  {
   "cell_type": "code",
   "execution_count": null,
   "id": "698fd776",
   "metadata": {},
   "outputs": [],
   "source": []
  },
  {
   "cell_type": "code",
   "execution_count": null,
   "id": "f2d9d19c",
   "metadata": {},
   "outputs": [],
   "source": []
  },
  {
   "cell_type": "code",
   "execution_count": null,
   "id": "96415bb2",
   "metadata": {},
   "outputs": [],
   "source": []
  },
  {
   "cell_type": "code",
   "execution_count": null,
   "id": "3412cd86",
   "metadata": {},
   "outputs": [],
   "source": []
  },
  {
   "cell_type": "code",
   "execution_count": null,
   "id": "0f9690c3",
   "metadata": {},
   "outputs": [],
   "source": []
  },
  {
   "cell_type": "code",
   "execution_count": null,
   "id": "b75769fb",
   "metadata": {},
   "outputs": [],
   "source": []
  },
  {
   "cell_type": "code",
   "execution_count": null,
   "id": "4550bdee",
   "metadata": {},
   "outputs": [],
   "source": []
  },
  {
   "cell_type": "code",
   "execution_count": null,
   "id": "cb3fe8af",
   "metadata": {},
   "outputs": [],
   "source": []
  },
  {
   "cell_type": "code",
   "execution_count": null,
   "id": "2cd9e9b7",
   "metadata": {},
   "outputs": [],
   "source": []
  },
  {
   "cell_type": "code",
   "execution_count": null,
   "id": "fb5dca20",
   "metadata": {},
   "outputs": [],
   "source": []
  },
  {
   "cell_type": "code",
   "execution_count": null,
   "id": "107e961b",
   "metadata": {},
   "outputs": [],
   "source": []
  },
  {
   "cell_type": "code",
   "execution_count": null,
   "id": "75187b9a",
   "metadata": {},
   "outputs": [],
   "source": []
  },
  {
   "cell_type": "code",
   "execution_count": null,
   "id": "a4f9f079",
   "metadata": {},
   "outputs": [],
   "source": []
  },
  {
   "cell_type": "code",
   "execution_count": null,
   "id": "26ac457c",
   "metadata": {},
   "outputs": [],
   "source": []
  },
  {
   "cell_type": "code",
   "execution_count": null,
   "id": "3c2cdd70",
   "metadata": {},
   "outputs": [],
   "source": []
  },
  {
   "cell_type": "code",
   "execution_count": null,
   "id": "5b43d0d8",
   "metadata": {},
   "outputs": [],
   "source": []
  },
  {
   "cell_type": "code",
   "execution_count": null,
   "id": "3c355ffd",
   "metadata": {},
   "outputs": [],
   "source": []
  },
  {
   "cell_type": "code",
   "execution_count": null,
   "id": "89da003d",
   "metadata": {},
   "outputs": [],
   "source": []
  },
  {
   "cell_type": "code",
   "execution_count": null,
   "id": "bb20a0fe",
   "metadata": {},
   "outputs": [],
   "source": []
  },
  {
   "cell_type": "code",
   "execution_count": null,
   "id": "ab128c51",
   "metadata": {},
   "outputs": [],
   "source": []
  },
  {
   "cell_type": "code",
   "execution_count": null,
   "id": "1b2a08ad",
   "metadata": {},
   "outputs": [],
   "source": []
  },
  {
   "cell_type": "code",
   "execution_count": null,
   "id": "96a486cb",
   "metadata": {},
   "outputs": [],
   "source": []
  },
  {
   "cell_type": "code",
   "execution_count": null,
   "id": "7da05b32",
   "metadata": {},
   "outputs": [],
   "source": []
  },
  {
   "cell_type": "code",
   "execution_count": null,
   "id": "0571c157",
   "metadata": {},
   "outputs": [],
   "source": []
  },
  {
   "cell_type": "code",
   "execution_count": null,
   "id": "9c445158",
   "metadata": {},
   "outputs": [],
   "source": []
  },
  {
   "cell_type": "code",
   "execution_count": null,
   "id": "14f77f3a",
   "metadata": {},
   "outputs": [],
   "source": []
  }
 ],
 "metadata": {
  "kernelspec": {
   "display_name": "Python 3 (ipykernel)",
   "language": "python",
   "name": "python3"
  },
  "language_info": {
   "codemirror_mode": {
    "name": "ipython",
    "version": 3
   },
   "file_extension": ".py",
   "mimetype": "text/x-python",
   "name": "python",
   "nbconvert_exporter": "python",
   "pygments_lexer": "ipython3",
   "version": "3.11.5"
  }
 },
 "nbformat": 4,
 "nbformat_minor": 5
}
