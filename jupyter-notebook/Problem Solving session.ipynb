{
 "cells": [
  {
   "cell_type": "markdown",
   "id": "fe3ae031",
   "metadata": {},
   "source": [
    "# Problem Solving Session"
   ]
  },
  {
   "cell_type": "code",
   "execution_count": null,
   "id": "8732b8f2",
   "metadata": {},
   "outputs": [],
   "source": []
  },
  {
   "cell_type": "markdown",
   "id": "af34fcd3",
   "metadata": {},
   "source": [
    "# 2 Sum\n",
    "https://www.interviewbit.com/problems/2-sum/\n",
    "\n",
    "Given an array of integers, find two numbers such that they add up to a specific target number.\n",
    "\n",
    "The function twoSum should return indices of the two numbers such that they add up to the target, where index1 < index2. Please note that your returned answers (both index1 and index2 ) are not zero-based. Put both these numbers in order in an array and return the array from your function ( Looking at the function signature will make things clearer ). Note that, if no pair exists, return empty list.\n",
    "\n",
    "If multiple solutions exist, output the one where index2 is minimum. If there are multiple solutions with the minimum index2, choose the one with minimum index1 out of them.\n",
    "\n",
    "Input: [2, 7, 11, 15], target=9 Output: index1 = 1, index2 = 2"
   ]
  },
  {
   "cell_type": "code",
   "execution_count": null,
   "id": "f9e74ef5",
   "metadata": {},
   "outputs": [],
   "source": []
  },
  {
   "cell_type": "code",
   "execution_count": 1,
   "id": "f906f704",
   "metadata": {},
   "outputs": [],
   "source": [
    "def twoSum(A, B):\n",
    "    num_to_index = {}\n",
    "    \n",
    "    for i in range(len(A)):\n",
    "        required = B - A[i]\n",
    "        \n",
    "        if required in num_to_index:\n",
    "            return num_to_index[required]+1, i+1\n",
    "        \n",
    "        num_to_index[A[i]] = i\n",
    "        \n",
    "    return[]"
   ]
  },
  {
   "cell_type": "code",
   "execution_count": 2,
   "id": "3ac9d531",
   "metadata": {},
   "outputs": [
    {
     "data": {
      "text/plain": [
       "(1, 3)"
      ]
     },
     "execution_count": 2,
     "metadata": {},
     "output_type": "execute_result"
    }
   ],
   "source": [
    "twoSum([2, 7, 11, 15], 13)"
   ]
  },
  {
   "cell_type": "code",
   "execution_count": 4,
   "id": "967ac4c8",
   "metadata": {},
   "outputs": [],
   "source": [
    "def twoSum(A, B):\n",
    "    num_to_index = {}\n",
    "    \n",
    "    for i in range(len(A)):\n",
    "        required = B - A[i]\n",
    "        \n",
    "        if required in num_to_index:\n",
    "            return num_to_index[required]+1, i+1\n",
    "        \n",
    "        if A[i] not in num_to_index:\n",
    "#             Only add a new entry for A[i]\n",
    "            num_to_index[A[i]] = i\n",
    "        \n",
    "    return[]"
   ]
  },
  {
   "cell_type": "code",
   "execution_count": 5,
   "id": "8ea084d9",
   "metadata": {},
   "outputs": [
    {
     "data": {
      "text/plain": [
       "(1, 5)"
      ]
     },
     "execution_count": 5,
     "metadata": {},
     "output_type": "execute_result"
    }
   ],
   "source": [
    "twoSum([2, 2, 3, 5, 11, 15], 13)"
   ]
  },
  {
   "cell_type": "code",
   "execution_count": null,
   "id": "49392a2f",
   "metadata": {},
   "outputs": [],
   "source": []
  },
  {
   "cell_type": "markdown",
   "id": "77ebba4e",
   "metadata": {},
   "source": [
    "# Maximum Absolute Difference\n",
    "\n",
    "https://www.interviewbit.com/problems/maximum-absolute-difference/\n",
    "\n",
    "You are given an array of N integers, A1, A2 ,…, AN. Return maximum value of f(i, j) for all 1 ≤ i, j ≤ N.\n",
    "\n",
    "f(i, j) is defined as |A[i] - A[j]| + |i - j|, where |x| denotes absolute value of x.\n",
    "\n",
    "For example,\n",
    "\n",
    "A=[1, 3, -1]\n",
    "\n",
    "f(1, 1) = f(2, 2) = f(3, 3) = 0\n",
    "\n",
    "f(1, 2) = f(2, 1) = |1 - 3| + |1 - 2| = 3\n",
    "\n",
    "f(1, 3) = f(3, 1) = |1 - (-1)| + |1 - 3| = 4\n",
    "\n",
    "f(2, 3) = f(3, 2) = |3 - (-1)| + |2 - 3| = 5\n",
    "\n",
    "here return 5, i.e f(2, 3)"
   ]
  },
  {
   "cell_type": "code",
   "execution_count": null,
   "id": "ed9e367a",
   "metadata": {},
   "outputs": [],
   "source": []
  },
  {
   "cell_type": "code",
   "execution_count": 1,
   "id": "f8057b08",
   "metadata": {},
   "outputs": [
    {
     "name": "stdout",
     "output_type": "stream",
     "text": [
      "Aanna\n"
     ]
    }
   ],
   "source": [
    "print(min('prasad', 'Abhijeet', 'Anand', 'Aanna', 'Victor', 'veeresh'))"
   ]
  },
  {
   "cell_type": "code",
   "execution_count": 2,
   "id": "f918c827",
   "metadata": {},
   "outputs": [
    {
     "name": "stdout",
     "output_type": "stream",
     "text": [
      "veeresh\n"
     ]
    }
   ],
   "source": [
    "print(max('prasad', 'Abhijeet', 'Anand', 'Aanna', 'Victor', 'veeresh'))"
   ]
  },
  {
   "cell_type": "code",
   "execution_count": 3,
   "id": "99b89225",
   "metadata": {},
   "outputs": [],
   "source": [
    "# in string it uses 'lexicographically' largest string - dictionary method to find a word by the word by alphabetical order"
   ]
  },
  {
   "cell_type": "code",
   "execution_count": null,
   "id": "44ce7fd2",
   "metadata": {},
   "outputs": [],
   "source": []
  },
  {
   "cell_type": "code",
   "execution_count": 10,
   "id": "74304659",
   "metadata": {},
   "outputs": [],
   "source": [
    "def maxArr(A):\n",
    "    inf = 10 ** 9   # float('inf') - this is how you declare infinite in python, but here we took largest value\n",
    "    a = -inf\n",
    "    b = inf\n",
    "    c = -inf\n",
    "    d = inf\n",
    "    \n",
    "    for i in range(len(A)):\n",
    "        x = A[i]\n",
    "        \n",
    "        a = max(a, x+i)\n",
    "        b = min(b, x+i)\n",
    "        \n",
    "        c = max(c, x-i)\n",
    "        d = min(d, x-i)\n",
    "        \n",
    "        \n",
    "    ans = max(a-b, c-d)\n",
    "    return ans"
   ]
  },
  {
   "cell_type": "code",
   "execution_count": 11,
   "id": "0f7f920b",
   "metadata": {},
   "outputs": [
    {
     "data": {
      "text/plain": [
       "5"
      ]
     },
     "execution_count": 11,
     "metadata": {},
     "output_type": "execute_result"
    }
   ],
   "source": [
    "maxArr([1, 3, -1])"
   ]
  },
  {
   "cell_type": "code",
   "execution_count": null,
   "id": "0a4ddbe6",
   "metadata": {},
   "outputs": [],
   "source": []
  },
  {
   "cell_type": "markdown",
   "id": "d9788cfe",
   "metadata": {},
   "source": [
    "# First Missing Interger\n",
    "\n",
    "https://www.interviewbit.com/problems/first-missing-integer/\n",
    "\n",
    "Given an unsorted integer array, find the first missing positive integer.\n",
    "\n",
    "Example:\n",
    "\n",
    "Given [1,2,0] return 3,\n",
    "\n",
    "[3,4,-1,1] return 2,\n",
    "\n",
    "[-8, -7, -6] returns 1\n",
    "\n",
    "Your algorithm should run in O(n) time and use constant space."
   ]
  },
  {
   "cell_type": "code",
   "execution_count": null,
   "id": "2b14b71e",
   "metadata": {},
   "outputs": [],
   "source": []
  },
  {
   "cell_type": "code",
   "execution_count": 14,
   "id": "5b659378",
   "metadata": {},
   "outputs": [],
   "source": [
    "def firstmissingpositive(A):\n",
    "    n = len(A)\n",
    "    \n",
    "#     Sanitize our data\n",
    "    for i in range(n):\n",
    "        if A[i] <=0 or A[i]>n:\n",
    "            A[i] = n + 10000\n",
    "            \n",
    "#             Storing our data, by indices\n",
    "    for i in range(n):\n",
    "        idx = abs(A[i]) - 1\n",
    "        \n",
    "        if idx >= 0 and idx < n:\n",
    "            A[idx] = -A[idx]\n",
    "            \n",
    "#         Search for our answer\n",
    "\n",
    "    for i in range(n):\n",
    "        if A[i] > 0:\n",
    "            return i+1\n",
    "#         Case 1 - When all numbers from [1, n] are present\n",
    "    return n+1"
   ]
  },
  {
   "cell_type": "code",
   "execution_count": 19,
   "id": "3fc13e76",
   "metadata": {},
   "outputs": [
    {
     "data": {
      "text/plain": [
       "10"
      ]
     },
     "execution_count": 19,
     "metadata": {},
     "output_type": "execute_result"
    }
   ],
   "source": [
    "firstmissingpositive([1,0,4,5,9,7,6,11,12,2,3,8])"
   ]
  },
  {
   "cell_type": "code",
   "execution_count": null,
   "id": "494904d7",
   "metadata": {},
   "outputs": [],
   "source": []
  },
  {
   "cell_type": "code",
   "execution_count": null,
   "id": "f63a3d58",
   "metadata": {},
   "outputs": [],
   "source": []
  },
  {
   "cell_type": "code",
   "execution_count": null,
   "id": "338b3cd0",
   "metadata": {},
   "outputs": [],
   "source": []
  },
  {
   "cell_type": "code",
   "execution_count": null,
   "id": "1def91ec",
   "metadata": {},
   "outputs": [],
   "source": []
  },
  {
   "cell_type": "code",
   "execution_count": null,
   "id": "549adc79",
   "metadata": {},
   "outputs": [],
   "source": []
  },
  {
   "cell_type": "code",
   "execution_count": null,
   "id": "435fba45",
   "metadata": {},
   "outputs": [],
   "source": []
  },
  {
   "cell_type": "code",
   "execution_count": null,
   "id": "38bc7e9f",
   "metadata": {},
   "outputs": [],
   "source": []
  },
  {
   "cell_type": "code",
   "execution_count": null,
   "id": "32b96611",
   "metadata": {},
   "outputs": [],
   "source": []
  },
  {
   "cell_type": "code",
   "execution_count": null,
   "id": "c7910098",
   "metadata": {},
   "outputs": [],
   "source": []
  },
  {
   "cell_type": "code",
   "execution_count": null,
   "id": "9bf1346c",
   "metadata": {},
   "outputs": [],
   "source": []
  },
  {
   "cell_type": "code",
   "execution_count": null,
   "id": "4357e056",
   "metadata": {},
   "outputs": [],
   "source": []
  },
  {
   "cell_type": "code",
   "execution_count": null,
   "id": "5128ea76",
   "metadata": {},
   "outputs": [],
   "source": []
  },
  {
   "cell_type": "code",
   "execution_count": null,
   "id": "1d196031",
   "metadata": {},
   "outputs": [],
   "source": []
  },
  {
   "cell_type": "code",
   "execution_count": null,
   "id": "b9ea52f7",
   "metadata": {},
   "outputs": [],
   "source": []
  },
  {
   "cell_type": "code",
   "execution_count": null,
   "id": "cd022fb1",
   "metadata": {},
   "outputs": [],
   "source": []
  },
  {
   "cell_type": "code",
   "execution_count": null,
   "id": "fecbd37b",
   "metadata": {},
   "outputs": [],
   "source": []
  },
  {
   "cell_type": "code",
   "execution_count": null,
   "id": "2c64e7e9",
   "metadata": {},
   "outputs": [],
   "source": []
  },
  {
   "cell_type": "code",
   "execution_count": null,
   "id": "17951578",
   "metadata": {},
   "outputs": [],
   "source": []
  },
  {
   "cell_type": "code",
   "execution_count": null,
   "id": "2cdcab49",
   "metadata": {},
   "outputs": [],
   "source": []
  },
  {
   "cell_type": "code",
   "execution_count": null,
   "id": "d11a56fc",
   "metadata": {},
   "outputs": [],
   "source": []
  },
  {
   "cell_type": "code",
   "execution_count": null,
   "id": "b1584f43",
   "metadata": {},
   "outputs": [],
   "source": []
  },
  {
   "cell_type": "code",
   "execution_count": null,
   "id": "a61fe93f",
   "metadata": {},
   "outputs": [],
   "source": []
  },
  {
   "cell_type": "code",
   "execution_count": null,
   "id": "c5f27ae3",
   "metadata": {},
   "outputs": [],
   "source": []
  },
  {
   "cell_type": "code",
   "execution_count": null,
   "id": "6e99d889",
   "metadata": {},
   "outputs": [],
   "source": []
  },
  {
   "cell_type": "code",
   "execution_count": null,
   "id": "ab51cef7",
   "metadata": {},
   "outputs": [],
   "source": []
  },
  {
   "cell_type": "code",
   "execution_count": null,
   "id": "2ba20cf5",
   "metadata": {},
   "outputs": [],
   "source": []
  },
  {
   "cell_type": "code",
   "execution_count": null,
   "id": "f1ed257a",
   "metadata": {},
   "outputs": [],
   "source": []
  },
  {
   "cell_type": "code",
   "execution_count": null,
   "id": "56e9e1cc",
   "metadata": {},
   "outputs": [],
   "source": []
  },
  {
   "cell_type": "code",
   "execution_count": null,
   "id": "00e81a69",
   "metadata": {},
   "outputs": [],
   "source": []
  },
  {
   "cell_type": "code",
   "execution_count": null,
   "id": "e638db70",
   "metadata": {},
   "outputs": [],
   "source": []
  },
  {
   "cell_type": "code",
   "execution_count": null,
   "id": "6959fa47",
   "metadata": {},
   "outputs": [],
   "source": []
  },
  {
   "cell_type": "code",
   "execution_count": null,
   "id": "2382f79e",
   "metadata": {},
   "outputs": [],
   "source": []
  },
  {
   "cell_type": "code",
   "execution_count": null,
   "id": "2e993f21",
   "metadata": {},
   "outputs": [],
   "source": []
  },
  {
   "cell_type": "code",
   "execution_count": null,
   "id": "dba25e11",
   "metadata": {},
   "outputs": [],
   "source": []
  },
  {
   "cell_type": "code",
   "execution_count": null,
   "id": "3a6b0c8f",
   "metadata": {},
   "outputs": [],
   "source": []
  },
  {
   "cell_type": "code",
   "execution_count": null,
   "id": "44d8e0b4",
   "metadata": {},
   "outputs": [],
   "source": []
  },
  {
   "cell_type": "code",
   "execution_count": null,
   "id": "47999197",
   "metadata": {},
   "outputs": [],
   "source": []
  },
  {
   "cell_type": "code",
   "execution_count": null,
   "id": "044dcc50",
   "metadata": {},
   "outputs": [],
   "source": []
  },
  {
   "cell_type": "code",
   "execution_count": null,
   "id": "51a532a7",
   "metadata": {},
   "outputs": [],
   "source": []
  },
  {
   "cell_type": "code",
   "execution_count": null,
   "id": "bb5f0da3",
   "metadata": {},
   "outputs": [],
   "source": []
  },
  {
   "cell_type": "code",
   "execution_count": null,
   "id": "aba3c66d",
   "metadata": {},
   "outputs": [],
   "source": []
  },
  {
   "cell_type": "code",
   "execution_count": null,
   "id": "3b464e9e",
   "metadata": {},
   "outputs": [],
   "source": []
  },
  {
   "cell_type": "code",
   "execution_count": null,
   "id": "1be1bbc4",
   "metadata": {},
   "outputs": [],
   "source": []
  },
  {
   "cell_type": "code",
   "execution_count": null,
   "id": "cf263c93",
   "metadata": {},
   "outputs": [],
   "source": []
  },
  {
   "cell_type": "code",
   "execution_count": null,
   "id": "9077e913",
   "metadata": {},
   "outputs": [],
   "source": []
  },
  {
   "cell_type": "code",
   "execution_count": null,
   "id": "35d38f21",
   "metadata": {},
   "outputs": [],
   "source": []
  },
  {
   "cell_type": "code",
   "execution_count": null,
   "id": "a96ea493",
   "metadata": {},
   "outputs": [],
   "source": []
  },
  {
   "cell_type": "code",
   "execution_count": null,
   "id": "affbd1b1",
   "metadata": {},
   "outputs": [],
   "source": []
  },
  {
   "cell_type": "code",
   "execution_count": null,
   "id": "be44ad51",
   "metadata": {},
   "outputs": [],
   "source": []
  },
  {
   "cell_type": "code",
   "execution_count": null,
   "id": "12de0ea9",
   "metadata": {},
   "outputs": [],
   "source": []
  },
  {
   "cell_type": "code",
   "execution_count": null,
   "id": "8c33a755",
   "metadata": {},
   "outputs": [],
   "source": []
  },
  {
   "cell_type": "code",
   "execution_count": null,
   "id": "c071e611",
   "metadata": {},
   "outputs": [],
   "source": []
  },
  {
   "cell_type": "code",
   "execution_count": null,
   "id": "1ba8d47a",
   "metadata": {},
   "outputs": [],
   "source": []
  },
  {
   "cell_type": "code",
   "execution_count": null,
   "id": "9967023b",
   "metadata": {},
   "outputs": [],
   "source": []
  },
  {
   "cell_type": "code",
   "execution_count": null,
   "id": "e9374065",
   "metadata": {},
   "outputs": [],
   "source": []
  },
  {
   "cell_type": "code",
   "execution_count": null,
   "id": "dafd2c85",
   "metadata": {},
   "outputs": [],
   "source": []
  },
  {
   "cell_type": "code",
   "execution_count": null,
   "id": "883a2b7c",
   "metadata": {},
   "outputs": [],
   "source": []
  },
  {
   "cell_type": "code",
   "execution_count": null,
   "id": "54f0f098",
   "metadata": {},
   "outputs": [],
   "source": []
  },
  {
   "cell_type": "code",
   "execution_count": null,
   "id": "c80adb40",
   "metadata": {},
   "outputs": [],
   "source": []
  }
 ],
 "metadata": {
  "kernelspec": {
   "display_name": "Python 3 (ipykernel)",
   "language": "python",
   "name": "python3"
  },
  "language_info": {
   "codemirror_mode": {
    "name": "ipython",
    "version": 3
   },
   "file_extension": ".py",
   "mimetype": "text/x-python",
   "name": "python",
   "nbconvert_exporter": "python",
   "pygments_lexer": "ipython3",
   "version": "3.11.5"
  }
 },
 "nbformat": 4,
 "nbformat_minor": 5
}
