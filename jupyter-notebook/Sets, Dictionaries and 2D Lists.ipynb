{
 "cells": [
  {
   "cell_type": "markdown",
   "id": "2fbb038e",
   "metadata": {},
   "source": [
    "# Sets\n",
    "\n",
    "* Set is an unordered collection of items, where evert element is unique and immutable. However, the set itself is mutable. There are two ways of creating a set\n",
    "* there are two ways of creating a set\n",
    "    * putting all the elements inside curly braces \"{\" and \"}\"\n",
    "    * Using set() method.\n",
    "* Adding elements to set - add(), update()\n",
    "* Removing elements from set - remove(), discard()\n",
    "* Python sets allow fast insertion , deletion and searching."
   ]
  },
  {
   "cell_type": "code",
   "execution_count": null,
   "id": "0e1d16e1",
   "metadata": {},
   "outputs": [],
   "source": []
  },
  {
   "cell_type": "markdown",
   "id": "01da085c",
   "metadata": {},
   "source": [
    "# Sets\n"
   ]
  },
  {
   "cell_type": "code",
   "execution_count": null,
   "id": "9f4c626c",
   "metadata": {},
   "outputs": [],
   "source": []
  },
  {
   "cell_type": "code",
   "execution_count": 11,
   "id": "3c64adec",
   "metadata": {},
   "outputs": [],
   "source": [
    "s = {1, 2, 5, 6, 0, 'hello', 'world'}"
   ]
  },
  {
   "cell_type": "code",
   "execution_count": 2,
   "id": "420ca204",
   "metadata": {},
   "outputs": [
    {
     "data": {
      "text/plain": [
       "set"
      ]
     },
     "execution_count": 2,
     "metadata": {},
     "output_type": "execute_result"
    }
   ],
   "source": [
    "(type(s))"
   ]
  },
  {
   "cell_type": "code",
   "execution_count": 12,
   "id": "1531fc58",
   "metadata": {},
   "outputs": [
    {
     "name": "stdout",
     "output_type": "stream",
     "text": [
      "{0, 1, 2, 'world', 5, 6, 'hello'}\n"
     ]
    }
   ],
   "source": [
    "print(s)"
   ]
  },
  {
   "cell_type": "code",
   "execution_count": null,
   "id": "a7494fce",
   "metadata": {},
   "outputs": [],
   "source": []
  },
  {
   "cell_type": "code",
   "execution_count": null,
   "id": "c3d84f96",
   "metadata": {},
   "outputs": [],
   "source": [
    "# List - insert "
   ]
  },
  {
   "cell_type": "code",
   "execution_count": null,
   "id": "391395ad",
   "metadata": {},
   "outputs": [],
   "source": []
  },
  {
   "cell_type": "code",
   "execution_count": 13,
   "id": "f9d7e4bc",
   "metadata": {},
   "outputs": [],
   "source": [
    "# insertion, deletion and searching in a set takes - 0(n) time\n",
    "# A constant number of operations"
   ]
  },
  {
   "cell_type": "code",
   "execution_count": null,
   "id": "eee21826",
   "metadata": {},
   "outputs": [],
   "source": []
  },
  {
   "cell_type": "code",
   "execution_count": 18,
   "id": "43d3ba25",
   "metadata": {},
   "outputs": [
    {
     "name": "stdout",
     "output_type": "stream",
     "text": [
      "2 is in the set\n"
     ]
    }
   ],
   "source": [
    "if 2 in s:\n",
    "    print('2 is in the set')\n",
    "    \n",
    "# searching here works significantly faster in the set"
   ]
  },
  {
   "cell_type": "code",
   "execution_count": null,
   "id": "c4eecac1",
   "metadata": {},
   "outputs": [],
   "source": []
  },
  {
   "cell_type": "code",
   "execution_count": 19,
   "id": "8807b975",
   "metadata": {},
   "outputs": [],
   "source": [
    "# briefs are writen in the book about hash address"
   ]
  },
  {
   "cell_type": "code",
   "execution_count": null,
   "id": "44041b5a",
   "metadata": {},
   "outputs": [],
   "source": []
  },
  {
   "cell_type": "code",
   "execution_count": 21,
   "id": "e956363e",
   "metadata": {},
   "outputs": [
    {
     "name": "stdout",
     "output_type": "stream",
     "text": [
      "{0, 1, 2, 'world', 4, 5, 6, 'hello'}\n"
     ]
    }
   ],
   "source": [
    "{1, 2, 5, 6, 0, 'hello', 'world'}\n",
    "\n",
    "s.add(4)\n",
    "\n",
    "print(s)"
   ]
  },
  {
   "cell_type": "code",
   "execution_count": null,
   "id": "00b618c3",
   "metadata": {},
   "outputs": [],
   "source": []
  },
  {
   "cell_type": "code",
   "execution_count": 22,
   "id": "7308ffb5",
   "metadata": {},
   "outputs": [
    {
     "name": "stdout",
     "output_type": "stream",
     "text": [
      "{0, 1, 2, 4, 5, 6, 'world', 600, 800, 'hello', 500, 700}\n"
     ]
    }
   ],
   "source": [
    "s.update([500, 600, 700, 800])\n",
    "\n",
    "print(s)"
   ]
  },
  {
   "cell_type": "code",
   "execution_count": null,
   "id": "239703b6",
   "metadata": {},
   "outputs": [],
   "source": []
  },
  {
   "cell_type": "code",
   "execution_count": 23,
   "id": "2804c04b",
   "metadata": {},
   "outputs": [
    {
     "name": "stdout",
     "output_type": "stream",
     "text": [
      "{0, 1, 2, 4, 5, 6, 'world', 800, 'hello', 500, 700}\n"
     ]
    }
   ],
   "source": [
    "s.remove(600)\n",
    "\n",
    "print(s)"
   ]
  },
  {
   "cell_type": "code",
   "execution_count": null,
   "id": "c5019d4c",
   "metadata": {},
   "outputs": [],
   "source": []
  },
  {
   "cell_type": "code",
   "execution_count": 24,
   "id": "cf7dadde",
   "metadata": {},
   "outputs": [
    {
     "ename": "KeyError",
     "evalue": "650",
     "output_type": "error",
     "traceback": [
      "\u001b[1;31m---------------------------------------------------------------------------\u001b[0m",
      "\u001b[1;31mKeyError\u001b[0m                                  Traceback (most recent call last)",
      "Cell \u001b[1;32mIn[24], line 1\u001b[0m\n\u001b[1;32m----> 1\u001b[0m \u001b[43ms\u001b[49m\u001b[38;5;241;43m.\u001b[39;49m\u001b[43mremove\u001b[49m\u001b[43m(\u001b[49m\u001b[38;5;241;43m650\u001b[39;49m\u001b[43m)\u001b[49m\n\u001b[0;32m      3\u001b[0m \u001b[38;5;28mprint\u001b[39m(s)\n",
      "\u001b[1;31mKeyError\u001b[0m: 650"
     ]
    }
   ],
   "source": [
    "s.remove(650)\n",
    "\n",
    "print(s)"
   ]
  },
  {
   "cell_type": "code",
   "execution_count": 25,
   "id": "7df41cb4",
   "metadata": {},
   "outputs": [
    {
     "name": "stdout",
     "output_type": "stream",
     "text": [
      "{0}\n"
     ]
    }
   ],
   "source": [
    "u = {0, 0, 0, 0, 0}\n",
    "\n",
    "print(u)"
   ]
  },
  {
   "cell_type": "code",
   "execution_count": 26,
   "id": "0abe6a8c",
   "metadata": {},
   "outputs": [],
   "source": [
    "#it ignores the duplicate elemets"
   ]
  },
  {
   "cell_type": "code",
   "execution_count": null,
   "id": "c0a78464",
   "metadata": {},
   "outputs": [],
   "source": []
  },
  {
   "cell_type": "code",
   "execution_count": 28,
   "id": "18a89c7c",
   "metadata": {},
   "outputs": [
    {
     "name": "stdout",
     "output_type": "stream",
     "text": [
      "{0, 1, 2, 4, 5, 6, 'world', 800, 'hello', 700}\n"
     ]
    }
   ],
   "source": [
    "s.discard(500)\n",
    "\n",
    "print(s)"
   ]
  },
  {
   "cell_type": "code",
   "execution_count": 29,
   "id": "b54d46ff",
   "metadata": {},
   "outputs": [],
   "source": [
    "s.discard(500)"
   ]
  },
  {
   "cell_type": "code",
   "execution_count": 30,
   "id": "e12e398b",
   "metadata": {},
   "outputs": [],
   "source": [
    "#discard function doesnot give you any error only the remove function throws an error"
   ]
  },
  {
   "cell_type": "code",
   "execution_count": null,
   "id": "3f7db249",
   "metadata": {},
   "outputs": [],
   "source": []
  },
  {
   "cell_type": "code",
   "execution_count": 32,
   "id": "5e8ee1d0",
   "metadata": {},
   "outputs": [
    {
     "name": "stdout",
     "output_type": "stream",
     "text": [
      "{4, 5, 6} <class 'set'>\n"
     ]
    }
   ],
   "source": [
    "s = set((4, 5, 6))\n",
    "\n",
    "print(s, type(s))\n",
    "\n",
    "\n",
    "#convert tuple in set"
   ]
  },
  {
   "cell_type": "code",
   "execution_count": null,
   "id": "9cff4c38",
   "metadata": {},
   "outputs": [],
   "source": []
  },
  {
   "cell_type": "code",
   "execution_count": 33,
   "id": "fe9cae4e",
   "metadata": {},
   "outputs": [
    {
     "ename": "SyntaxError",
     "evalue": "invalid syntax. Perhaps you forgot a comma? (3806964593.py, line 6)",
     "output_type": "error",
     "traceback": [
      "\u001b[1;36m  Cell \u001b[1;32mIn[33], line 6\u001b[1;36m\u001b[0m\n\u001b[1;33m    5.6\u001b[0m\n\u001b[1;37m    ^\u001b[0m\n\u001b[1;31mSyntaxError\u001b[0m\u001b[1;31m:\u001b[0m invalid syntax. Perhaps you forgot a comma?\n"
     ]
    }
   ],
   "source": [
    "s = {\n",
    "    \n",
    "    [1, 3], \n",
    "    'Hello',\n",
    "    3,\n",
    "    5.6\n",
    "    {3, 5}\n",
    "}\n",
    "\n",
    "print(s)"
   ]
  },
  {
   "cell_type": "code",
   "execution_count": 34,
   "id": "adca5190",
   "metadata": {},
   "outputs": [],
   "source": [
    "# here you get an error as 'unhashable set', that means you cannot put an mutable data in set\n",
    "# i.e list and set is not allowed in a Set"
   ]
  },
  {
   "cell_type": "code",
   "execution_count": null,
   "id": "0b950e97",
   "metadata": {},
   "outputs": [],
   "source": []
  },
  {
   "cell_type": "markdown",
   "id": "12c31493",
   "metadata": {},
   "source": [
    "### Make a list of unique tv shows compiling from all your friends' favourite tv shows"
   ]
  },
  {
   "cell_type": "code",
   "execution_count": 38,
   "id": "c67d4aae",
   "metadata": {},
   "outputs": [],
   "source": [
    "friend1 = [\n",
    "    'how i met your mother',\n",
    "    'breaking bad',\n",
    "    'The wire'\n",
    "]\n",
    "\n",
    "friend2 = [\n",
    "    'Breaking bad',\n",
    "    'Westworld',\n",
    "    'The office'\n",
    "]\n",
    "\n",
    "friend3 = [\n",
    "    'Sopranos',\n",
    "    'Game of Thrones',\n",
    "    'Sherlock'\n",
    "]\n",
    "\n",
    "friend4 = [\n",
    "    'Frineds',\n",
    "    'Sherlock',\n",
    "    'Daredevil'\n",
    "]"
   ]
  },
  {
   "cell_type": "code",
   "execution_count": null,
   "id": "e3ea2c5f",
   "metadata": {},
   "outputs": [],
   "source": []
  },
  {
   "cell_type": "code",
   "execution_count": 41,
   "id": "45973aa0",
   "metadata": {},
   "outputs": [
    {
     "name": "stdout",
     "output_type": "stream",
     "text": [
      "{'Breaking bad', 'Sherlock', 'The office', 'Sopranos', 'how i met your mother', 'The wire', 'Frineds', 'breaking bad', 'Game of Thrones', 'Westworld', 'Daredevil'}\n"
     ]
    }
   ],
   "source": [
    "s = set()\n",
    "s.update(friend1, friend2, friend3, friend4)\n",
    "# update function is just reading the data from the list here and updating it and not just coping the list, so mutable list is added in the set\n",
    "# if you using function s.add it will throw an error\n",
    "\n",
    "\n",
    "print(s)"
   ]
  },
  {
   "cell_type": "code",
   "execution_count": 40,
   "id": "ea9c709b",
   "metadata": {},
   "outputs": [
    {
     "data": {
      "text/plain": [
       "{'Breaking bad',\n",
       " 'Daredevil',\n",
       " 'Frineds',\n",
       " 'Game of Thrones',\n",
       " 'Sherlock',\n",
       " 'Sopranos',\n",
       " 'The office',\n",
       " 'The wire',\n",
       " 'Westworld',\n",
       " 'breaking bad',\n",
       " 'how i met your mother'}"
      ]
     },
     "execution_count": 40,
     "metadata": {},
     "output_type": "execute_result"
    }
   ],
   "source": [
    "s"
   ]
  },
  {
   "cell_type": "code",
   "execution_count": null,
   "id": "16552e58",
   "metadata": {},
   "outputs": [],
   "source": []
  },
  {
   "cell_type": "code",
   "execution_count": 43,
   "id": "adab5b76",
   "metadata": {},
   "outputs": [
    {
     "name": "stdout",
     "output_type": "stream",
     "text": [
      "Breaking bad, Sherlock, The office, Sopranos, how i met your mother, The wire, Frineds, breaking bad, Game of Thrones, Westworld, Daredevil, "
     ]
    }
   ],
   "source": [
    "for tv in s:\n",
    "    print(tv, end=', ')\n",
    "    \n",
    "# can iterate"
   ]
  },
  {
   "cell_type": "code",
   "execution_count": null,
   "id": "bf8aac91",
   "metadata": {},
   "outputs": [],
   "source": []
  },
  {
   "cell_type": "code",
   "execution_count": null,
   "id": "e15338ba",
   "metadata": {},
   "outputs": [],
   "source": []
  },
  {
   "cell_type": "markdown",
   "id": "55771fde",
   "metadata": {},
   "source": [
    "### A fifth friend comes along and produces his tv sho list. He wants to check which of the shows you have in common with the list."
   ]
  },
  {
   "cell_type": "code",
   "execution_count": 44,
   "id": "94c499db",
   "metadata": {},
   "outputs": [],
   "source": [
    "friend5 = [\n",
    "    'The office', \n",
    "    'Doctor Who',\n",
    "    'Peaky Blinders'\n",
    "]"
   ]
  },
  {
   "cell_type": "code",
   "execution_count": 46,
   "id": "16a733fb",
   "metadata": {},
   "outputs": [
    {
     "name": "stdout",
     "output_type": "stream",
     "text": [
      "The office\n"
     ]
    }
   ],
   "source": [
    "for tv in friend5:\n",
    "# searching for tv series in the set\n",
    "    \n",
    "    if tv in s:\n",
    "        print(tv)"
   ]
  },
  {
   "cell_type": "code",
   "execution_count": null,
   "id": "98a6823a",
   "metadata": {},
   "outputs": [],
   "source": []
  },
  {
   "cell_type": "markdown",
   "id": "075bf872",
   "metadata": {},
   "source": [
    "# Dictionaries\n",
    "\n",
    "* They are used to store data in a key - value pair format.\n",
    "* The keys are always unique with a dictionary\n",
    "* The values of the python dictionary may or may not be unique\n",
    "* The values within a dictionary can be of any data type but the thing to note is that the keys are immutable. Hence, the key can only be strings, numbers or tuples.\n",
    "* Dictionaries can be created using the dict() constructor or with curly brackets - {}\n",
    "* Dictionaries also use **hashing** to store data"
   ]
  },
  {
   "cell_type": "code",
   "execution_count": null,
   "id": "4451cbcf",
   "metadata": {},
   "outputs": [],
   "source": []
  },
  {
   "cell_type": "code",
   "execution_count": 47,
   "id": "b941b7e8",
   "metadata": {},
   "outputs": [],
   "source": [
    "currency = dict()"
   ]
  },
  {
   "cell_type": "code",
   "execution_count": 48,
   "id": "af266a93",
   "metadata": {},
   "outputs": [],
   "source": [
    "currency = {}"
   ]
  },
  {
   "cell_type": "code",
   "execution_count": 49,
   "id": "b5f5bb26",
   "metadata": {},
   "outputs": [],
   "source": [
    "currency = {\n",
    "    'India' : 'Rupee',\n",
    "    'USA' : 'Dollar',\n",
    "    \"Japan\" : \"Yen\"\n",
    "}"
   ]
  },
  {
   "cell_type": "code",
   "execution_count": 50,
   "id": "69e1e499",
   "metadata": {},
   "outputs": [
    {
     "name": "stdout",
     "output_type": "stream",
     "text": [
      "{'India': 'Rupee', 'USA': 'Dollar', 'Japan': 'Yen'}\n"
     ]
    }
   ],
   "source": [
    "print(currency)"
   ]
  },
  {
   "cell_type": "code",
   "execution_count": 51,
   "id": "7dcca56a",
   "metadata": {},
   "outputs": [
    {
     "name": "stdout",
     "output_type": "stream",
     "text": [
      "<class 'dict'>\n"
     ]
    }
   ],
   "source": [
    "print(type(currency))"
   ]
  },
  {
   "cell_type": "code",
   "execution_count": 52,
   "id": "11afa4c6",
   "metadata": {},
   "outputs": [],
   "source": [
    "# India, USA, Japan - these are keys; Rupee, Dollar, Yen - these are values\n",
    "# this is key-value pair"
   ]
  },
  {
   "cell_type": "code",
   "execution_count": null,
   "id": "e8a9fc1c",
   "metadata": {},
   "outputs": [],
   "source": []
  },
  {
   "cell_type": "code",
   "execution_count": 54,
   "id": "6dc6f6f5",
   "metadata": {},
   "outputs": [
    {
     "data": {
      "text/plain": [
       "'Rupee'"
      ]
     },
     "execution_count": 54,
     "metadata": {},
     "output_type": "execute_result"
    }
   ],
   "source": [
    "# to read the data\n",
    "# use square brackets\n",
    "\n",
    "currency['India']"
   ]
  },
  {
   "cell_type": "code",
   "execution_count": null,
   "id": "178d575c",
   "metadata": {},
   "outputs": [],
   "source": []
  },
  {
   "cell_type": "code",
   "execution_count": 55,
   "id": "771a11b5",
   "metadata": {},
   "outputs": [
    {
     "name": "stdout",
     "output_type": "stream",
     "text": [
      "USD\n"
     ]
    }
   ],
   "source": [
    "# to update the data\n",
    "\n",
    "currency['USA'] = 'USD'\n",
    "\n",
    "print(currency['USA'])"
   ]
  },
  {
   "cell_type": "code",
   "execution_count": null,
   "id": "aea89e7f",
   "metadata": {},
   "outputs": [],
   "source": []
  },
  {
   "cell_type": "code",
   "execution_count": 60,
   "id": "28eaf7b1",
   "metadata": {},
   "outputs": [],
   "source": [
    "currency = {\n",
    "    'India' : 'Rupee',\n",
    "    'USA' : 'Dollar',\n",
    "    \"Japan\" : \"Yen\",\n",
    "    'Spain' : 'Euro',\n",
    "    'Italy' : 'Euro'\n",
    "}\n",
    "\n",
    "\n",
    "\n",
    "# Values can be repetative, but keys should be unique\n",
    "\n",
    "# keys also stores the data through the hashing only so the same rule as sets applies here"
   ]
  },
  {
   "cell_type": "code",
   "execution_count": 58,
   "id": "9e4952e8",
   "metadata": {},
   "outputs": [
    {
     "name": "stdout",
     "output_type": "stream",
     "text": [
      "{'India': 'Rupee', 'USA': 'Dollar', 'Japan': 'Yen', 'Spain': 'Euro', 'Italy': 'Euro'}\n"
     ]
    }
   ],
   "source": [
    "print(currency)"
   ]
  },
  {
   "cell_type": "code",
   "execution_count": null,
   "id": "4ac5a6bd",
   "metadata": {},
   "outputs": [],
   "source": []
  },
  {
   "cell_type": "code",
   "execution_count": 62,
   "id": "ef5def3e",
   "metadata": {},
   "outputs": [
    {
     "ename": "TypeError",
     "evalue": "unhashable type: 'list'",
     "output_type": "error",
     "traceback": [
      "\u001b[1;31m---------------------------------------------------------------------------\u001b[0m",
      "\u001b[1;31mTypeError\u001b[0m                                 Traceback (most recent call last)",
      "Cell \u001b[1;32mIn[62], line 3\u001b[0m\n\u001b[0;32m      1\u001b[0m l \u001b[38;5;241m=\u001b[39m [\u001b[38;5;241m1\u001b[39m, \u001b[38;5;241m2\u001b[39m, \u001b[38;5;241m3\u001b[39m]\n\u001b[1;32m----> 3\u001b[0m \u001b[43mcurrency\u001b[49m\u001b[43m[\u001b[49m\u001b[43ml\u001b[49m\u001b[43m]\u001b[49m \u001b[38;5;241m=\u001b[39m \u001b[38;5;124m'\u001b[39m\u001b[38;5;124mok\u001b[39m\u001b[38;5;124m'\u001b[39m\n\u001b[0;32m      5\u001b[0m \u001b[38;5;28mprint\u001b[39m(currency)\n",
      "\u001b[1;31mTypeError\u001b[0m: unhashable type: 'list'"
     ]
    }
   ],
   "source": [
    "l = [1, 2, 3]\n",
    "\n",
    "currency[l] = 'ok'\n",
    "\n",
    "print(currency)"
   ]
  },
  {
   "cell_type": "code",
   "execution_count": 72,
   "id": "ce6fdffb",
   "metadata": {},
   "outputs": [],
   "source": [
    "# List cannot be a key as it is mutable\n",
    "\n",
    "# but tuple can be allowed"
   ]
  },
  {
   "cell_type": "code",
   "execution_count": 63,
   "id": "721ae35b",
   "metadata": {},
   "outputs": [
    {
     "name": "stdout",
     "output_type": "stream",
     "text": [
      "{'India': 'Rupee', 'USA': 'Dollar', 'Japan': 'Yen', 'Spain': 'Euro', 'Italy': 'Euro', 1: 'ok', (1, 2, 3): 'ok'}\n"
     ]
    }
   ],
   "source": [
    "l = (1, 2, 3)\n",
    "\n",
    "currency[l] = 'ok'\n",
    "\n",
    "print(currency)"
   ]
  },
  {
   "cell_type": "code",
   "execution_count": null,
   "id": "c7188aae",
   "metadata": {},
   "outputs": [],
   "source": []
  },
  {
   "cell_type": "code",
   "execution_count": 65,
   "id": "c37be003",
   "metadata": {},
   "outputs": [
    {
     "name": "stdout",
     "output_type": "stream",
     "text": [
      "{'India': 'Rupee', 'USA': 'Dollar', 'Japan': 'Yen', 'Spain': 'Euro', 'Italy': 'Euro', 1: 'ok'}\n"
     ]
    }
   ],
   "source": [
    "# to delete the data\n",
    "\n",
    "del currency[(1, 2, 3)]\n",
    "\n",
    "print(currency)"
   ]
  },
  {
   "cell_type": "code",
   "execution_count": null,
   "id": "842e4732",
   "metadata": {},
   "outputs": [],
   "source": []
  },
  {
   "cell_type": "code",
   "execution_count": 67,
   "id": "80910fbf",
   "metadata": {},
   "outputs": [
    {
     "name": "stdout",
     "output_type": "stream",
     "text": [
      "{'India': 'Rupee', 'USA': 'Dollar', 'Japan': 'Yen', 'Spain': 'Euro', 'Italy': 'Euro', 1: 'ok', 'El Salvador': ['USD', 'Bitcoin']}\n"
     ]
    }
   ],
   "source": [
    "currency ['El Salvador'] = ['USD', 'Bitcoin']\n",
    "\n",
    "print(currency)\n",
    "\n",
    "# Values can be set, tuples or list"
   ]
  },
  {
   "cell_type": "code",
   "execution_count": null,
   "id": "d81cb341",
   "metadata": {},
   "outputs": [],
   "source": []
  },
  {
   "cell_type": "code",
   "execution_count": 68,
   "id": "72100e10",
   "metadata": {},
   "outputs": [
    {
     "name": "stdout",
     "output_type": "stream",
     "text": [
      "{'India': 'Rupee', 'USA': 'Dollar', 'Japan': 'Yen', 'Spain': 'Euro', 'Italy': 'Euro', 1: 'ok', 'El Salvador': ('USD', 'Bitcoin')}\n"
     ]
    }
   ],
   "source": [
    "currency ['El Salvador'] = ('USD', 'Bitcoin')\n",
    "\n",
    "print(currency)"
   ]
  },
  {
   "cell_type": "code",
   "execution_count": null,
   "id": "209716c6",
   "metadata": {},
   "outputs": [],
   "source": []
  },
  {
   "cell_type": "code",
   "execution_count": 71,
   "id": "4f12cf8a",
   "metadata": {},
   "outputs": [
    {
     "name": "stdout",
     "output_type": "stream",
     "text": [
      "{'India': 'Rupee', 'USA': 'Dollar', 'Japan': 'Yen', 'Spain': 'Euro', 'Italy': 'Euro', 1: 'ok', 'El Salvador': {'Bitcoin', 'USD'}}\n"
     ]
    }
   ],
   "source": [
    "currency ['El Salvador'] = set(['USD', 'Bitcoin'])\n",
    "\n",
    "print(currency)"
   ]
  },
  {
   "cell_type": "code",
   "execution_count": null,
   "id": "331b0147",
   "metadata": {},
   "outputs": [],
   "source": []
  },
  {
   "cell_type": "code",
   "execution_count": 73,
   "id": "cbef5a24",
   "metadata": {},
   "outputs": [
    {
     "name": "stdout",
     "output_type": "stream",
     "text": [
      "{'India': 'Rupee', 'USA': 'Dollar', 'Japan': 'Yen', 'Spain': 'Euro', 'Italy': 'Euro', 1: 'ok', 'El Salvador': {'Bitcoin', 'USD'}, None: 'ok'}\n"
     ]
    }
   ],
   "source": [
    "currency[None] = 'ok'\n",
    "\n",
    "print(currency)"
   ]
  },
  {
   "cell_type": "code",
   "execution_count": 74,
   "id": "c86a6088",
   "metadata": {},
   "outputs": [],
   "source": [
    "# None is allowed too"
   ]
  },
  {
   "cell_type": "code",
   "execution_count": null,
   "id": "7f411e6b",
   "metadata": {},
   "outputs": [],
   "source": []
  },
  {
   "cell_type": "markdown",
   "id": "17e1ca20",
   "metadata": {},
   "source": [
    "### Order?\n",
    "\n",
    "Is order maintained in Python Dictionaries?\n",
    "\n",
    "* All python versions <= 3.6   ----> unordered dictionaries\n",
    "* All Python versions >= 3.7   ----> ordered dictionaries"
   ]
  },
  {
   "cell_type": "code",
   "execution_count": null,
   "id": "b5d2b21d",
   "metadata": {},
   "outputs": [],
   "source": []
  },
  {
   "cell_type": "code",
   "execution_count": null,
   "id": "40a13dbe",
   "metadata": {},
   "outputs": [],
   "source": []
  },
  {
   "cell_type": "markdown",
   "id": "56a99f43",
   "metadata": {},
   "source": [
    "## Iterating over a dictionary"
   ]
  },
  {
   "cell_type": "code",
   "execution_count": null,
   "id": "542be6c4",
   "metadata": {},
   "outputs": [],
   "source": []
  },
  {
   "cell_type": "code",
   "execution_count": 75,
   "id": "5e7e5a0f",
   "metadata": {},
   "outputs": [],
   "source": [
    "menu = {\n",
    "    'Dal Makhani' : 200,\n",
    "    'Shahi Paneer' : 150,\n",
    "    'Naan' : 45,\n",
    "    'Roti' : 30,\n",
    "    'Rice' : 100\n",
    "}"
   ]
  },
  {
   "cell_type": "code",
   "execution_count": null,
   "id": "afeeb5c6",
   "metadata": {},
   "outputs": [],
   "source": []
  },
  {
   "cell_type": "code",
   "execution_count": 76,
   "id": "1bc50f21",
   "metadata": {},
   "outputs": [
    {
     "data": {
      "text/plain": [
       "dict_keys(['Dal Makhani', 'Shahi Paneer', 'Naan', 'Roti', 'Rice'])"
      ]
     },
     "execution_count": 76,
     "metadata": {},
     "output_type": "execute_result"
    }
   ],
   "source": [
    "menu.keys()"
   ]
  },
  {
   "cell_type": "code",
   "execution_count": 79,
   "id": "9a47ca6a",
   "metadata": {},
   "outputs": [
    {
     "data": {
      "text/plain": [
       "dict_values([200, 150, 45, 30, 100])"
      ]
     },
     "execution_count": 79,
     "metadata": {},
     "output_type": "execute_result"
    }
   ],
   "source": [
    "menu.values()"
   ]
  },
  {
   "cell_type": "code",
   "execution_count": null,
   "id": "993e3ebe",
   "metadata": {},
   "outputs": [],
   "source": []
  },
  {
   "cell_type": "code",
   "execution_count": null,
   "id": "b12aad59",
   "metadata": {},
   "outputs": [],
   "source": []
  },
  {
   "cell_type": "code",
   "execution_count": null,
   "id": "224abcda",
   "metadata": {},
   "outputs": [],
   "source": []
  },
  {
   "cell_type": "code",
   "execution_count": null,
   "id": "fb3f4581",
   "metadata": {},
   "outputs": [],
   "source": []
  },
  {
   "cell_type": "markdown",
   "id": "688a75cb",
   "metadata": {},
   "source": [
    "# Challenge - Check Palindrome!\n",
    "\n",
    "Given a string A consisting of lowercase characters.\n",
    "\n",
    "Check if characters of th given string can be rearranged to form a palindrome.\n",
    "\n",
    "Return 1 if it is possible to rearrange the characters of the string A such that it becomes a palindrome else return 0.\n",
    "\n",
    "input: A = \" abcde \"\n",
    "\n",
    "output: 0\n",
    "\n",
    "input: A = ' abba '\n",
    "\n",
    "output: 1"
   ]
  },
  {
   "cell_type": "code",
   "execution_count": null,
   "id": "c2b065f1",
   "metadata": {},
   "outputs": [],
   "source": [
    "# in the given problem statement it is mentioned that it can be rearranged\n",
    "# ie. order is not important\n",
    "# for unordered cases we directly go to - set, dict (faster)"
   ]
  },
  {
   "cell_type": "code",
   "execution_count": null,
   "id": "7ef8ed61",
   "metadata": {},
   "outputs": [],
   "source": [
    " "
   ]
  },
  {
   "cell_type": "code",
   "execution_count": 80,
   "id": "ce66b597",
   "metadata": {},
   "outputs": [],
   "source": [
    "# check book for algorithm"
   ]
  },
  {
   "cell_type": "code",
   "execution_count": null,
   "id": "caa6da68",
   "metadata": {},
   "outputs": [],
   "source": []
  },
  {
   "cell_type": "code",
   "execution_count": 1,
   "id": "5b3d7a21",
   "metadata": {},
   "outputs": [],
   "source": [
    "def solve(A):\n",
    "    # declare a frequency map (dictionary)\n",
    "    \n",
    "    freq = {}\n",
    "    \n",
    "    for char in A:\n",
    "        if char in freq:\n",
    "            freq[char] += 1\n",
    "        else:\n",
    "            freq[char] = 1\n",
    "        print(freq)\n",
    "            \n",
    "    # freq map created\n",
    "    \n",
    "    odd_freq = 0\n",
    "    \n",
    "    for frequency in freq.values():\n",
    "        if frequency % 2 == 1:\n",
    "            odd_freq += 1\n",
    "            \n",
    "    if odd_freq <= 1:\n",
    "        return 1\n",
    "    else:\n",
    "        return 0"
   ]
  },
  {
   "cell_type": "code",
   "execution_count": 3,
   "id": "7d0174a8",
   "metadata": {},
   "outputs": [
    {
     "name": "stdout",
     "output_type": "stream",
     "text": [
      "{'a': 1}\n",
      "{'a': 1, 'b': 1}\n",
      "{'a': 2, 'b': 1}\n",
      "{'a': 2, 'b': 2}\n",
      "{'a': 2, 'b': 2, 'c': 1}\n"
     ]
    },
    {
     "data": {
      "text/plain": [
       "1"
      ]
     },
     "execution_count": 3,
     "metadata": {},
     "output_type": "execute_result"
    }
   ],
   "source": [
    "solve('ababc')"
   ]
  },
  {
   "cell_type": "code",
   "execution_count": null,
   "id": "7c4236d9",
   "metadata": {},
   "outputs": [],
   "source": []
  },
  {
   "cell_type": "code",
   "execution_count": null,
   "id": "915ecee9",
   "metadata": {},
   "outputs": [],
   "source": [
    "def solve(A):\n",
    "    freq{}\n",
    "    \n",
    "    for char in A:\n",
    "        if char in freq:\n",
    "            freq[char] =+ 1\n",
    "        else:\n",
    "            freq[char] = 1\n",
    "            \n",
    "        odd_freq = 0\n",
    "        \n",
    "        for frequency in freq_value():\n",
    "            "
   ]
  },
  {
   "cell_type": "code",
   "execution_count": null,
   "id": "e14c80d2",
   "metadata": {},
   "outputs": [],
   "source": []
  },
  {
   "cell_type": "code",
   "execution_count": null,
   "id": "e1b5c76c",
   "metadata": {},
   "outputs": [],
   "source": []
  },
  {
   "cell_type": "markdown",
   "id": "ba8f9ba4",
   "metadata": {},
   "source": [
    "## 2D lists"
   ]
  },
  {
   "cell_type": "code",
   "execution_count": null,
   "id": "3e196c8c",
   "metadata": {},
   "outputs": [],
   "source": []
  },
  {
   "cell_type": "code",
   "execution_count": 4,
   "id": "60a0d2b1",
   "metadata": {},
   "outputs": [],
   "source": [
    "a = [1, 4, 9, 2, [1, 2]]"
   ]
  },
  {
   "cell_type": "code",
   "execution_count": 5,
   "id": "42db84a3",
   "metadata": {},
   "outputs": [
    {
     "name": "stdout",
     "output_type": "stream",
     "text": [
      "[1, 4, 9, 2, [1, 2]] <class 'list'>\n"
     ]
    }
   ],
   "source": [
    "print(a, type(a))"
   ]
  },
  {
   "cell_type": "code",
   "execution_count": null,
   "id": "f3cba435",
   "metadata": {},
   "outputs": [],
   "source": []
  },
  {
   "cell_type": "code",
   "execution_count": 6,
   "id": "7a707624",
   "metadata": {},
   "outputs": [
    {
     "name": "stdout",
     "output_type": "stream",
     "text": [
      "[[1, 2, 3, 4], [5, 6, 7, 8], [9, 10, 11, 12]]\n"
     ]
    }
   ],
   "source": [
    "a = [\n",
    "    [1, 2, 3, 4],\n",
    "    [5, 6, 7, 8],\n",
    "    [9, 10, 11, 12]\n",
    "]\n",
    "\n",
    "print(a)"
   ]
  },
  {
   "cell_type": "code",
   "execution_count": null,
   "id": "aaf98bd8",
   "metadata": {},
   "outputs": [],
   "source": [
    "# this is a 2d list\n",
    "\n",
    "# matrix"
   ]
  },
  {
   "cell_type": "code",
   "execution_count": 7,
   "id": "69cca2e0",
   "metadata": {},
   "outputs": [
    {
     "name": "stdout",
     "output_type": "stream",
     "text": [
      "[1, 2, 3, 4]\n"
     ]
    }
   ],
   "source": [
    "print(a[0]) # <--- first row"
   ]
  },
  {
   "cell_type": "code",
   "execution_count": 10,
   "id": "18e5cd81",
   "metadata": {},
   "outputs": [
    {
     "name": "stdout",
     "output_type": "stream",
     "text": [
      "[5, 6, 7, 8]\n"
     ]
    }
   ],
   "source": [
    "print(a[1]) # <---- second row"
   ]
  },
  {
   "cell_type": "code",
   "execution_count": null,
   "id": "6a26bb8c",
   "metadata": {},
   "outputs": [],
   "source": []
  },
  {
   "cell_type": "code",
   "execution_count": 12,
   "id": "6d721913",
   "metadata": {},
   "outputs": [
    {
     "name": "stdout",
     "output_type": "stream",
     "text": [
      "2\n"
     ]
    }
   ],
   "source": [
    "print(a[0][1])  # <--- first row, first indices or first element"
   ]
  },
  {
   "cell_type": "code",
   "execution_count": null,
   "id": "a1908519",
   "metadata": {},
   "outputs": [],
   "source": []
  },
  {
   "cell_type": "code",
   "execution_count": null,
   "id": "3a97c0ae",
   "metadata": {},
   "outputs": [],
   "source": [
    "a = [\n",
    "    [1, 2, 3, 4],\n",
    "    [5, 6, 7, 8],\n",
    "    [9, 10, 11, 12]\n",
    "]\n",
    "\n",
    "b = [\n",
    "    [1, 2, 3, 4],\n",
    "    [5, 6, 7, 8],\n",
    "    [9, 10, 11, 12]\n",
    "]"
   ]
  },
  {
   "cell_type": "code",
   "execution_count": null,
   "id": "533091a8",
   "metadata": {},
   "outputs": [],
   "source": []
  },
  {
   "cell_type": "markdown",
   "id": "94155668",
   "metadata": {},
   "source": [
    "# Iterating over 2D list/array"
   ]
  },
  {
   "cell_type": "code",
   "execution_count": null,
   "id": "672eab66",
   "metadata": {},
   "outputs": [],
   "source": []
  },
  {
   "cell_type": "code",
   "execution_count": 14,
   "id": "21cd948c",
   "metadata": {},
   "outputs": [
    {
     "name": "stdout",
     "output_type": "stream",
     "text": [
      "[1, 2, 3, 4]\n",
      "[5, 6, 7, 8]\n",
      "[9, 10, 11, 12]\n"
     ]
    }
   ],
   "source": [
    "for row in a:\n",
    "    print(row)"
   ]
  },
  {
   "cell_type": "code",
   "execution_count": 15,
   "id": "71cd06e9",
   "metadata": {},
   "outputs": [
    {
     "name": "stdout",
     "output_type": "stream",
     "text": [
      "1 2 3 4\n",
      "5 6 7 8\n",
      "9 10 11 12\n"
     ]
    }
   ],
   "source": [
    "for row in a:\n",
    "    print(*row)\n",
    "    \n",
    "# all the bracktes and commas will go away"
   ]
  },
  {
   "cell_type": "code",
   "execution_count": null,
   "id": "bec2bb6e",
   "metadata": {},
   "outputs": [],
   "source": []
  },
  {
   "cell_type": "code",
   "execution_count": 16,
   "id": "16e87b6f",
   "metadata": {},
   "outputs": [
    {
     "name": "stdout",
     "output_type": "stream",
     "text": [
      "1\n",
      "4\n",
      "9\n",
      "16\n",
      "25\n",
      "36\n",
      "49\n",
      "64\n",
      "81\n",
      "100\n",
      "121\n",
      "144\n"
     ]
    }
   ],
   "source": [
    "for row in a:\n",
    "    for x in row:\n",
    "        print(x**2)"
   ]
  },
  {
   "cell_type": "code",
   "execution_count": null,
   "id": "167fbd36",
   "metadata": {},
   "outputs": [],
   "source": []
  },
  {
   "cell_type": "code",
   "execution_count": 17,
   "id": "b27d2caf",
   "metadata": {},
   "outputs": [
    {
     "name": "stdout",
     "output_type": "stream",
     "text": [
      "1 4 9 16 \n",
      "25 36 49 64 \n",
      "81 100 121 144 \n"
     ]
    }
   ],
   "source": [
    "for row in a:\n",
    "    for x in row:\n",
    "        print(x**2, end= ' ')  # ----> end function will give a space in between the numbers\n",
    "    print() # ------------> this will take it to the new line and create it in form of matrix"
   ]
  },
  {
   "cell_type": "code",
   "execution_count": null,
   "id": "e45b3fb5",
   "metadata": {},
   "outputs": [],
   "source": []
  },
  {
   "cell_type": "markdown",
   "id": "dbc7712b",
   "metadata": {},
   "source": [
    "# Reading 2D input\n",
    "\n",
    "Let us say we are given an input as follows where the number of rows and columns is given first and then the 2D matrix:\n",
    "\n",
    "    2 4\n",
    "    1 2 3 4\n",
    "    5 6 7 8"
   ]
  },
  {
   "cell_type": "code",
   "execution_count": null,
   "id": "9a97a3fa",
   "metadata": {},
   "outputs": [],
   "source": []
  },
  {
   "cell_type": "code",
   "execution_count": 18,
   "id": "da949156",
   "metadata": {},
   "outputs": [
    {
     "name": "stdout",
     "output_type": "stream",
     "text": [
      "2 4\n"
     ]
    }
   ],
   "source": [
    "r, c = map(int, input().split())"
   ]
  },
  {
   "cell_type": "code",
   "execution_count": 36,
   "id": "3b09b4b0",
   "metadata": {},
   "outputs": [
    {
     "name": "stdout",
     "output_type": "stream",
     "text": [
      "1 2 3 4 \n",
      "4 5 6 7\n"
     ]
    }
   ],
   "source": [
    "a = []\n",
    "\n",
    "# read the input row-by-row\n",
    "# run loop which runs r times\n",
    "\n",
    "for i in range(r):\n",
    "    row = list(map(int, input().split()))\n",
    "    a.append(row)\n"
   ]
  },
  {
   "cell_type": "code",
   "execution_count": 37,
   "id": "336e2e17",
   "metadata": {},
   "outputs": [
    {
     "name": "stdout",
     "output_type": "stream",
     "text": [
      "[[1, 2, 3, 4], [4, 5, 6, 7]]\n"
     ]
    }
   ],
   "source": [
    "print(a)"
   ]
  },
  {
   "cell_type": "code",
   "execution_count": null,
   "id": "a7c786f4",
   "metadata": {},
   "outputs": [],
   "source": []
  },
  {
   "cell_type": "markdown",
   "id": "104fb760",
   "metadata": {},
   "source": [
    "# Problems to Practice\n",
    "\n",
    "**Easy**\n",
    "\n",
    "    * Addition of two matrices\n",
    "    * Subtraction of two matrices\n",
    "    \n",
    "**Intermediate**\n",
    "\n",
    "    * Compute determinant of a square matrix\n",
    "    * compute product of two matrices ( given they are product compatible)\n",
    "    \n",
    "**Hard**\n",
    "\n",
    "    * Compute the inverse of a matrix"
   ]
  },
  {
   "cell_type": "code",
   "execution_count": null,
   "id": "5f9d32df",
   "metadata": {},
   "outputs": [],
   "source": []
  },
  {
   "cell_type": "code",
   "execution_count": 54,
   "id": "044b2187",
   "metadata": {},
   "outputs": [
    {
     "name": "stdout",
     "output_type": "stream",
     "text": [
      "<map object at 0x00000181B68BF340>\n"
     ]
    }
   ],
   "source": [
    "def res(a,b):\n",
    "\n",
    "    r1, c1 = map(int, input().split())\n",
    "    r2, c2 = map(int, input().split())\n",
    "\n",
    "    a = []\n",
    "    b = []\n",
    "# c = []\n",
    "\n",
    "    for i in range(r1):\n",
    "        row1 = list(map(int, input().split()))\n",
    "        a.append(row1)\n",
    "    \n",
    "    for j in range(r2):\n",
    "        row2 = list(map(int, input().split()))\n",
    "        b.append(row2)\n",
    "\n",
    "result = map(res, a + b)    \n",
    "print (result)"
   ]
  },
  {
   "cell_type": "code",
   "execution_count": null,
   "id": "ca077d9b",
   "metadata": {},
   "outputs": [],
   "source": []
  },
  {
   "cell_type": "code",
   "execution_count": null,
   "id": "ee794a9b",
   "metadata": {},
   "outputs": [],
   "source": []
  },
  {
   "cell_type": "code",
   "execution_count": null,
   "id": "439d5fa8",
   "metadata": {},
   "outputs": [],
   "source": []
  },
  {
   "cell_type": "code",
   "execution_count": 1,
   "id": "ca2cfdad",
   "metadata": {},
   "outputs": [
    {
     "data": {
      "text/plain": [
       "3.141592653589793"
      ]
     },
     "execution_count": 1,
     "metadata": {},
     "output_type": "execute_result"
    }
   ],
   "source": [
    "import math\n",
    "math.pi"
   ]
  },
  {
   "cell_type": "code",
   "execution_count": null,
   "id": "a362269a",
   "metadata": {},
   "outputs": [],
   "source": []
  },
  {
   "cell_type": "code",
   "execution_count": null,
   "id": "0e0add91",
   "metadata": {},
   "outputs": [],
   "source": []
  },
  {
   "cell_type": "code",
   "execution_count": null,
   "id": "4335be54",
   "metadata": {},
   "outputs": [],
   "source": []
  },
  {
   "cell_type": "code",
   "execution_count": null,
   "id": "faf1d21d",
   "metadata": {},
   "outputs": [],
   "source": []
  },
  {
   "cell_type": "code",
   "execution_count": null,
   "id": "4cd3d596",
   "metadata": {},
   "outputs": [],
   "source": []
  },
  {
   "cell_type": "code",
   "execution_count": null,
   "id": "3deb29e4",
   "metadata": {},
   "outputs": [],
   "source": []
  },
  {
   "cell_type": "code",
   "execution_count": null,
   "id": "8fcdbc67",
   "metadata": {},
   "outputs": [],
   "source": []
  },
  {
   "cell_type": "code",
   "execution_count": null,
   "id": "af25939b",
   "metadata": {},
   "outputs": [],
   "source": []
  },
  {
   "cell_type": "code",
   "execution_count": null,
   "id": "c463c996",
   "metadata": {},
   "outputs": [],
   "source": []
  },
  {
   "cell_type": "code",
   "execution_count": null,
   "id": "96541cc9",
   "metadata": {},
   "outputs": [],
   "source": []
  },
  {
   "cell_type": "code",
   "execution_count": null,
   "id": "86fc851a",
   "metadata": {},
   "outputs": [],
   "source": []
  },
  {
   "cell_type": "code",
   "execution_count": null,
   "id": "eef0e67e",
   "metadata": {},
   "outputs": [],
   "source": []
  },
  {
   "cell_type": "code",
   "execution_count": null,
   "id": "2f1a5c6d",
   "metadata": {},
   "outputs": [],
   "source": []
  },
  {
   "cell_type": "code",
   "execution_count": null,
   "id": "c02e359b",
   "metadata": {},
   "outputs": [],
   "source": []
  },
  {
   "cell_type": "code",
   "execution_count": null,
   "id": "44f89f1c",
   "metadata": {},
   "outputs": [],
   "source": []
  },
  {
   "cell_type": "code",
   "execution_count": null,
   "id": "ab4021bb",
   "metadata": {},
   "outputs": [],
   "source": []
  },
  {
   "cell_type": "code",
   "execution_count": null,
   "id": "bb779e51",
   "metadata": {},
   "outputs": [],
   "source": []
  },
  {
   "cell_type": "code",
   "execution_count": null,
   "id": "77631060",
   "metadata": {},
   "outputs": [],
   "source": []
  },
  {
   "cell_type": "code",
   "execution_count": null,
   "id": "e7e73b00",
   "metadata": {},
   "outputs": [],
   "source": []
  },
  {
   "cell_type": "code",
   "execution_count": null,
   "id": "6a95467d",
   "metadata": {},
   "outputs": [],
   "source": []
  }
 ],
 "metadata": {
  "kernelspec": {
   "display_name": "Python 3 (ipykernel)",
   "language": "python",
   "name": "python3"
  },
  "language_info": {
   "codemirror_mode": {
    "name": "ipython",
    "version": 3
   },
   "file_extension": ".py",
   "mimetype": "text/x-python",
   "name": "python",
   "nbconvert_exporter": "python",
   "pygments_lexer": "ipython3",
   "version": "3.10.11"
  }
 },
 "nbformat": 4,
 "nbformat_minor": 5
}
