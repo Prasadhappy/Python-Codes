{
 "cells": [
  {
   "cell_type": "markdown",
   "id": "6f624869",
   "metadata": {},
   "source": [
    "# Python Lists\n",
    "\n",
    "* Lists are used to store multiple items in a single variable\n",
    "* lists are created using square brackets\n",
    "* lists items are ordered, changeable, and allow duplicate values.\n",
    "* List items are indexed, the first item has index[0], the second item has index [1] etc. \n",
    "* The list is changeable, meaning that we can change, add, and remove items in a list after it has been created\n",
    "* You can also use the list constructor - list() to create lists."
   ]
  },
  {
   "cell_type": "code",
   "execution_count": null,
   "id": "8a0ad295",
   "metadata": {},
   "outputs": [],
   "source": []
  },
  {
   "cell_type": "markdown",
   "id": "b80ee47d",
   "metadata": {},
   "source": [
    "# List Slicing\n",
    "\n",
    "* The format for list slicing is [start:stop:step].\n",
    "    * start is the index of the list where slicing starts. (Default = 0)\n",
    "    * stop is the index of the list where slicing ends. (Default = length)\n",
    "    * step allows you to select nth item within the range start to stop.(Default = 1)"
   ]
  },
  {
   "cell_type": "code",
   "execution_count": null,
   "id": "7ad399b1",
   "metadata": {},
   "outputs": [],
   "source": []
  },
  {
   "cell_type": "code",
   "execution_count": 1,
   "id": "39c914db",
   "metadata": {},
   "outputs": [],
   "source": [
    "tv =  [\n",
    "    'breaking bad',\n",
    "    'the wire',\n",
    "    'how i met your mother',\n",
    "    'sherlock',\n",
    "    'the office',\n",
    "    'friends',\n",
    "    'the office',\n",
    "    'doctor who',\n",
    "    'dark'\n",
    "]"
   ]
  },
  {
   "cell_type": "code",
   "execution_count": 2,
   "id": "2ddb4d1b",
   "metadata": {},
   "outputs": [
    {
     "name": "stdout",
     "output_type": "stream",
     "text": [
      "<class 'list'>\n"
     ]
    }
   ],
   "source": [
    "print(type(tv))"
   ]
  },
  {
   "cell_type": "code",
   "execution_count": 5,
   "id": "e9114cc4",
   "metadata": {},
   "outputs": [],
   "source": [
    "# Generate a new list that contains all elements from index 2 before index 5"
   ]
  },
  {
   "cell_type": "code",
   "execution_count": null,
   "id": "ef492a33",
   "metadata": {},
   "outputs": [],
   "source": []
  },
  {
   "cell_type": "code",
   "execution_count": 6,
   "id": "683206c2",
   "metadata": {},
   "outputs": [
    {
     "name": "stdout",
     "output_type": "stream",
     "text": [
      "['how i met your mother', 'sherlock', 'the office']\n"
     ]
    }
   ],
   "source": [
    "a = tv[2:5]\n",
    "print(a)"
   ]
  },
  {
   "cell_type": "code",
   "execution_count": 9,
   "id": "536c1eae",
   "metadata": {},
   "outputs": [
    {
     "name": "stdout",
     "output_type": "stream",
     "text": [
      "['breaking bad', 'how i met your mother', 'the office', 'the office', 'dark']\n"
     ]
    }
   ],
   "source": [
    "# pick TV series at even indices\n",
    "\n",
    "b = tv[::2] # smilar as  tv[0:9:2]\n",
    "print(b)"
   ]
  },
  {
   "cell_type": "code",
   "execution_count": null,
   "id": "f6995960",
   "metadata": {},
   "outputs": [],
   "source": []
  },
  {
   "cell_type": "code",
   "execution_count": 11,
   "id": "f540dfee",
   "metadata": {},
   "outputs": [
    {
     "name": "stdout",
     "output_type": "stream",
     "text": [
      "9\n"
     ]
    }
   ],
   "source": [
    "c = len(tv)\n",
    "print(c)"
   ]
  },
  {
   "cell_type": "code",
   "execution_count": 12,
   "id": "ea74fdf6",
   "metadata": {},
   "outputs": [
    {
     "data": {
      "text/plain": [
       "['breaking bad',\n",
       " 'the wire',\n",
       " 'how i met your mother',\n",
       " 'sherlock',\n",
       " 'the office',\n",
       " 'friends',\n",
       " 'the office',\n",
       " 'doctor who',\n",
       " 'dark']"
      ]
     },
     "execution_count": 12,
     "metadata": {},
     "output_type": "execute_result"
    }
   ],
   "source": [
    "tv"
   ]
  },
  {
   "cell_type": "code",
   "execution_count": 16,
   "id": "0030cbbb",
   "metadata": {},
   "outputs": [
    {
     "name": "stdout",
     "output_type": "stream",
     "text": [
      "['dark', 'doctor who', 'the office', 'friends', 'the office', 'sherlock', 'how i met your mother', 'the wire']\n"
     ]
    }
   ],
   "source": [
    "b = tv[9:0:-1]\n",
    "print(b)"
   ]
  },
  {
   "cell_type": "code",
   "execution_count": null,
   "id": "f06d0f4e",
   "metadata": {},
   "outputs": [],
   "source": []
  },
  {
   "cell_type": "markdown",
   "id": "990afc4c",
   "metadata": {},
   "source": [
    "## Challenge - Reverse a list\n",
    "\n",
    "Given a list of numbers, reverse it and printit/(tryp this problem with and without inbuilt method)\n",
    "\n",
    "Input:  List= [4,5,8,1,9,2]\n",
    "\n",
    "output: 2 9 1 8 5 4"
   ]
  },
  {
   "cell_type": "code",
   "execution_count": null,
   "id": "79149f19",
   "metadata": {},
   "outputs": [],
   "source": [
    " "
   ]
  },
  {
   "cell_type": "code",
   "execution_count": 21,
   "id": "b9301d59",
   "metadata": {},
   "outputs": [
    {
     "name": "stdout",
     "output_type": "stream",
     "text": [
      "2 9 1 8 5 4 "
     ]
    }
   ],
   "source": [
    "# without the method\n",
    "\n",
    "l = [4,5,8,1,9,2]\n",
    "\n",
    "\n",
    "for i in range (len(l)-1, -1, -1):\n",
    "    print(l[i], end= ' ')"
   ]
  },
  {
   "cell_type": "code",
   "execution_count": null,
   "id": "714ea464",
   "metadata": {},
   "outputs": [],
   "source": []
  },
  {
   "cell_type": "code",
   "execution_count": 20,
   "id": "749588f4",
   "metadata": {},
   "outputs": [
    {
     "name": "stdout",
     "output_type": "stream",
     "text": [
      "[2, 9, 1, 8, 5, 4]\n"
     ]
    }
   ],
   "source": [
    "# with the slicing mehtod\n",
    "\n",
    "l = [4,5,8,1,9,2]\n",
    "\n",
    "r = l[::-1]\n",
    "\n",
    "print(r)"
   ]
  },
  {
   "cell_type": "code",
   "execution_count": null,
   "id": "eb53322d",
   "metadata": {},
   "outputs": [],
   "source": []
  },
  {
   "cell_type": "markdown",
   "id": "a6b680eb",
   "metadata": {},
   "source": [
    "# List comprehension\n",
    "\n",
    "* List comprehension is an elegant way to deifne and create lists based on exisitng lists.\n",
    "* Syntax:\n",
    "    * [expression for item in list]"
   ]
  },
  {
   "cell_type": "code",
   "execution_count": null,
   "id": "f33bcd09",
   "metadata": {},
   "outputs": [],
   "source": []
  },
  {
   "cell_type": "markdown",
   "id": "da9c1a1e",
   "metadata": {},
   "source": [
    "## Chhallenge - Square list\n",
    "\n",
    "generate a list of squares of all numbers between 1 to 100. Do it in one line of code\n",
    "\n",
    "Output: [1, 4, 9, 16, 25, 36, ......., 10000]"
   ]
  },
  {
   "cell_type": "code",
   "execution_count": null,
   "id": "e4b5d5e8",
   "metadata": {},
   "outputs": [],
   "source": []
  },
  {
   "cell_type": "code",
   "execution_count": 22,
   "id": "197a81d1",
   "metadata": {},
   "outputs": [
    {
     "name": "stdout",
     "output_type": "stream",
     "text": [
      "[1, 4, 9, 16, 25, 36, 49, 64, 81, 100, 121, 144, 169, 196, 225, 256, 289, 324, 361, 400, 441, 484, 529, 576, 625, 676, 729, 784, 841, 900, 961, 1024, 1089, 1156, 1225, 1296, 1369, 1444, 1521, 1600, 1681, 1764, 1849, 1936, 2025, 2116, 2209, 2304, 2401, 2500, 2601, 2704, 2809, 2916, 3025, 3136, 3249, 3364, 3481, 3600, 3721, 3844, 3969, 4096, 4225, 4356, 4489, 4624, 4761, 4900, 5041, 5184, 5329, 5476, 5625, 5776, 5929, 6084, 6241, 6400, 6561, 6724, 6889, 7056, 7225, 7396, 7569, 7744, 7921, 8100, 8281, 8464, 8649, 8836, 9025, 9216, 9409, 9604, 9801, 10000] "
     ]
    }
   ],
   "source": [
    "res = []\n",
    "\n",
    "for i in range (1,101):\n",
    "    res.append(i ** 2)\n",
    "    \n",
    "print (res, end= ' ')"
   ]
  },
  {
   "cell_type": "code",
   "execution_count": null,
   "id": "59acb80d",
   "metadata": {},
   "outputs": [],
   "source": []
  },
  {
   "cell_type": "code",
   "execution_count": 23,
   "id": "39a92a7f",
   "metadata": {},
   "outputs": [
    {
     "name": "stdout",
     "output_type": "stream",
     "text": [
      "[1, 4, 9, 16, 25, 36, 49, 64, 81, 100, 121, 144, 169, 196, 225, 256, 289, 324, 361, 400, 441, 484, 529, 576, 625, 676, 729, 784, 841, 900, 961, 1024, 1089, 1156, 1225, 1296, 1369, 1444, 1521, 1600, 1681, 1764, 1849, 1936, 2025, 2116, 2209, 2304, 2401, 2500, 2601, 2704, 2809, 2916, 3025, 3136, 3249, 3364, 3481, 3600, 3721, 3844, 3969, 4096, 4225, 4356, 4489, 4624, 4761, 4900, 5041, 5184, 5329, 5476, 5625, 5776, 5929, 6084, 6241, 6400, 6561, 6724, 6889, 7056, 7225, 7396, 7569, 7744, 7921, 8100, 8281, 8464, 8649, 8836, 9025, 9216, 9409, 9604, 9801, 10000] "
     ]
    }
   ],
   "source": [
    "res = [i**2 for i in range(1, 101)]\n",
    "\n",
    "print(res, end= ' ')"
   ]
  },
  {
   "cell_type": "code",
   "execution_count": null,
   "id": "4a404d53",
   "metadata": {},
   "outputs": [],
   "source": []
  },
  {
   "cell_type": "code",
   "execution_count": 27,
   "id": "0ac23492",
   "metadata": {},
   "outputs": [
    {
     "name": "stdout",
     "output_type": "stream",
     "text": [
      "2 9 1 8 5 4 "
     ]
    }
   ],
   "source": [
    "l = [4,5,8,1,9,2]\n",
    "\n",
    "for i in range (len(l)-1, -1, -1):\n",
    "    print(l[i], end= ' ')"
   ]
  },
  {
   "cell_type": "code",
   "execution_count": null,
   "id": "e50523dc",
   "metadata": {},
   "outputs": [],
   "source": []
  },
  {
   "cell_type": "code",
   "execution_count": 29,
   "id": "dc4c4665",
   "metadata": {},
   "outputs": [
    {
     "name": "stdout",
     "output_type": "stream",
     "text": [
      "[1, 4, 9, 16, 25, 36, 49, 64, 81, 100, 121, 144, 169, 196, 225, 256, 289, 324, 361, 400, 441, 484, 529, 576, 625, 676, 729, 784, 841, 900, 961, 1024, 1089, 1156, 1225, 1296, 1369, 1444, 1521, 1600, 1681, 1764, 1849, 1936, 2025, 2116, 2209, 2304, 2401, 2500, 2601, 2704, 2809, 2916, 3025, 3136, 3249, 3364, 3481, 3600, 3721, 3844, 3969, 4096, 4225, 4356, 4489, 4624, 4761, 4900, 5041, 5184, 5329, 5476, 5625, 5776, 5929, 6084, 6241, 6400, 6561, 6724, 6889, 7056, 7225, 7396, 7569, 7744, 7921, 8100, 8281, 8464, 8649, 8836, 9025, 9216, 9409, 9604, 9801, 10000]\n"
     ]
    }
   ],
   "source": [
    "# using MAP function\n",
    "\n",
    "def square(x):\n",
    "    return x ** 2\n",
    "\n",
    "r = list(map(square, range(1, 101)))\n",
    "\n",
    "print(r)"
   ]
  },
  {
   "cell_type": "code",
   "execution_count": null,
   "id": "868ee040",
   "metadata": {},
   "outputs": [],
   "source": []
  },
  {
   "cell_type": "markdown",
   "id": "02665411",
   "metadata": {},
   "source": [
    "# Even list\n",
    "\n",
    "Given a list of random umbers, filter out all even numbers from it. \n",
    "\n",
    "input: [ 27,24,21,46,48,6,25,38,10,40]\n",
    "\n",
    "Output: [24,46,48,6,38,10,40]"
   ]
  },
  {
   "cell_type": "code",
   "execution_count": null,
   "id": "a5490d47",
   "metadata": {},
   "outputs": [],
   "source": []
  },
  {
   "cell_type": "code",
   "execution_count": 2,
   "id": "315d47ad",
   "metadata": {},
   "outputs": [],
   "source": [
    "#method 1\n",
    "\n",
    "a = [27,24,21,46,48,6,25,38,10,40]\n",
    "\n",
    "b = []\n",
    "\n",
    "for x in a:\n",
    "    if x % 2 == 0:\n",
    "        b.append(x)"
   ]
  },
  {
   "cell_type": "code",
   "execution_count": 4,
   "id": "ad629050",
   "metadata": {},
   "outputs": [
    {
     "name": "stdout",
     "output_type": "stream",
     "text": [
      "[24, 46, 48, 6, 38, 10, 40]\n"
     ]
    }
   ],
   "source": [
    "print(b)"
   ]
  },
  {
   "cell_type": "code",
   "execution_count": null,
   "id": "8f1ab420",
   "metadata": {},
   "outputs": [],
   "source": []
  },
  {
   "cell_type": "code",
   "execution_count": null,
   "id": "f4164f12",
   "metadata": {},
   "outputs": [],
   "source": []
  },
  {
   "cell_type": "code",
   "execution_count": 7,
   "id": "c7ee675d",
   "metadata": {},
   "outputs": [
    {
     "name": "stdout",
     "output_type": "stream",
     "text": [
      "[24, 46, 48, 6, 38, 10, 40]\n"
     ]
    }
   ],
   "source": [
    "# Method 2\n",
    "\n",
    "a = [27,24,21,46,48,6,25,38,10,40]\n",
    "\n",
    "b = [x for x in a if x % 2 == 0]\n",
    "\n",
    "print(b)"
   ]
  },
  {
   "cell_type": "code",
   "execution_count": null,
   "id": "20207876",
   "metadata": {},
   "outputs": [],
   "source": []
  },
  {
   "cell_type": "markdown",
   "id": "51afd6fb",
   "metadata": {},
   "source": [
    "# Tuples\n",
    "\n",
    "* tuples are used to store multiple items in a single variable\n",
    "* A tuple is a collection which is ordered and immutable (unchangeable).\n",
    "* Tuples are written with round brackets.\n",
    "* Tuple items are indexed, the first item has index[0], the second item has index[1] etc.\n",
    "* Tuples can be created with tuple constructor - tuple()\n",
    "* Tuples can also be created by simply writing multiple values with comma separation.\n",
    "* Tuples can also be created by simply writing multiple values with comma separation.\n",
    "* Tuples are processed faster than lists in python."
   ]
  },
  {
   "cell_type": "code",
   "execution_count": null,
   "id": "a862961c",
   "metadata": {},
   "outputs": [],
   "source": []
  },
  {
   "cell_type": "code",
   "execution_count": 13,
   "id": "1ccf229f",
   "metadata": {},
   "outputs": [],
   "source": [
    "# Tuple is basically a read - only list\n",
    "\n",
    "continents = ['Asia', 'Africa', 'North America', 'South America', 'Europe', 'Antarctica', 'Australia']\n",
    "# this is a lsit and anyone can come and make any changes and mess up the spellings or the data which is already defined\n",
    "# So to freeze the data we will use tuples and define it in round brackets"
   ]
  },
  {
   "cell_type": "code",
   "execution_count": 15,
   "id": "0ff74497",
   "metadata": {},
   "outputs": [],
   "source": [
    "continents = ('Asia', 'Africa', 'North America', 'South America', 'Europe', 'Antarctica', 'Australia')"
   ]
  },
  {
   "cell_type": "code",
   "execution_count": 16,
   "id": "8bd89112",
   "metadata": {},
   "outputs": [
    {
     "name": "stdout",
     "output_type": "stream",
     "text": [
      "<class 'tuple'>\n"
     ]
    }
   ],
   "source": [
    "print(type(continents))"
   ]
  },
  {
   "cell_type": "code",
   "execution_count": 18,
   "id": "eb341e3d",
   "metadata": {},
   "outputs": [
    {
     "ename": "TypeError",
     "evalue": "'tuple' object does not support item assignment",
     "output_type": "error",
     "traceback": [
      "\u001b[1;31m---------------------------------------------------------------------------\u001b[0m",
      "\u001b[1;31mTypeError\u001b[0m                                 Traceback (most recent call last)",
      "Cell \u001b[1;32mIn[18], line 1\u001b[0m\n\u001b[1;32m----> 1\u001b[0m \u001b[43mcontinents\u001b[49m\u001b[43m[\u001b[49m\u001b[38;5;241;43m0\u001b[39;49m\u001b[43m]\u001b[49m \u001b[38;5;241m=\u001b[39m \u001b[38;5;124m'\u001b[39m\u001b[38;5;124mabcd\u001b[39m\u001b[38;5;124m'\u001b[39m\n\u001b[0;32m      3\u001b[0m \u001b[38;5;66;03m# once declared data in tuples cannot be changed again\u001b[39;00m\n",
      "\u001b[1;31mTypeError\u001b[0m: 'tuple' object does not support item assignment"
     ]
    }
   ],
   "source": [
    "continents[0] = 'abcd'\n",
    "\n",
    "# once declared data in tuples cannot be changed again"
   ]
  },
  {
   "cell_type": "code",
   "execution_count": null,
   "id": "79de65fd",
   "metadata": {},
   "outputs": [],
   "source": []
  },
  {
   "cell_type": "code",
   "execution_count": 19,
   "id": "47f9131d",
   "metadata": {},
   "outputs": [],
   "source": [
    "vowels = ('a', 'e', 'i', 'o', 'u')"
   ]
  },
  {
   "cell_type": "code",
   "execution_count": 21,
   "id": "7ef5bfcf",
   "metadata": {},
   "outputs": [
    {
     "name": "stdout",
     "output_type": "stream",
     "text": [
      "('a', 'e', 'i', 'o', 'u') <class 'tuple'>\n"
     ]
    }
   ],
   "source": [
    "print(vowels, type(vowels))"
   ]
  },
  {
   "cell_type": "code",
   "execution_count": null,
   "id": "25134e0c",
   "metadata": {},
   "outputs": [],
   "source": []
  },
  {
   "cell_type": "code",
   "execution_count": 24,
   "id": "f3a3f021",
   "metadata": {},
   "outputs": [],
   "source": [
    "planets = 'Mercury', 'Venus', 'Earth', 'Mars', 'Jupiter', 'Saturn', 'Uranus', 'Neptune', 'Pluto'\n",
    "\n",
    "# if you define and values with the commas and data in it it will read it as a tuple by default"
   ]
  },
  {
   "cell_type": "code",
   "execution_count": 23,
   "id": "32f57fd6",
   "metadata": {},
   "outputs": [
    {
     "name": "stdout",
     "output_type": "stream",
     "text": [
      "<class 'tuple'>\n"
     ]
    }
   ],
   "source": [
    "print(type(planets))"
   ]
  },
  {
   "cell_type": "code",
   "execution_count": null,
   "id": "8303fe69",
   "metadata": {},
   "outputs": [],
   "source": []
  },
  {
   "cell_type": "code",
   "execution_count": 29,
   "id": "a9478d2a",
   "metadata": {},
   "outputs": [
    {
     "name": "stdout",
     "output_type": "stream",
     "text": [
      "(27, 24, 21, 46, 48, 6, 25, 38, 10, 40)\n"
     ]
    }
   ],
   "source": [
    "# converting list to tuple\n",
    "\n",
    "a = tuple ([27,24,21,46,48,6,25,38,10,40])\n",
    "\n",
    "print(a)"
   ]
  },
  {
   "cell_type": "code",
   "execution_count": 28,
   "id": "1ecfbf3f",
   "metadata": {},
   "outputs": [
    {
     "name": "stdout",
     "output_type": "stream",
     "text": [
      "<class 'tuple'>\n"
     ]
    }
   ],
   "source": [
    "print(type(a))"
   ]
  },
  {
   "cell_type": "code",
   "execution_count": null,
   "id": "684a47c4",
   "metadata": {},
   "outputs": [],
   "source": []
  },
  {
   "cell_type": "code",
   "execution_count": 32,
   "id": "90da1792",
   "metadata": {},
   "outputs": [
    {
     "name": "stdout",
     "output_type": "stream",
     "text": [
      "<class 'tuple'>\n"
     ]
    }
   ],
   "source": [
    "a = ('Hello', 4, 5.4343, (3, 5))\n",
    "# tuple inside tuple will also work\n",
    "\n",
    "\n",
    "print(type(a))"
   ]
  },
  {
   "cell_type": "code",
   "execution_count": null,
   "id": "c99ace61",
   "metadata": {},
   "outputs": [],
   "source": []
  },
  {
   "cell_type": "code",
   "execution_count": 34,
   "id": "7a9cb29b",
   "metadata": {},
   "outputs": [
    {
     "name": "stdout",
     "output_type": "stream",
     "text": [
      "[27, 24, 21, 46, 48, 6, 25, 38, 10, 40] <class 'list'>\n"
     ]
    }
   ],
   "source": [
    "# converting a tuple to list\n",
    "\n",
    "a = (27, 24, 21, 46, 48, 6, 25, 38, 10, 40)\n",
    "\n",
    "b = list(a)\n",
    "print(b, type(b))"
   ]
  },
  {
   "cell_type": "code",
   "execution_count": 35,
   "id": "d90f2a09",
   "metadata": {},
   "outputs": [],
   "source": [
    "# tuple.append is not possible as we cannot make any changes"
   ]
  },
  {
   "cell_type": "code",
   "execution_count": null,
   "id": "1ad81bad",
   "metadata": {},
   "outputs": [],
   "source": []
  },
  {
   "cell_type": "code",
   "execution_count": 37,
   "id": "66ab85d3",
   "metadata": {},
   "outputs": [
    {
     "name": "stdout",
     "output_type": "stream",
     "text": [
      "(3, 5, 9, 6, 7) <class 'tuple'>\n"
     ]
    }
   ],
   "source": [
    "# How to make any change inside a tuple\n",
    "\n",
    "a = (3, 5, 4, 6, 7)\n",
    "\n",
    "b = list(a)\n",
    "b [2] = 9\n",
    "a = tuple(b)\n",
    "\n",
    "print(a, type(a))\n",
    "\n",
    "# here the tuple inside a is not the old tuple but it a new tuple, as we cannot change any valuse inside a tuple"
   ]
  },
  {
   "cell_type": "code",
   "execution_count": null,
   "id": "e4a90872",
   "metadata": {},
   "outputs": [],
   "source": []
  },
  {
   "cell_type": "code",
   "execution_count": 39,
   "id": "73b8ccaa",
   "metadata": {},
   "outputs": [],
   "source": [
    "# immutable objects always executes faster in python, hence tuple executes faster than lists, use tuples over tuples if you have a fixed data"
   ]
  },
  {
   "cell_type": "code",
   "execution_count": null,
   "id": "80e5e23a",
   "metadata": {},
   "outputs": [],
   "source": []
  },
  {
   "cell_type": "code",
   "execution_count": 42,
   "id": "a9bf472e",
   "metadata": {},
   "outputs": [
    {
     "name": "stdout",
     "output_type": "stream",
     "text": [
      "Asia\n",
      "Africa\n",
      "North America\n",
      "South America\n",
      "Europe\n",
      "Antarctica\n",
      "Australia\n"
     ]
    }
   ],
   "source": [
    "continents = ('Asia', 'Africa', 'North America', 'South America', 'Europe', 'Antarctica', 'Australia')\n",
    "\n",
    "for  c in continents:\n",
    "    print(c)"
   ]
  },
  {
   "cell_type": "code",
   "execution_count": 46,
   "id": "740d81e4",
   "metadata": {},
   "outputs": [
    {
     "data": {
      "text/plain": [
       "('Asia', 'Africa', 'North America')"
      ]
     },
     "execution_count": 46,
     "metadata": {},
     "output_type": "execute_result"
    }
   ],
   "source": [
    "continents[0:3]\n",
    "\n",
    "# tuple slicing does work\n",
    "# because we are just reading and changing any value"
   ]
  },
  {
   "cell_type": "code",
   "execution_count": null,
   "id": "90208b95",
   "metadata": {},
   "outputs": [],
   "source": []
  },
  {
   "cell_type": "code",
   "execution_count": 50,
   "id": "fcbfc407",
   "metadata": {},
   "outputs": [
    {
     "name": "stdout",
     "output_type": "stream",
     "text": [
      "<class 'list'>\n"
     ]
    }
   ],
   "source": [
    "a = (2, 3, 4, 1, ['hello'])\n",
    "\n",
    "print(type(a[4]))"
   ]
  },
  {
   "cell_type": "code",
   "execution_count": null,
   "id": "5278cb12",
   "metadata": {},
   "outputs": [],
   "source": []
  },
  {
   "cell_type": "code",
   "execution_count": 57,
   "id": "0cc618f9",
   "metadata": {},
   "outputs": [
    {
     "name": "stdout",
     "output_type": "stream",
     "text": [
      "(2, 3, 4, 1, ['hello', ' world', 'world', 'world', 'world', 'world'])\n"
     ]
    }
   ],
   "source": [
    "a[4].append('world')\n",
    "\n",
    "print(a)"
   ]
  },
  {
   "cell_type": "code",
   "execution_count": 59,
   "id": "f3c21376",
   "metadata": {},
   "outputs": [
    {
     "ename": "TypeError",
     "evalue": "'tuple' object does not support item assignment",
     "output_type": "error",
     "traceback": [
      "\u001b[1;31m---------------------------------------------------------------------------\u001b[0m",
      "\u001b[1;31mTypeError\u001b[0m                                 Traceback (most recent call last)",
      "Cell \u001b[1;32mIn[59], line 1\u001b[0m\n\u001b[1;32m----> 1\u001b[0m \u001b[43ma\u001b[49m\u001b[43m[\u001b[49m\u001b[38;5;241;43m4\u001b[39;49m\u001b[43m]\u001b[49m \u001b[38;5;241m=\u001b[39m [\u001b[38;5;124m'\u001b[39m\u001b[38;5;124mhello\u001b[39m\u001b[38;5;124m'\u001b[39m, \u001b[38;5;124m'\u001b[39m\u001b[38;5;124mworld\u001b[39m\u001b[38;5;124m'\u001b[39m, \u001b[38;5;124m'\u001b[39m\u001b[38;5;124mhow\u001b[39m\u001b[38;5;124m'\u001b[39m]\n\u001b[0;32m      3\u001b[0m \u001b[38;5;66;03m# this will not work, we must use append function\u001b[39;00m\n",
      "\u001b[1;31mTypeError\u001b[0m: 'tuple' object does not support item assignment"
     ]
    }
   ],
   "source": [
    "a[4] = ['hello', 'world', 'how']\n",
    "\n",
    "# this will not work, we must use append function"
   ]
  },
  {
   "cell_type": "code",
   "execution_count": null,
   "id": "fb06334a",
   "metadata": {},
   "outputs": [],
   "source": []
  },
  {
   "cell_type": "code",
   "execution_count": 61,
   "id": "0ddc5a13",
   "metadata": {},
   "outputs": [
    {
     "name": "stdout",
     "output_type": "stream",
     "text": [
      "(2, 5, 5, 3, 3, 6, 7, 1)\n"
     ]
    }
   ],
   "source": [
    "# adding tuples\n",
    "\n",
    "a = (2, 5 , 5, 3)\n",
    "b = (3, 6, 7, 1)\n",
    "\n",
    "c = a + b\n",
    "\n",
    "print(c)\n",
    "\n",
    "# we just created a new tuple"
   ]
  },
  {
   "cell_type": "code",
   "execution_count": null,
   "id": "c8f46bac",
   "metadata": {},
   "outputs": [],
   "source": []
  },
  {
   "cell_type": "code",
   "execution_count": 62,
   "id": "7f93d96a",
   "metadata": {},
   "outputs": [],
   "source": [
    "a, b, c, d = 2, 5, 6, 7"
   ]
  },
  {
   "cell_type": "code",
   "execution_count": 64,
   "id": "7f06b83b",
   "metadata": {},
   "outputs": [
    {
     "name": "stdout",
     "output_type": "stream",
     "text": [
      "<class 'int'>\n"
     ]
    }
   ],
   "source": [
    "print(type(c))"
   ]
  },
  {
   "cell_type": "code",
   "execution_count": null,
   "id": "426ff5c2",
   "metadata": {},
   "outputs": [],
   "source": []
  },
  {
   "cell_type": "code",
   "execution_count": 65,
   "id": "78607b18",
   "metadata": {},
   "outputs": [
    {
     "name": "stdout",
     "output_type": "stream",
     "text": [
      "(4, 0, 1, [3, 5, 6, 19])\n"
     ]
    }
   ],
   "source": [
    "a = [3, 5, 6]\n",
    "b = (4, 0, 1, a)\n",
    "a.append(19)\n",
    "\n",
    "print(b)"
   ]
  },
  {
   "cell_type": "code",
   "execution_count": null,
   "id": "031b54b8",
   "metadata": {},
   "outputs": [],
   "source": []
  },
  {
   "cell_type": "code",
   "execution_count": 67,
   "id": "78bf62c7",
   "metadata": {},
   "outputs": [
    {
     "name": "stdout",
     "output_type": "stream",
     "text": [
      "(1, 3, 5, 3, 6, 8)\n"
     ]
    }
   ],
   "source": [
    "a = (1, 3, 5)\n",
    "b = (3, 6, 8)\n",
    "\n",
    "a = a + b\n",
    "\n",
    "print(a)"
   ]
  },
  {
   "cell_type": "code",
   "execution_count": null,
   "id": "58a99968",
   "metadata": {},
   "outputs": [],
   "source": []
  },
  {
   "cell_type": "code",
   "execution_count": null,
   "id": "a9ceb215",
   "metadata": {},
   "outputs": [],
   "source": []
  },
  {
   "cell_type": "markdown",
   "id": "b21a8708",
   "metadata": {},
   "source": [
    "# Challenge - Check if sorted\n",
    "\n",
    "Given a list of numbers, check if it sorted ( in increasing order )"
   ]
  },
  {
   "cell_type": "code",
   "execution_count": null,
   "id": "9a400625",
   "metadata": {},
   "outputs": [],
   "source": []
  },
  {
   "cell_type": "code",
   "execution_count": 73,
   "id": "8d3703ba",
   "metadata": {},
   "outputs": [
    {
     "name": "stdout",
     "output_type": "stream",
     "text": [
      "not in the correct order\n"
     ]
    }
   ],
   "source": [
    "a = (1, 4, 19, 58, 2, 59, 3)\n",
    "\n",
    "#sort function only excits only on list\n",
    "\n",
    "ans = 'sorted'\n",
    "\n",
    "for i in range (len(a)-1):\n",
    "    if a[i] < a[i+1]:\n",
    "        continue\n",
    "    else:\n",
    "       ans = 'not in the correct order'\n",
    "    \n",
    "print(ans)"
   ]
  },
  {
   "cell_type": "code",
   "execution_count": null,
   "id": "c84cb25d",
   "metadata": {},
   "outputs": [],
   "source": []
  },
  {
   "cell_type": "code",
   "execution_count": 80,
   "id": "c10eddcc",
   "metadata": {},
   "outputs": [
    {
     "name": "stdout",
     "output_type": "stream",
     "text": [
      "not in the correct order\n"
     ]
    }
   ],
   "source": [
    "a = (1, 4, 19, 58, 2, 59, 3)\n",
    "\n",
    "\n",
    "for i in range (len(a)-1):\n",
    "    if a[i] < a[i+1]:\n",
    "        continue\n",
    "    else:\n",
    "       print('not in the correct order')\n",
    "       break"
   ]
  },
  {
   "cell_type": "code",
   "execution_count": 78,
   "id": "3a44258b",
   "metadata": {},
   "outputs": [
    {
     "name": "stdout",
     "output_type": "stream",
     "text": [
      "not in the correct order\n"
     ]
    }
   ],
   "source": [
    "a = (1, 4, 19, 58, 2, 59, 3)\n",
    "\n",
    "ans = 'sorted'\n",
    "\n",
    "for i in range (len(a)-1):\n",
    "    if a[i] > a[i+1]:\n",
    "       ans = 'not in the correct order'\n",
    "       break\n",
    "    \n",
    "print(ans)"
   ]
  },
  {
   "cell_type": "code",
   "execution_count": null,
   "id": "2c609caa",
   "metadata": {},
   "outputs": [],
   "source": []
  },
  {
   "cell_type": "code",
   "execution_count": null,
   "id": "93c835cf",
   "metadata": {},
   "outputs": [],
   "source": []
  },
  {
   "cell_type": "markdown",
   "id": "d53514a1",
   "metadata": {},
   "source": [
    "# Functions - args\n",
    "\n",
    "\n",
    "#### Challenge - Write a function which returns the product of all its arguments.\n",
    "\n",
    "The user should be able to call the function like\n",
    "\n",
    "    product(2, 3, 9, 1)   #54\n",
    "    product(4, 2)         #8\n",
    "    \n",
    "  The function should be able to accept any number of arguments"
   ]
  },
  {
   "cell_type": "code",
   "execution_count": null,
   "id": "cdb83385",
   "metadata": {},
   "outputs": [],
   "source": []
  },
  {
   "cell_type": "code",
   "execution_count": 86,
   "id": "5050710e",
   "metadata": {},
   "outputs": [],
   "source": [
    "def product(*nums):        # syntax is *variable\n",
    "    print(nums, type(nums))"
   ]
  },
  {
   "cell_type": "code",
   "execution_count": 85,
   "id": "a3510eff",
   "metadata": {},
   "outputs": [
    {
     "name": "stdout",
     "output_type": "stream",
     "text": [
      "(10, 20, 30, 44, 5, 7) <class 'tuple'>\n"
     ]
    }
   ],
   "source": [
    "product(10,20,30,44,5,7)"
   ]
  },
  {
   "cell_type": "code",
   "execution_count": null,
   "id": "1c4ff052",
   "metadata": {},
   "outputs": [],
   "source": []
  },
  {
   "cell_type": "code",
   "execution_count": 87,
   "id": "14847fd9",
   "metadata": {},
   "outputs": [],
   "source": [
    "def speak(*words):\n",
    "    print(words, type(words))\n",
    "    "
   ]
  },
  {
   "cell_type": "code",
   "execution_count": 88,
   "id": "2ba007f9",
   "metadata": {},
   "outputs": [
    {
     "name": "stdout",
     "output_type": "stream",
     "text": [
      "('hello', 'ji', 'how do you do') <class 'tuple'>\n"
     ]
    }
   ],
   "source": [
    "speak('hello', 'ji', 'how do you do')"
   ]
  },
  {
   "cell_type": "code",
   "execution_count": null,
   "id": "c90cd958",
   "metadata": {},
   "outputs": [],
   "source": []
  },
  {
   "cell_type": "code",
   "execution_count": 92,
   "id": "8194995b",
   "metadata": {},
   "outputs": [],
   "source": [
    "def product(*args):    # generally accepted term is args it is not the actual keyword\n",
    "    p = 1\n",
    "    for number in args:\n",
    "        p = p * number\n",
    "    return p"
   ]
  },
  {
   "cell_type": "code",
   "execution_count": 93,
   "id": "722069b7",
   "metadata": {},
   "outputs": [
    {
     "data": {
      "text/plain": [
       "6000"
      ]
     },
     "execution_count": 93,
     "metadata": {},
     "output_type": "execute_result"
    }
   ],
   "source": [
    "product(10,20,30)"
   ]
  },
  {
   "cell_type": "code",
   "execution_count": null,
   "id": "12ade305",
   "metadata": {},
   "outputs": [],
   "source": []
  },
  {
   "cell_type": "code",
   "execution_count": 95,
   "id": "63e6bfcf",
   "metadata": {},
   "outputs": [
    {
     "name": "stdout",
     "output_type": "stream",
     "text": [
      "1 2 6 7 6\n"
     ]
    }
   ],
   "source": [
    "a = [1,2,6,7,6]\n",
    "\n",
    "print(*a)\n",
    "\n",
    "# * - spread operator, it deletes the comma"
   ]
  },
  {
   "cell_type": "code",
   "execution_count": null,
   "id": "9aa3871f",
   "metadata": {},
   "outputs": [],
   "source": []
  },
  {
   "cell_type": "markdown",
   "id": "3ffab43c",
   "metadata": {},
   "source": [
    "# Functions - kwargs\n",
    "\n",
    "##### kwargs - key word arguments"
   ]
  },
  {
   "cell_type": "code",
   "execution_count": null,
   "id": "28939fb4",
   "metadata": {},
   "outputs": [],
   "source": []
  },
  {
   "cell_type": "code",
   "execution_count": 1,
   "id": "74c6898d",
   "metadata": {},
   "outputs": [],
   "source": [
    "def person(name, age, profession):\n",
    "    print(name, age, profession)\n",
    "    \n",
    "# we would not know what all the inputs can be given by the user, and here no changes can be made in the def function\n",
    "# this can be solved using kwargs function"
   ]
  },
  {
   "cell_type": "code",
   "execution_count": 2,
   "id": "664c2e5e",
   "metadata": {},
   "outputs": [
    {
     "name": "stdout",
     "output_type": "stream",
     "text": [
      "Peter Parker 20 Photographer\n"
     ]
    }
   ],
   "source": [
    "person('Peter Parker', 20, 'Photographer')"
   ]
  },
  {
   "cell_type": "code",
   "execution_count": null,
   "id": "2e40db5c",
   "metadata": {},
   "outputs": [],
   "source": []
  },
  {
   "cell_type": "code",
   "execution_count": 3,
   "id": "5a0e631e",
   "metadata": {},
   "outputs": [],
   "source": [
    "def person(name, age, profession, **kwargs): # ---> **kwargs has to be defined like this, although it is not a keyword, it is still a dictionary\n",
    "    print(name, age, profession)\n",
    "    print(kwargs)\n",
    "    print(type(kwargs))"
   ]
  },
  {
   "cell_type": "code",
   "execution_count": 4,
   "id": "982f1313",
   "metadata": {},
   "outputs": [
    {
     "name": "stdout",
     "output_type": "stream",
     "text": [
      "Peter Parker 20 Photographer\n",
      "{'city': 'New York', 'villains': ['Venow']}\n",
      "<class 'dict'>\n"
     ]
    }
   ],
   "source": [
    "person('Peter Parker', 20, 'Photographer', city= 'New York', villains=['Venow'])"
   ]
  },
  {
   "cell_type": "code",
   "execution_count": null,
   "id": "f500f6ca",
   "metadata": {},
   "outputs": [],
   "source": []
  },
  {
   "cell_type": "code",
   "execution_count": null,
   "id": "1cde6219",
   "metadata": {},
   "outputs": [],
   "source": []
  },
  {
   "cell_type": "code",
   "execution_count": 5,
   "id": "5ed3c6be",
   "metadata": {},
   "outputs": [],
   "source": [
    "def hogwarts(house1, house2, house3, house4, *args, **kwargs):\n",
    "    print('Houses are ', house1, house2, house3, house4)\n",
    "    print()\n",
    "    print('args:', args)\n",
    "    print()\n",
    "    print('kwargs:', kwargs)"
   ]
  },
  {
   "cell_type": "code",
   "execution_count": null,
   "id": "e59fc661",
   "metadata": {},
   "outputs": [],
   "source": []
  },
  {
   "cell_type": "code",
   "execution_count": 6,
   "id": "c1970b40",
   "metadata": {},
   "outputs": [
    {
     "name": "stdout",
     "output_type": "stream",
     "text": [
      "Houses are  Gryffiindor Ravenclaw Hufflepuff Slytherin\n",
      "\n",
      "args: ('Severus Snape', 'Horace Slughorn', 'Remus Lupin')\n",
      "\n",
      "kwargs: {'headmaster': 'Albus Dumbledore', 'deputy_headmasterss': 'Minerva McGonagall'}\n"
     ]
    }
   ],
   "source": [
    "hogwarts(\n",
    "    'Gryffiindor',\n",
    "    'Ravenclaw',\n",
    "    'Hufflepuff',\n",
    "    'Slytherin',\n",
    "    'Severus Snape',\n",
    "    'Horace Slughorn',\n",
    "    'Remus Lupin',\n",
    "    headmaster = 'Albus Dumbledore',\n",
    "    deputy_headmasterss = 'Minerva McGonagall'\n",
    ")"
   ]
  },
  {
   "cell_type": "code",
   "execution_count": null,
   "id": "886f1a7a",
   "metadata": {},
   "outputs": [],
   "source": []
  },
  {
   "cell_type": "code",
   "execution_count": 7,
   "id": "a9a54407",
   "metadata": {},
   "outputs": [],
   "source": [
    "def pg(room, bathroom, food, *facility, **rent):\n",
    "    print('Room no: ', room)\n",
    "    print()\n",
    "    print('Is bathroom clean ', bathroom)\n",
    "    print()\n",
    "    print('Is the food good ', food)\n",
    "    print()\n",
    "    print('What are the facitly', facility)\n",
    "    print()\n",
    "    print('The rent for 2, 3, 4 sharings are: ', rent)\n",
    "    "
   ]
  },
  {
   "cell_type": "code",
   "execution_count": null,
   "id": "c286fca6",
   "metadata": {},
   "outputs": [],
   "source": []
  },
  {
   "cell_type": "code",
   "execution_count": 8,
   "id": "2567c7d6",
   "metadata": {},
   "outputs": [
    {
     "name": "stdout",
     "output_type": "stream",
     "text": [
      "Room no:  605\n",
      "\n",
      "Is bathroom clean  Yes\n",
      "\n",
      "Is the food good  Yes\n",
      "\n",
      "What are the facitly ('gym', 'projector', 'lift', 'wifi')\n",
      "\n",
      "The rent for 2, 3, 4 sharings are:  {'two_sharing': '15k', 'three_sharing': '10k', 'four_sharing': '8k'}\n"
     ]
    }
   ],
   "source": [
    "pg(\n",
    "    605,\n",
    "    'Yes',\n",
    "    'Yes',\n",
    "    'gym',\n",
    "    'projector',\n",
    "    'lift',\n",
    "    'wifi',\n",
    "    two_sharing = '15k',\n",
    "    three_sharing = '10k',\n",
    "    four_sharing = '8k' \n",
    "\n",
    ")"
   ]
  },
  {
   "cell_type": "code",
   "execution_count": null,
   "id": "bb3d4f32",
   "metadata": {},
   "outputs": [],
   "source": []
  },
  {
   "cell_type": "code",
   "execution_count": 1,
   "id": "c8224180",
   "metadata": {},
   "outputs": [
    {
     "ename": "SyntaxError",
     "evalue": "invalid syntax (2830201818.py, line 1)",
     "output_type": "error",
     "traceback": [
      "\u001b[1;36m  Cell \u001b[1;32mIn[1], line 1\u001b[1;36m\u001b[0m\n\u001b[1;33m    git init\u001b[0m\n\u001b[1;37m        ^\u001b[0m\n\u001b[1;31mSyntaxError\u001b[0m\u001b[1;31m:\u001b[0m invalid syntax\n"
     ]
    }
   ],
   "source": [
    "git init"
   ]
  },
  {
   "cell_type": "code",
   "execution_count": null,
   "id": "6e16e937",
   "metadata": {},
   "outputs": [],
   "source": []
  }
 ],
 "metadata": {
  "kernelspec": {
   "display_name": "Python 3 (ipykernel)",
   "language": "python",
   "name": "python3"
  },
  "language_info": {
   "codemirror_mode": {
    "name": "ipython",
    "version": 3
   },
   "file_extension": ".py",
   "mimetype": "text/x-python",
   "name": "python",
   "nbconvert_exporter": "python",
   "pygments_lexer": "ipython3",
   "version": "3.11.5"
  }
 },
 "nbformat": 4,
 "nbformat_minor": 5
}
