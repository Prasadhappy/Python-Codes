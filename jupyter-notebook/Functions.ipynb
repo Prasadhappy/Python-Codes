{
 "cells": [
  {
   "cell_type": "markdown",
   "id": "9ba38595",
   "metadata": {},
   "source": [
    "# Functions in Python\n",
    "\n",
    "* A function is a block of code which only runs when it is called.\n",
    "* In python a function a defined with the 'def'\n",
    "* Functions can accept any number of arguments of any type \n",
    "* Functions can optionally return data as well. This data may also be of any type. You can return more than one value as well\n",
    "* Arguments can have default values as well.\n",
    "* While calling function, the user may define arguments as keyword pairs"
   ]
  },
  {
   "cell_type": "code",
   "execution_count": null,
   "id": "263621b4",
   "metadata": {},
   "outputs": [],
   "source": []
  },
  {
   "cell_type": "code",
   "execution_count": 1,
   "id": "65885db8",
   "metadata": {},
   "outputs": [
    {
     "name": "stdout",
     "output_type": "stream",
     "text": [
      "Not a part of the function\n"
     ]
    }
   ],
   "source": [
    "def tea():\n",
    "    print('Boil water with tea leaves and sugar')\n",
    "    print('Add milk')\n",
    "    print('Let it boil 4-5 times')\n",
    "    \n",
    "print('Not a part of the function')\n",
    "    \n",
    "def coffee():\n",
    "    print('Boil some milk')\n",
    "    print('Pour it in cup with some coffee')\n",
    "    print('Stir')\n",
    "    \n",
    "    \n",
    "    \n",
    "    \n",
    "# def function work only upon called"
   ]
  },
  {
   "cell_type": "code",
   "execution_count": null,
   "id": "cabf491f",
   "metadata": {},
   "outputs": [],
   "source": []
  },
  {
   "cell_type": "code",
   "execution_count": 2,
   "id": "009fe493",
   "metadata": {},
   "outputs": [
    {
     "name": "stdout",
     "output_type": "stream",
     "text": [
      "Boil water with tea leaves and sugar\n",
      "Add milk\n",
      "Let it boil 4-5 times\n"
     ]
    }
   ],
   "source": [
    "# Calling function\n",
    "tea()"
   ]
  },
  {
   "cell_type": "code",
   "execution_count": null,
   "id": "cad00d48",
   "metadata": {},
   "outputs": [],
   "source": []
  },
  {
   "cell_type": "code",
   "execution_count": 3,
   "id": "70ac8f55",
   "metadata": {},
   "outputs": [
    {
     "name": "stdout",
     "output_type": "stream",
     "text": [
      "Boil water with tea leaves and sugar\n",
      "Add milk\n",
      "Let it boil 4-5 times\n",
      "Boil water with tea leaves and sugar\n",
      "Add milk\n",
      "Let it boil 4-5 times\n",
      "Boil water with tea leaves and sugar\n",
      "Add milk\n",
      "Let it boil 4-5 times\n"
     ]
    }
   ],
   "source": [
    "# Can be called as many times\n",
    "\n",
    "tea()\n",
    "tea()\n",
    "tea()"
   ]
  },
  {
   "cell_type": "code",
   "execution_count": null,
   "id": "c897d32e",
   "metadata": {},
   "outputs": [],
   "source": []
  },
  {
   "cell_type": "code",
   "execution_count": 4,
   "id": "895c6bd2",
   "metadata": {},
   "outputs": [
    {
     "name": "stdout",
     "output_type": "stream",
     "text": [
      "Boil some milk\n",
      "Pour it in cup with some coffee\n",
      "Stir\n"
     ]
    }
   ],
   "source": [
    "coffee()"
   ]
  },
  {
   "cell_type": "code",
   "execution_count": null,
   "id": "15b79737",
   "metadata": {},
   "outputs": [],
   "source": []
  },
  {
   "cell_type": "markdown",
   "id": "f97b4905",
   "metadata": {},
   "source": [
    "### Write a function to say hello to people by their names"
   ]
  },
  {
   "cell_type": "code",
   "execution_count": null,
   "id": "63599e9c",
   "metadata": {},
   "outputs": [],
   "source": []
  },
  {
   "cell_type": "code",
   "execution_count": null,
   "id": "ca021574",
   "metadata": {},
   "outputs": [],
   "source": [
    "print('Hello Prasad')\n",
    "print('Hello Batman')\n",
    "Print('hello Thor')"
   ]
  },
  {
   "cell_type": "code",
   "execution_count": 12,
   "id": "00f50cd8",
   "metadata": {},
   "outputs": [],
   "source": [
    "def hello(name):\n",
    "    print('I am ', name)"
   ]
  },
  {
   "cell_type": "code",
   "execution_count": 14,
   "id": "7984132f",
   "metadata": {},
   "outputs": [
    {
     "name": "stdout",
     "output_type": "stream",
     "text": [
      "I am  Batman\n"
     ]
    }
   ],
   "source": [
    "hello ('Batman')\n",
    "\n",
    "\n",
    "# Here 'Batman' gets passed to (name) in def hello(name)\n",
    "# the string in hello(batman) gets passed implicitly to def hello(name)"
   ]
  },
  {
   "cell_type": "code",
   "execution_count": 11,
   "id": "74c9b4bb",
   "metadata": {},
   "outputs": [
    {
     "name": "stdout",
     "output_type": "stream",
     "text": [
      "I am iron name\n"
     ]
    }
   ],
   "source": [
    "hello('iron name')"
   ]
  },
  {
   "cell_type": "code",
   "execution_count": 13,
   "id": "c388f432",
   "metadata": {},
   "outputs": [
    {
     "name": "stdout",
     "output_type": "stream",
     "text": [
      "I am  4\n"
     ]
    }
   ],
   "source": [
    "hello(4)"
   ]
  },
  {
   "cell_type": "code",
   "execution_count": 15,
   "id": "58d47a15",
   "metadata": {},
   "outputs": [
    {
     "name": "stdout",
     "output_type": "stream",
     "text": [
      "I am  18\n",
      "I am  Virat\n",
      "I am  my jersy number is\n"
     ]
    }
   ],
   "source": [
    "hello(18)\n",
    "hello('Virat')\n",
    "hello('my jersy number is')"
   ]
  },
  {
   "cell_type": "code",
   "execution_count": 16,
   "id": "09c8bd5a",
   "metadata": {},
   "outputs": [
    {
     "name": "stdout",
     "output_type": "stream",
     "text": [
      "<class 'function'>\n"
     ]
    }
   ],
   "source": [
    "print(type(hello))"
   ]
  },
  {
   "cell_type": "code",
   "execution_count": null,
   "id": "c3bf5a44",
   "metadata": {},
   "outputs": [],
   "source": []
  },
  {
   "cell_type": "code",
   "execution_count": 18,
   "id": "0b935b81",
   "metadata": {},
   "outputs": [],
   "source": [
    "def fight(name, age, villains):\n",
    "    print('Hero name', name, 'at age ', age, 'was fighting the villians - ', villains)"
   ]
  },
  {
   "cell_type": "code",
   "execution_count": null,
   "id": "f184b274",
   "metadata": {},
   "outputs": [],
   "source": []
  },
  {
   "cell_type": "code",
   "execution_count": 20,
   "id": "250aec0f",
   "metadata": {},
   "outputs": [
    {
     "name": "stdout",
     "output_type": "stream",
     "text": [
      "Hero name spider man at age  15 was fighting the villians -  ['Green Goblin', 'elctro']\n"
     ]
    }
   ],
   "source": [
    "fight('spider man', 15, ['Green Goblin', 'elctro'])"
   ]
  },
  {
   "cell_type": "code",
   "execution_count": null,
   "id": "482f1cd1",
   "metadata": {},
   "outputs": [],
   "source": []
  },
  {
   "cell_type": "code",
   "execution_count": 24,
   "id": "3c91e62d",
   "metadata": {},
   "outputs": [
    {
     "name": "stdout",
     "output_type": "stream",
     "text": [
      "Hero name Iron man at age  30 was fighting the villians -  ['Thanos', 'Ultron']\n"
     ]
    }
   ],
   "source": [
    "def fight(name, age, villains = ['Thanos', 'Ultron']):\n",
    "    print('Hero name', name, 'at age ', age, 'was fighting the villians - ', villains)\n",
    "    \n",
    "    \n",
    "fight ('Iron man', 30)\n",
    "\n",
    "# there was default agrument was provided as ['Thanos', 'Ultron']\n",
    "# so if the 3rd argument was not provided while calling the function it will print the default values."
   ]
  },
  {
   "cell_type": "code",
   "execution_count": null,
   "id": "df8a45bf",
   "metadata": {},
   "outputs": [],
   "source": []
  },
  {
   "cell_type": "code",
   "execution_count": 25,
   "id": "c320970d",
   "metadata": {},
   "outputs": [],
   "source": [
    "# giving them the default values\n",
    "\n",
    "def fight(name = 'Spiderman', age = 15, villains= ['Green Goblin', 'Electro']):\n",
    "    print('Hero name', name, 'at age ', age, 'was fighting the villians - ', villains)"
   ]
  },
  {
   "cell_type": "code",
   "execution_count": 26,
   "id": "c7d4b762",
   "metadata": {},
   "outputs": [
    {
     "name": "stdout",
     "output_type": "stream",
     "text": [
      "Hero name Spiderman at age  15 was fighting the villians -  ['Green Goblin', 'Electro']\n"
     ]
    }
   ],
   "source": [
    "fight()"
   ]
  },
  {
   "cell_type": "code",
   "execution_count": null,
   "id": "ccb8c26a",
   "metadata": {},
   "outputs": [],
   "source": []
  },
  {
   "cell_type": "markdown",
   "id": "b8209094",
   "metadata": {},
   "source": [
    "## Returning data from a function"
   ]
  },
  {
   "cell_type": "markdown",
   "id": "f1f7f502",
   "metadata": {},
   "source": [
    "### Write a function to get the cube of a number"
   ]
  },
  {
   "cell_type": "code",
   "execution_count": null,
   "id": "debfae59",
   "metadata": {},
   "outputs": [],
   "source": []
  },
  {
   "cell_type": "code",
   "execution_count": 28,
   "id": "14ebb325",
   "metadata": {},
   "outputs": [],
   "source": [
    "def cube_of(x):\n",
    "\n",
    "    ans = x ** 3\n",
    "    return ans"
   ]
  },
  {
   "cell_type": "code",
   "execution_count": 29,
   "id": "063fe282",
   "metadata": {},
   "outputs": [
    {
     "data": {
      "text/plain": [
       "64"
      ]
     },
     "execution_count": 29,
     "metadata": {},
     "output_type": "execute_result"
    }
   ],
   "source": [
    "cube_of(4)"
   ]
  },
  {
   "cell_type": "code",
   "execution_count": null,
   "id": "bc9ef6a5",
   "metadata": {},
   "outputs": [],
   "source": []
  },
  {
   "cell_type": "code",
   "execution_count": 30,
   "id": "83d1a9fe",
   "metadata": {},
   "outputs": [],
   "source": [
    "def cube_of(x):\n",
    "#return value of x**3\n",
    "\n",
    "    ans = x ** 3\n",
    "    return ans"
   ]
  },
  {
   "cell_type": "code",
   "execution_count": 31,
   "id": "dc7f543a",
   "metadata": {},
   "outputs": [],
   "source": [
    "x = 5\n",
    "\n",
    "# compute the cube of c and store it in 'y'\n",
    "y = cube_of(x)\n",
    "\n",
    "#"
   ]
  },
  {
   "cell_type": "code",
   "execution_count": 33,
   "id": "045f1093",
   "metadata": {},
   "outputs": [
    {
     "name": "stdout",
     "output_type": "stream",
     "text": [
      "125 <class 'int'>\n"
     ]
    }
   ],
   "source": [
    "print(y, type(y))"
   ]
  },
  {
   "cell_type": "code",
   "execution_count": null,
   "id": "f00a2f3d",
   "metadata": {},
   "outputs": [],
   "source": []
  },
  {
   "cell_type": "code",
   "execution_count": 34,
   "id": "45d4bbd6",
   "metadata": {},
   "outputs": [
    {
     "name": "stdout",
     "output_type": "stream",
     "text": [
      "216\n"
     ]
    }
   ],
   "source": [
    "z = cube_of(6)\n",
    "print(z)"
   ]
  },
  {
   "cell_type": "code",
   "execution_count": null,
   "id": "cb08bef0",
   "metadata": {},
   "outputs": [],
   "source": []
  },
  {
   "cell_type": "markdown",
   "id": "ef9f78ed",
   "metadata": {},
   "source": [
    "### Return as many as values as you want"
   ]
  },
  {
   "cell_type": "code",
   "execution_count": null,
   "id": "ea910b01",
   "metadata": {},
   "outputs": [],
   "source": []
  },
  {
   "cell_type": "code",
   "execution_count": 45,
   "id": "132d57b9",
   "metadata": {},
   "outputs": [],
   "source": [
    "def spiderman():\n",
    "    return 'Peter Parker', 20, 'Tom'\n",
    "\n",
    "    return 5, 2,3. ## reduntant code, will never get executed\n",
    "# only one return can be use\n",
    "\n"
   ]
  },
  {
   "cell_type": "code",
   "execution_count": 46,
   "id": "64c5c24c",
   "metadata": {},
   "outputs": [],
   "source": [
    "name, age, actor = spiderman()"
   ]
  },
  {
   "cell_type": "code",
   "execution_count": 47,
   "id": "a02f3cad",
   "metadata": {},
   "outputs": [
    {
     "name": "stdout",
     "output_type": "stream",
     "text": [
      "name -  Peter Parker\n",
      "age -  20\n",
      "Actor -  Tom\n"
     ]
    }
   ],
   "source": [
    "print('name - ', name)\n",
    "print('age - ', age)\n",
    "print('Actor - ', actor)"
   ]
  },
  {
   "cell_type": "code",
   "execution_count": null,
   "id": "0837667c",
   "metadata": {},
   "outputs": [],
   "source": []
  },
  {
   "cell_type": "markdown",
   "id": "a45ed773",
   "metadata": {},
   "source": [
    "# Calling with keyword pair arguments"
   ]
  },
  {
   "cell_type": "code",
   "execution_count": null,
   "id": "25811fc6",
   "metadata": {},
   "outputs": [],
   "source": []
  },
  {
   "cell_type": "code",
   "execution_count": 50,
   "id": "dae29dbe",
   "metadata": {},
   "outputs": [],
   "source": [
    "def fight(name, age, villains = ['Thanos', 'Ultron']):\n",
    "    print('Hero name', name, 'at age ', age, 'was fighting the villians - ', villains)\n",
    "    \n",
    "    "
   ]
  },
  {
   "cell_type": "code",
   "execution_count": 54,
   "id": "f1bd535e",
   "metadata": {},
   "outputs": [
    {
     "name": "stdout",
     "output_type": "stream",
     "text": [
      "Hero name Spiderman at age  20 was fighting the villians -  ['Thanos jr', 'Electroo']\n"
     ]
    }
   ],
   "source": [
    "fight(age = 20, villains = ['Thanos jr', 'Electroo'], name = 'Spiderman')\n",
    "\n",
    "# even if you do not remember the order in the def function, this is the alternative way to use the keywordsto assign the value"
   ]
  },
  {
   "cell_type": "code",
   "execution_count": 55,
   "id": "8fc5be07",
   "metadata": {},
   "outputs": [],
   "source": [
    "fight?"
   ]
  },
  {
   "cell_type": "code",
   "execution_count": null,
   "id": "a1878715",
   "metadata": {},
   "outputs": [],
   "source": []
  },
  {
   "cell_type": "markdown",
   "id": "e483e082",
   "metadata": {},
   "source": [
    "## Call stack"
   ]
  },
  {
   "cell_type": "code",
   "execution_count": null,
   "id": "400337f7",
   "metadata": {},
   "outputs": [],
   "source": []
  },
  {
   "cell_type": "code",
   "execution_count": 57,
   "id": "e2610581",
   "metadata": {},
   "outputs": [
    {
     "name": "stdout",
     "output_type": "stream",
     "text": [
      "41\n",
      "hello\n",
      "100\n"
     ]
    }
   ],
   "source": [
    "def square(x):\n",
    "    return x ** 2\n",
    "\n",
    "def pyth(a,b):\n",
    "    c2 = square(a) + square(b)\n",
    "    return c2\n",
    "\n",
    "print(pyth(4,5))\n",
    "\n",
    "print('hello')\n",
    "print(square(10))"
   ]
  },
  {
   "cell_type": "markdown",
   "id": "ef5a789b",
   "metadata": {},
   "source": [
    "#### Area where a variable is accessible\n",
    "\n",
    "* scope of 'a' and 'b' was in c2 = square(a)+square(b)\n",
    "\n",
    "\n",
    "* print statments were in the Global Scope\n"
   ]
  },
  {
   "cell_type": "code",
   "execution_count": 58,
   "id": "6628ff28",
   "metadata": {},
   "outputs": [
    {
     "name": "stdout",
     "output_type": "stream",
     "text": [
      "41\n"
     ]
    }
   ],
   "source": [
    "m = 10        # Global Scope\n",
    "# its value can be read inside any function\n",
    "\n",
    "\n",
    "x = 1000  # Global 'x' s shadowed by the local 'x'\n",
    "\n",
    "def square(x):\n",
    "    return x ** 2\n",
    "\n",
    "def pyth(a,b):\n",
    "    c2 = square(a) + square(b)\n",
    "    return c2\n",
    "\n",
    "print(pyth(4,5))"
   ]
  },
  {
   "cell_type": "code",
   "execution_count": 61,
   "id": "3eef1ae1",
   "metadata": {},
   "outputs": [
    {
     "name": "stdout",
     "output_type": "stream",
     "text": [
      "global variable is =  4\n"
     ]
    }
   ],
   "source": [
    "y = 4        # Global y\n",
    "\n",
    "def square(x):\n",
    "    y = 10   # Local y\n",
    "    print('local y = ', y)\n",
    "    return x ** 2\n",
    "\n",
    "def pyth(a,b):\n",
    "    c2 = square(a) + square(b)\n",
    "    return c2\n",
    "\n",
    "\n",
    "print('global variable is = ', y)"
   ]
  },
  {
   "cell_type": "code",
   "execution_count": null,
   "id": "9488606a",
   "metadata": {},
   "outputs": [],
   "source": []
  },
  {
   "cell_type": "code",
   "execution_count": 62,
   "id": "d74a44d1",
   "metadata": {},
   "outputs": [
    {
     "name": "stdout",
     "output_type": "stream",
     "text": [
      "global variable is =  4\n"
     ]
    }
   ],
   "source": [
    "y = 4        # Global y\n",
    "\n",
    "def square(x):\n",
    "    global y\n",
    "    y = 10   # Local y\n",
    "    print('local y = ', y)\n",
    "    return x ** 2\n",
    "\n",
    "def pyth(a,b):\n",
    "    c2 = square(a) + square(b)\n",
    "    return c2\n",
    "\n",
    "\n",
    "print('global variable is = ', y)"
   ]
  },
  {
   "cell_type": "code",
   "execution_count": null,
   "id": "d52f3eae",
   "metadata": {},
   "outputs": [],
   "source": []
  },
  {
   "cell_type": "code",
   "execution_count": 92,
   "id": "58ffc3f8",
   "metadata": {},
   "outputs": [
    {
     "name": "stdout",
     "output_type": "stream",
     "text": [
      "x =  20\n",
      "hello world\n",
      "10\n"
     ]
    }
   ],
   "source": [
    "x = 10  # global scope\n",
    "\n",
    "def hello():\n",
    "    x = 20    # local scope or called as local variable\n",
    "    print('x = ', x)\n",
    "    print('hello world')\n",
    "    \n",
    "hello()\n",
    "print(x)"
   ]
  },
  {
   "cell_type": "code",
   "execution_count": null,
   "id": "eafb3d3f",
   "metadata": {},
   "outputs": [],
   "source": []
  },
  {
   "cell_type": "code",
   "execution_count": null,
   "id": "6463dd20",
   "metadata": {},
   "outputs": [],
   "source": []
  },
  {
   "cell_type": "code",
   "execution_count": null,
   "id": "2b14baaf",
   "metadata": {},
   "outputs": [],
   "source": []
  },
  {
   "cell_type": "code",
   "execution_count": null,
   "id": "3071e1ef",
   "metadata": {},
   "outputs": [],
   "source": []
  },
  {
   "cell_type": "markdown",
   "id": "41b225c2",
   "metadata": {},
   "source": [
    "# Map Function"
   ]
  },
  {
   "cell_type": "code",
   "execution_count": 67,
   "id": "3a605dd7",
   "metadata": {},
   "outputs": [],
   "source": [
    "def square(x):\n",
    "    return x ** 2\n",
    "\n",
    "a = [5,2, 6, 9, 3]"
   ]
  },
  {
   "cell_type": "markdown",
   "id": "ba22c4bc",
   "metadata": {},
   "source": [
    "Generate a list that contains the square of the number in 'a;\n",
    "\n",
    "b = [25, 4, 36, 81, 9]"
   ]
  },
  {
   "cell_type": "code",
   "execution_count": 64,
   "id": "c53a8f36",
   "metadata": {},
   "outputs": [
    {
     "name": "stdout",
     "output_type": "stream",
     "text": [
      "[25, 4, 36, 81, 9]\n"
     ]
    }
   ],
   "source": [
    "# 1st method\n",
    "\n",
    "b = []\n",
    "for x in a:\n",
    "    b.append(square(x))\n",
    "    \n",
    "print (b)"
   ]
  },
  {
   "cell_type": "code",
   "execution_count": null,
   "id": "f7e77eb8",
   "metadata": {},
   "outputs": [],
   "source": []
  },
  {
   "cell_type": "markdown",
   "id": "21abfdb5",
   "metadata": {},
   "source": [
    "whenever you want to call a function on all elements of an iterable (list, range, tuple, set)\n",
    "\n",
    "you can do it in one line"
   ]
  },
  {
   "cell_type": "code",
   "execution_count": null,
   "id": "dcd2572e",
   "metadata": {},
   "outputs": [],
   "source": []
  },
  {
   "cell_type": "code",
   "execution_count": 72,
   "id": "94298a91",
   "metadata": {},
   "outputs": [],
   "source": [
    "a = [5,2, 6, 9, 3]\n",
    "\n",
    "b = list(map(square, a))"
   ]
  },
  {
   "cell_type": "code",
   "execution_count": 73,
   "id": "b40d4d60",
   "metadata": {},
   "outputs": [
    {
     "name": "stdout",
     "output_type": "stream",
     "text": [
      "[25, 4, 36, 81, 9]\n"
     ]
    }
   ],
   "source": [
    "print(b)"
   ]
  },
  {
   "cell_type": "code",
   "execution_count": null,
   "id": "e44535ca",
   "metadata": {},
   "outputs": [],
   "source": []
  },
  {
   "cell_type": "code",
   "execution_count": null,
   "id": "1ee3da06",
   "metadata": {},
   "outputs": [],
   "source": []
  },
  {
   "cell_type": "markdown",
   "id": "360fd6e0",
   "metadata": {},
   "source": [
    "# Lambda function\n",
    "\n",
    "A lambda function is a small anonymous function.\n",
    "A lambda function can take any number of arguments, but can only have one expression.\n",
    "\n",
    "Example:\n",
    "\n",
    "    square = lambda n: n**2\n",
    "    print(square(5)) #25"
   ]
  },
  {
   "cell_type": "code",
   "execution_count": 74,
   "id": "a0cbd199",
   "metadata": {},
   "outputs": [],
   "source": [
    "def square(x):\n",
    "    return x ** 2\n",
    "\n",
    "def cube(x):\n",
    "    return x ** 3\n",
    "\n",
    "# there is a simpler way to write this using lambda function"
   ]
  },
  {
   "cell_type": "code",
   "execution_count": null,
   "id": "7545d71f",
   "metadata": {},
   "outputs": [],
   "source": []
  },
  {
   "cell_type": "code",
   "execution_count": 75,
   "id": "7a9be93d",
   "metadata": {},
   "outputs": [],
   "source": [
    "square2 = lambda x: x **2"
   ]
  },
  {
   "cell_type": "code",
   "execution_count": 76,
   "id": "29c2a06c",
   "metadata": {},
   "outputs": [
    {
     "data": {
      "text/plain": [
       "100"
      ]
     },
     "execution_count": 76,
     "metadata": {},
     "output_type": "execute_result"
    }
   ],
   "source": [
    "square2(10)"
   ]
  },
  {
   "cell_type": "code",
   "execution_count": null,
   "id": "e8ad0ef4",
   "metadata": {},
   "outputs": [],
   "source": []
  },
  {
   "cell_type": "code",
   "execution_count": 87,
   "id": "7226b15c",
   "metadata": {},
   "outputs": [
    {
     "data": {
      "text/plain": [
       "30"
      ]
     },
     "execution_count": 87,
     "metadata": {},
     "output_type": "execute_result"
    }
   ],
   "source": [
    "multiply = lambda a,b: a*b\n",
    "\n",
    "def multiply2(a, b):\n",
    "    return a*b\n",
    "\n",
    "multiply2(5,6)"
   ]
  },
  {
   "cell_type": "code",
   "execution_count": 90,
   "id": "d60aa67e",
   "metadata": {},
   "outputs": [
    {
     "name": "stdout",
     "output_type": "stream",
     "text": [
      "30\n",
      "30\n"
     ]
    }
   ],
   "source": [
    "multiply = lambda a,b: a*b\n",
    "\n",
    "def multiply2(a, b):\n",
    "    return a*b\n",
    "\n",
    "a = 5\n",
    "b = 6\n",
    "\n",
    "print (multiply(a,b))\n",
    "print (multiply2(a,b))\n",
    "\n",
    "\n",
    "# here both multiply and multiply2 are same "
   ]
  },
  {
   "cell_type": "code",
   "execution_count": null,
   "id": "9e22ff59",
   "metadata": {},
   "outputs": [],
   "source": []
  },
  {
   "cell_type": "code",
   "execution_count": 93,
   "id": "eec73242",
   "metadata": {},
   "outputs": [],
   "source": [
    "d = lambda b: (b ** 2, b+b)"
   ]
  },
  {
   "cell_type": "code",
   "execution_count": 95,
   "id": "ce587fcc",
   "metadata": {},
   "outputs": [
    {
     "data": {
      "text/plain": [
       "(100, 20)"
      ]
     },
     "execution_count": 95,
     "metadata": {},
     "output_type": "execute_result"
    }
   ],
   "source": [
    "d(10)"
   ]
  },
  {
   "cell_type": "code",
   "execution_count": null,
   "id": "08326e75",
   "metadata": {},
   "outputs": [],
   "source": []
  },
  {
   "cell_type": "code",
   "execution_count": null,
   "id": "4e2b0b0b",
   "metadata": {},
   "outputs": [],
   "source": []
  },
  {
   "cell_type": "code",
   "execution_count": null,
   "id": "4995dd39",
   "metadata": {},
   "outputs": [],
   "source": []
  },
  {
   "cell_type": "code",
   "execution_count": null,
   "id": "e7c6caf4",
   "metadata": {},
   "outputs": [],
   "source": []
  },
  {
   "cell_type": "code",
   "execution_count": null,
   "id": "a70ecfba",
   "metadata": {},
   "outputs": [],
   "source": []
  },
  {
   "cell_type": "code",
   "execution_count": null,
   "id": "79336b3a",
   "metadata": {},
   "outputs": [],
   "source": []
  },
  {
   "cell_type": "code",
   "execution_count": null,
   "id": "7463fff7",
   "metadata": {},
   "outputs": [],
   "source": []
  },
  {
   "cell_type": "code",
   "execution_count": null,
   "id": "a946e496",
   "metadata": {},
   "outputs": [],
   "source": []
  }
 ],
 "metadata": {
  "kernelspec": {
   "display_name": "Python 3 (ipykernel)",
   "language": "python",
   "name": "python3"
  },
  "language_info": {
   "codemirror_mode": {
    "name": "ipython",
    "version": 3
   },
   "file_extension": ".py",
   "mimetype": "text/x-python",
   "name": "python",
   "nbconvert_exporter": "python",
   "pygments_lexer": "ipython3",
   "version": "3.10.11"
  }
 },
 "nbformat": 4,
 "nbformat_minor": 5
}
