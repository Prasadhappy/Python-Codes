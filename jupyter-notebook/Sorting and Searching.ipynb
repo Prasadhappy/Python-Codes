{
 "cells": [
  {
   "cell_type": "markdown",
   "id": "ceb0a4f3",
   "metadata": {},
   "source": [
    "# Sorting"
   ]
  },
  {
   "cell_type": "code",
   "execution_count": null,
   "id": "515b1c21",
   "metadata": {},
   "outputs": [],
   "source": []
  },
  {
   "cell_type": "code",
   "execution_count": 1,
   "id": "54695685",
   "metadata": {},
   "outputs": [],
   "source": [
    "a = [4, 5, 8, 1, 9, 15]"
   ]
  },
  {
   "cell_type": "code",
   "execution_count": null,
   "id": "5d604ecf",
   "metadata": {},
   "outputs": [],
   "source": []
  },
  {
   "cell_type": "markdown",
   "id": "888bdd96",
   "metadata": {},
   "source": [
    "# Inbuilt sorting methods\n",
    "\n",
    "### **sort() mehtod**"
   ]
  },
  {
   "cell_type": "code",
   "execution_count": 2,
   "id": "eac9cc94",
   "metadata": {},
   "outputs": [],
   "source": [
    "a = [4, 5, 8, 1, 9, 15]\n",
    "\n",
    "a.sort()"
   ]
  },
  {
   "cell_type": "code",
   "execution_count": 3,
   "id": "066ba9c8",
   "metadata": {},
   "outputs": [
    {
     "name": "stdout",
     "output_type": "stream",
     "text": [
      "[1, 4, 5, 8, 9, 15]\n"
     ]
    }
   ],
   "source": [
    "print(a)"
   ]
  },
  {
   "cell_type": "code",
   "execution_count": null,
   "id": "d8b6da77",
   "metadata": {},
   "outputs": [],
   "source": []
  },
  {
   "cell_type": "code",
   "execution_count": 4,
   "id": "e01af126",
   "metadata": {},
   "outputs": [],
   "source": [
    "a = [4, 5, 8, 1, 9, 15]\n",
    "\n",
    "b = sorted(a)"
   ]
  },
  {
   "cell_type": "code",
   "execution_count": 5,
   "id": "2098a07d",
   "metadata": {},
   "outputs": [
    {
     "name": "stdout",
     "output_type": "stream",
     "text": [
      "[4, 5, 8, 1, 9, 15]\n"
     ]
    }
   ],
   "source": [
    "print(a)"
   ]
  },
  {
   "cell_type": "code",
   "execution_count": 6,
   "id": "5a88b1cd",
   "metadata": {},
   "outputs": [
    {
     "name": "stdout",
     "output_type": "stream",
     "text": [
      "[1, 4, 5, 8, 9, 15]\n"
     ]
    }
   ],
   "source": [
    "print(b)"
   ]
  },
  {
   "cell_type": "code",
   "execution_count": null,
   "id": "4f9d7f35",
   "metadata": {},
   "outputs": [],
   "source": []
  },
  {
   "cell_type": "code",
   "execution_count": 7,
   "id": "b069f18e",
   "metadata": {},
   "outputs": [],
   "source": [
    "# Decreasing order \n",
    "\n",
    "a = [4, 5, 8, 1, 9, 15]\n",
    "\n",
    "b = sorted(a, reverse=True)"
   ]
  },
  {
   "cell_type": "code",
   "execution_count": 8,
   "id": "3adac120",
   "metadata": {},
   "outputs": [
    {
     "name": "stdout",
     "output_type": "stream",
     "text": [
      "[15, 9, 8, 5, 4, 1]\n"
     ]
    }
   ],
   "source": [
    "print(b)"
   ]
  },
  {
   "cell_type": "code",
   "execution_count": null,
   "id": "f2ab1db0",
   "metadata": {},
   "outputs": [],
   "source": []
  },
  {
   "cell_type": "code",
   "execution_count": 10,
   "id": "03c97de4",
   "metadata": {},
   "outputs": [
    {
     "name": "stdout",
     "output_type": "stream",
     "text": [
      "None\n"
     ]
    }
   ],
   "source": [
    "b = a.sort()\n",
    "print(b)\n",
    "\n",
    "# Does not return anything\n",
    "# It returns None"
   ]
  },
  {
   "cell_type": "code",
   "execution_count": 11,
   "id": "9e09de46",
   "metadata": {},
   "outputs": [
    {
     "name": "stdout",
     "output_type": "stream",
     "text": [
      "[15, 9, 8, 5, 4, 1]\n"
     ]
    }
   ],
   "source": [
    "a = [4, 5, 8, 1, 9, 15]\n",
    "\n",
    "a.sort(reverse=True)\n",
    "print(a)"
   ]
  },
  {
   "cell_type": "markdown",
   "id": "6efb11a4",
   "metadata": {},
   "source": [
    "### Time complexity of both is = O(n log n)"
   ]
  },
  {
   "cell_type": "code",
   "execution_count": null,
   "id": "013a3db0",
   "metadata": {},
   "outputs": [],
   "source": []
  },
  {
   "cell_type": "markdown",
   "id": "88a545d5",
   "metadata": {},
   "source": [
    "# Bubble sort"
   ]
  },
  {
   "cell_type": "markdown",
   "id": "168e468d",
   "metadata": {},
   "source": [
    "Bubble sort works on the repeatedly swapping of adjacent elements until they are not in the intended order. It is called bubble sort because the movement of array elemets is just like the movement of the air bubbles in the water. Bubbles in water rise up to the surface; similarly, the array elemets in bubble sort move to the end in each iteration."
   ]
  },
  {
   "cell_type": "code",
   "execution_count": null,
   "id": "8fc5ec67",
   "metadata": {},
   "outputs": [],
   "source": []
  },
  {
   "cell_type": "code",
   "execution_count": 12,
   "id": "487b7f6a",
   "metadata": {},
   "outputs": [],
   "source": [
    "a = [4, 2, 5, 10, 1, 3]\n",
    "\n",
    "n = len(a)"
   ]
  },
  {
   "cell_type": "code",
   "execution_count": 15,
   "id": "b7a95432",
   "metadata": {},
   "outputs": [],
   "source": [
    "for i in range(n):                      # we will be requiring n iteration\n",
    "    for j in range(0, n-1):             #the left marker/pointer went only from 0th index to n-1 index\n",
    "        \n",
    "#         Pick two consecutive elements\n",
    "#         If they are not in correct order, swap them\n",
    "\n",
    "        if a[j] > a[j+1]:\n",
    "            a[j], a[j+1] = a[j+1], a[j]"
   ]
  },
  {
   "cell_type": "code",
   "execution_count": 16,
   "id": "7e0d91b4",
   "metadata": {},
   "outputs": [
    {
     "name": "stdout",
     "output_type": "stream",
     "text": [
      "[1, 2, 3, 4, 5, 10]\n"
     ]
    }
   ],
   "source": [
    "print(a)"
   ]
  },
  {
   "cell_type": "code",
   "execution_count": null,
   "id": "b8fe5861",
   "metadata": {},
   "outputs": [],
   "source": []
  },
  {
   "cell_type": "markdown",
   "id": "ed2a095c",
   "metadata": {},
   "source": [
    "# Searching\n",
    "\n",
    "\n",
    "### **Linear Search**"
   ]
  },
  {
   "cell_type": "code",
   "execution_count": 17,
   "id": "e37714dd",
   "metadata": {},
   "outputs": [],
   "source": [
    "a = [4,2,5,12,6,7,8,1,-1]\n",
    "key = 5\n",
    "\n",
    "# Check if key(5) is in the list (a) and report the index as well"
   ]
  },
  {
   "cell_type": "code",
   "execution_count": 20,
   "id": "43630900",
   "metadata": {},
   "outputs": [
    {
     "name": "stdout",
     "output_type": "stream",
     "text": [
      "Found at index 2\n"
     ]
    }
   ],
   "source": [
    "ans = -1\n",
    "\n",
    "for i in range(len(a)):\n",
    "    if a[i] == key:\n",
    "        ans = i\n",
    "        break\n",
    "        \n",
    "if ans == -1:\n",
    "    print('Not found')\n",
    "else:\n",
    "    print('Found at index', ans)"
   ]
  },
  {
   "cell_type": "code",
   "execution_count": null,
   "id": "5baa37be",
   "metadata": {},
   "outputs": [],
   "source": []
  },
  {
   "cell_type": "code",
   "execution_count": null,
   "id": "3914b222",
   "metadata": {},
   "outputs": [],
   "source": [
    "ans = -1\n",
    "\n",
    "for i, num in enumerate(a):\n",
    "    if num   == key:\n",
    "        ans = i\n",
    "        break\n"
   ]
  },
  {
   "cell_type": "code",
   "execution_count": 21,
   "id": "908b13c1",
   "metadata": {},
   "outputs": [],
   "source": [
    "# enumerate function allows to check to elements in pair in a list\n"
   ]
  },
  {
   "cell_type": "code",
   "execution_count": null,
   "id": "63462a33",
   "metadata": {},
   "outputs": [],
   "source": []
  },
  {
   "cell_type": "markdown",
   "id": "87ebbbfb",
   "metadata": {},
   "source": [
    "# Binary Search"
   ]
  },
  {
   "cell_type": "markdown",
   "id": "7c7fb2ce",
   "metadata": {},
   "source": [
    "#### **Prerequisite**\n",
    "\n",
    "* Array must be sorted\n",
    "\n",
    "#### **Algorithm**\n",
    "\n",
    "* Find the middle element and compareit with x.\n",
    "* If middle element is equal to x, end the search. You found the element.\n",
    "* If middle element is greated than x, search for x in left half.\n",
    "* If middle element is less than x, search for x in right half.\n",
    "* Repeat the above steps till you find x \n",
    "\n",
    "#### **Points to remember**\n",
    " * Binary Search is Divide and Conquer techinque."
   ]
  },
  {
   "cell_type": "code",
   "execution_count": 2,
   "id": "cfad8f97",
   "metadata": {},
   "outputs": [],
   "source": [
    "a = [1, 5, 7, 10, 15, 20, 23]\n",
    "\n",
    "target = 7\n",
    "\n",
    "n = len(a)"
   ]
  },
  {
   "cell_type": "code",
   "execution_count": 3,
   "id": "8c71cd63",
   "metadata": {},
   "outputs": [
    {
     "name": "stdout",
     "output_type": "stream",
     "text": [
      "2\n"
     ]
    }
   ],
   "source": [
    "ans = -1\n",
    "\n",
    "start = 0\n",
    "end = n-1\n",
    "\n",
    "while start <= end:\n",
    "    mid = (start + end) // 2\n",
    "    \n",
    "#     That I found the target number\n",
    "    if a[mid] == target:\n",
    "            ans = mid\n",
    "            break\n",
    "        \n",
    "    elif a[mid] > target:\n",
    "#             Search in the left part\n",
    "        end = mid - 1\n",
    "#         That the mid number is less than target\n",
    "    else:\n",
    "#             Search in the right part\n",
    "        start = mid + 1\n",
    "    \n",
    "if ans == -1:\n",
    "    print('The number is not present in the list')\n",
    "else:\n",
    "    print(ans)"
   ]
  },
  {
   "cell_type": "code",
   "execution_count": null,
   "id": "3e3c1f9c",
   "metadata": {},
   "outputs": [],
   "source": []
  },
  {
   "cell_type": "markdown",
   "id": "20018eb0",
   "metadata": {},
   "source": [
    "# Duplicate elements - lowerbound, upperbound"
   ]
  },
  {
   "cell_type": "code",
   "execution_count": null,
   "id": "ba3b59f5",
   "metadata": {},
   "outputs": [],
   "source": []
  },
  {
   "cell_type": "code",
   "execution_count": 4,
   "id": "2b4dcdef",
   "metadata": {},
   "outputs": [],
   "source": [
    "a = [1, 2, 2, 2, 2, 2, 2, 3,3,3,3, 4]\n",
    "\n",
    "target = 2\n",
    "\n",
    "n = len(a)"
   ]
  },
  {
   "cell_type": "markdown",
   "id": "ba641fdd",
   "metadata": {},
   "source": [
    "# Lowerbound - index of the first occurence"
   ]
  },
  {
   "cell_type": "code",
   "execution_count": 5,
   "id": "1cdebe4b",
   "metadata": {},
   "outputs": [
    {
     "name": "stdout",
     "output_type": "stream",
     "text": [
      "1\n"
     ]
    }
   ],
   "source": [
    "ans = -1\n",
    "\n",
    "start = 0\n",
    "end = n-1\n",
    "\n",
    "while start <= end:\n",
    "    mid = (start + end) // 2\n",
    "    \n",
    "    if a[mid] == target:\n",
    "            ans = mid\n",
    "#             break\n",
    "            end = mid - 1\n",
    "        \n",
    "    elif a[mid] > target:\n",
    "        end = mid - 1\n",
    "    else:\n",
    "        start = mid + 1\n",
    "    \n",
    "if ans == -1:\n",
    "    print('The number is not present in the list')\n",
    "else:\n",
    "    print(ans)"
   ]
  },
  {
   "cell_type": "code",
   "execution_count": null,
   "id": "e5ed5216",
   "metadata": {},
   "outputs": [],
   "source": []
  },
  {
   "cell_type": "markdown",
   "id": "eda8974d",
   "metadata": {},
   "source": [
    "# upperbound - index of the last occurence"
   ]
  },
  {
   "cell_type": "code",
   "execution_count": 1,
   "id": "3e24c693",
   "metadata": {},
   "outputs": [
    {
     "name": "stdout",
     "output_type": "stream",
     "text": [
      "6\n"
     ]
    }
   ],
   "source": [
    "a = [1, 2, 2, 2, 2, 2, 2, 3,3,3,3, 4]\n",
    "\n",
    "target = 2\n",
    "\n",
    "n = len(a)\n",
    "\n",
    "ans = -1\n",
    "\n",
    "start = 0\n",
    "end = n-1\n",
    "\n",
    "while start <= end:\n",
    "    mid = (start + end) // 2\n",
    "    \n",
    "    if a[mid] == target:\n",
    "            ans = mid\n",
    "#             break\n",
    "            start = mid + 1\n",
    "        \n",
    "    elif a[mid] > target:\n",
    "        end = mid - 1\n",
    "    else:\n",
    "        start = mid + 1\n",
    "    \n",
    "if ans == -1:\n",
    "    print('The number is not present in the list')\n",
    "else:\n",
    "    print(ans)"
   ]
  },
  {
   "cell_type": "code",
   "execution_count": null,
   "id": "e68050c0",
   "metadata": {},
   "outputs": [],
   "source": []
  },
  {
   "cell_type": "code",
   "execution_count": null,
   "id": "0f42fe2b",
   "metadata": {},
   "outputs": [],
   "source": []
  },
  {
   "cell_type": "code",
   "execution_count": null,
   "id": "5ddbabe6",
   "metadata": {},
   "outputs": [],
   "source": []
  },
  {
   "cell_type": "code",
   "execution_count": null,
   "id": "729434ff",
   "metadata": {},
   "outputs": [],
   "source": []
  },
  {
   "cell_type": "code",
   "execution_count": null,
   "id": "f5983d6e",
   "metadata": {},
   "outputs": [],
   "source": []
  },
  {
   "cell_type": "code",
   "execution_count": null,
   "id": "0d0835cb",
   "metadata": {},
   "outputs": [],
   "source": []
  },
  {
   "cell_type": "code",
   "execution_count": null,
   "id": "97f49b1f",
   "metadata": {},
   "outputs": [],
   "source": []
  },
  {
   "cell_type": "code",
   "execution_count": null,
   "id": "a46df8d3",
   "metadata": {},
   "outputs": [],
   "source": []
  },
  {
   "cell_type": "code",
   "execution_count": null,
   "id": "667201a1",
   "metadata": {},
   "outputs": [],
   "source": []
  },
  {
   "cell_type": "code",
   "execution_count": null,
   "id": "90f99211",
   "metadata": {},
   "outputs": [],
   "source": []
  },
  {
   "cell_type": "code",
   "execution_count": null,
   "id": "acdc6d40",
   "metadata": {},
   "outputs": [],
   "source": []
  },
  {
   "cell_type": "code",
   "execution_count": null,
   "id": "4f9ef7a3",
   "metadata": {},
   "outputs": [],
   "source": []
  },
  {
   "cell_type": "code",
   "execution_count": null,
   "id": "25ba82a8",
   "metadata": {},
   "outputs": [],
   "source": []
  },
  {
   "cell_type": "code",
   "execution_count": null,
   "id": "c424a005",
   "metadata": {},
   "outputs": [],
   "source": []
  },
  {
   "cell_type": "code",
   "execution_count": null,
   "id": "608ac446",
   "metadata": {},
   "outputs": [],
   "source": []
  },
  {
   "cell_type": "code",
   "execution_count": null,
   "id": "4df14bfe",
   "metadata": {},
   "outputs": [],
   "source": []
  },
  {
   "cell_type": "code",
   "execution_count": null,
   "id": "3319df9c",
   "metadata": {},
   "outputs": [],
   "source": []
  },
  {
   "cell_type": "code",
   "execution_count": null,
   "id": "53041286",
   "metadata": {},
   "outputs": [],
   "source": []
  },
  {
   "cell_type": "code",
   "execution_count": null,
   "id": "01aa8eeb",
   "metadata": {},
   "outputs": [],
   "source": []
  },
  {
   "cell_type": "code",
   "execution_count": null,
   "id": "11c7428c",
   "metadata": {},
   "outputs": [],
   "source": []
  },
  {
   "cell_type": "code",
   "execution_count": null,
   "id": "c8c47ba8",
   "metadata": {},
   "outputs": [],
   "source": []
  },
  {
   "cell_type": "code",
   "execution_count": null,
   "id": "2c38f9d3",
   "metadata": {},
   "outputs": [],
   "source": []
  },
  {
   "cell_type": "code",
   "execution_count": null,
   "id": "49c81372",
   "metadata": {},
   "outputs": [],
   "source": []
  }
 ],
 "metadata": {
  "kernelspec": {
   "display_name": "Python 3 (ipykernel)",
   "language": "python",
   "name": "python3"
  },
  "language_info": {
   "codemirror_mode": {
    "name": "ipython",
    "version": 3
   },
   "file_extension": ".py",
   "mimetype": "text/x-python",
   "name": "python",
   "nbconvert_exporter": "python",
   "pygments_lexer": "ipython3",
   "version": "3.11.5"
  }
 },
 "nbformat": 4,
 "nbformat_minor": 5
}
