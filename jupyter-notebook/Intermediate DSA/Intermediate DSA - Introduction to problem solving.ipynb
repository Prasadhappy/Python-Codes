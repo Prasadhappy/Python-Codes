{
 "cells": [
  {
   "cell_type": "code",
   "execution_count": 11,
   "id": "30f82dcf",
   "metadata": {},
   "outputs": [],
   "source": [
    "def sqrt_of_N(N):\n",
    "\n",
    "    low = 1\n",
    "    high = N\n",
    "\n",
    "    while (low < high):\n",
    "        mid = (low+high)/2\n",
    "\n",
    "        if (mid * mid > N):\n",
    "            high = mid - 1\n",
    "\n",
    "        elif (mid * mid < N):\n",
    "            low = mid + 1\n",
    "\n",
    "        if mid * mid == N:\n",
    "            return mid"
   ]
  },
  {
   "cell_type": "code",
   "execution_count": 12,
   "id": "a824924b",
   "metadata": {},
   "outputs": [],
   "source": [
    "sqrt_of_N(100)"
   ]
  },
  {
   "cell_type": "code",
   "execution_count": null,
   "id": "05f94c37",
   "metadata": {},
   "outputs": [],
   "source": []
  },
  {
   "cell_type": "code",
   "execution_count": 9,
   "id": "fa7cb084",
   "metadata": {},
   "outputs": [],
   "source": [
    "def sqrt(N):\n",
    "    low = 1\n",
    "    high = N\n",
    "    \n",
    "    for i in range (low, N):\n",
    "        mid = (low + high)/2\n",
    "        \n",
    "        if (mid * mid) > N:\n",
    "            high = mid - 1\n",
    "            \n",
    "        elif (mid * mid) < N:\n",
    "            low = mid + 1\n",
    "            \n",
    "        if mid * mid == N:\n",
    "            return int(mid)"
   ]
  },
  {
   "cell_type": "code",
   "execution_count": 10,
   "id": "cf63c34e",
   "metadata": {},
   "outputs": [
    {
     "data": {
      "text/plain": [
       "11"
      ]
     },
     "execution_count": 10,
     "metadata": {},
     "output_type": "execute_result"
    }
   ],
   "source": [
    "sqrt(121)"
   ]
  },
  {
   "cell_type": "code",
   "execution_count": null,
   "id": "a7a050df",
   "metadata": {},
   "outputs": [],
   "source": []
  },
  {
   "cell_type": "code",
   "execution_count": null,
   "id": "0efe95dc",
   "metadata": {},
   "outputs": [],
   "source": []
  },
  {
   "cell_type": "code",
   "execution_count": null,
   "id": "daf8cc5a",
   "metadata": {},
   "outputs": [],
   "source": []
  },
  {
   "cell_type": "code",
   "execution_count": null,
   "id": "1b01b9a8",
   "metadata": {},
   "outputs": [],
   "source": []
  },
  {
   "cell_type": "code",
   "execution_count": null,
   "id": "12642e96",
   "metadata": {},
   "outputs": [],
   "source": []
  },
  {
   "cell_type": "code",
   "execution_count": null,
   "id": "043c115e",
   "metadata": {},
   "outputs": [],
   "source": []
  },
  {
   "cell_type": "code",
   "execution_count": null,
   "id": "1b602b4b",
   "metadata": {},
   "outputs": [],
   "source": []
  },
  {
   "cell_type": "code",
   "execution_count": null,
   "id": "86fa89a9",
   "metadata": {},
   "outputs": [],
   "source": []
  },
  {
   "cell_type": "code",
   "execution_count": null,
   "id": "1b11ee32",
   "metadata": {},
   "outputs": [],
   "source": []
  },
  {
   "cell_type": "code",
   "execution_count": null,
   "id": "763874e2",
   "metadata": {},
   "outputs": [],
   "source": []
  },
  {
   "cell_type": "code",
   "execution_count": null,
   "id": "15893d29",
   "metadata": {},
   "outputs": [],
   "source": []
  },
  {
   "cell_type": "code",
   "execution_count": null,
   "id": "67830f9e",
   "metadata": {},
   "outputs": [],
   "source": []
  },
  {
   "cell_type": "code",
   "execution_count": null,
   "id": "0e6c56b0",
   "metadata": {},
   "outputs": [],
   "source": []
  },
  {
   "cell_type": "code",
   "execution_count": null,
   "id": "f17e3528",
   "metadata": {},
   "outputs": [],
   "source": []
  },
  {
   "cell_type": "code",
   "execution_count": 1,
   "id": "18dcc98a",
   "metadata": {},
   "outputs": [],
   "source": [
    "def sqrt_of_N(N):\n",
    "  \"\"\"\n",
    "  Finds the closest integer square root of a number (N) using binary search.\n",
    "  \"\"\"\n",
    "  low = 1\n",
    "  high = N\n",
    "\n",
    "  while low < high:\n",
    "    mid = (low + high) // 2  # Integer division for floor\n",
    "\n",
    "    # Adjust search based on mid being an underestimate or overestimate\n",
    "    if mid * mid <= N:\n",
    "      low = mid + 1\n",
    "    else:\n",
    "      high = mid - 1\n",
    "\n",
    "  # After the loop, low will be the number greater than or equal to the square root\n",
    "  return low - 1  # Return the closest integer as the square root\n"
   ]
  },
  {
   "cell_type": "code",
   "execution_count": 2,
   "id": "587615f8",
   "metadata": {},
   "outputs": [
    {
     "data": {
      "text/plain": [
       "10"
      ]
     },
     "execution_count": 2,
     "metadata": {},
     "output_type": "execute_result"
    }
   ],
   "source": [
    "sqrt_of_N(100)"
   ]
  },
  {
   "cell_type": "code",
   "execution_count": null,
   "id": "644c7647",
   "metadata": {},
   "outputs": [],
   "source": []
  },
  {
   "cell_type": "code",
   "execution_count": 26,
   "id": "46213499",
   "metadata": {},
   "outputs": [
    {
     "name": "stdout",
     "output_type": "stream",
     "text": [
      "237\n",
      "Is Not a prime number\n"
     ]
    }
   ],
   "source": [
    "N = int(input())\n",
    "\n",
    "isprime = True\n",
    "\n",
    "for i in range (2, N):\n",
    "    if N % i == 0:\n",
    "        isprime = False\n",
    "        break\n",
    "        \n",
    "if N == 1:\n",
    "    print('Neither Prime nor Composite')\n",
    "      \n",
    "elif isprime:\n",
    "    print('Is a prime number')\n",
    "else:\n",
    "    print('Is Not a prime number')"
   ]
  },
  {
   "cell_type": "code",
   "execution_count": null,
   "id": "a598c22d",
   "metadata": {},
   "outputs": [],
   "source": []
  },
  {
   "cell_type": "code",
   "execution_count": null,
   "id": "ceeafb0f",
   "metadata": {},
   "outputs": [],
   "source": []
  },
  {
   "cell_type": "code",
   "execution_count": null,
   "id": "081ffb7e",
   "metadata": {},
   "outputs": [],
   "source": []
  },
  {
   "cell_type": "code",
   "execution_count": null,
   "id": "ede8e765",
   "metadata": {},
   "outputs": [],
   "source": []
  },
  {
   "cell_type": "code",
   "execution_count": 82,
   "id": "7d217034",
   "metadata": {},
   "outputs": [
    {
     "name": "stdout",
     "output_type": "stream",
     "text": [
      "25\n",
      "Not a prime number\n"
     ]
    }
   ],
   "source": [
    "N = int(input())\n",
    "\n",
    "isPrime = True\n",
    "\n",
    "for i in range (2, N):\n",
    "    if N % i == 0:\n",
    "        isPrime = False\n",
    "        break\n",
    "        \n",
    "if N == 1:\n",
    "    print('Neither prime nor composite')\n",
    "elif isPrime:\n",
    "    print('Is a prime number')\n",
    "else:\n",
    "    print('Not a prime number')\n"
   ]
  },
  {
   "cell_type": "code",
   "execution_count": null,
   "id": "734ff9fe",
   "metadata": {},
   "outputs": [],
   "source": []
  },
  {
   "cell_type": "code",
   "execution_count": 85,
   "id": "5fbea3fc",
   "metadata": {},
   "outputs": [
    {
     "name": "stdout",
     "output_type": "stream",
     "text": [
      "25\n",
      "Is not a prime number\n"
     ]
    }
   ],
   "source": [
    "import math\n",
    "N = int(input())\n",
    "isPrime = True\n",
    "\n",
    "for i in range(2, int(math.sqrt(N))+1): # 1 2 3 4 (sqrt(25) = 5), it will run from 2 to 5\n",
    "    if N % i == 0:\n",
    "        isPrime = False\n",
    "        break\n",
    "\n",
    "if N == 1:\n",
    "    print('neither Prime nor Composite')\n",
    "    \n",
    "elif isPrime:\n",
    "    print('is a prime number')\n",
    "    \n",
    "else:\n",
    "    print(\"Is not a prime number\")"
   ]
  },
  {
   "cell_type": "code",
   "execution_count": null,
   "id": "aa9b0dd7",
   "metadata": {},
   "outputs": [],
   "source": []
  },
  {
   "cell_type": "code",
   "execution_count": null,
   "id": "ccb98358",
   "metadata": {},
   "outputs": [],
   "source": []
  },
  {
   "cell_type": "code",
   "execution_count": 58,
   "id": "46d2d37d",
   "metadata": {},
   "outputs": [
    {
     "data": {
      "text/plain": [
       "True"
      ]
     },
     "execution_count": 58,
     "metadata": {},
     "output_type": "execute_result"
    }
   ],
   "source": [
    "is_prime(101)"
   ]
  },
  {
   "cell_type": "code",
   "execution_count": 78,
   "id": "844cc9c6",
   "metadata": {},
   "outputs": [
    {
     "name": "stdout",
     "output_type": "stream",
     "text": [
      "35\n",
      "not a prime number\n"
     ]
    }
   ],
   "source": [
    "n = int(input())\n",
    "\n",
    "if n > 1:\n",
    "    for i in range(2, n):\n",
    "        if n % i == 0:\n",
    "            print('not a prime number')\n",
    "            break\n",
    "    else:\n",
    "         print('prime number')\n",
    "else:\n",
    "     print('invalid input')"
   ]
  },
  {
   "cell_type": "code",
   "execution_count": null,
   "id": "84c506ad",
   "metadata": {},
   "outputs": [],
   "source": []
  },
  {
   "cell_type": "code",
   "execution_count": null,
   "id": "c3f01627",
   "metadata": {},
   "outputs": [],
   "source": []
  },
  {
   "cell_type": "code",
   "execution_count": 62,
   "id": "924b7b31",
   "metadata": {},
   "outputs": [
    {
     "name": "stdout",
     "output_type": "stream",
     "text": [
      "36\n",
      "not prime\n"
     ]
    }
   ],
   "source": [
    "import math\n",
    "N = int(input())\n",
    "\n",
    "isprime = True\n",
    "\n",
    "sqrt = int(math.sqrt(N))\n",
    "\n",
    "for i in range(2, sqrt):\n",
    "    if N % i == 0:\n",
    "        isprime=False\n",
    "        break\n",
    "        \n",
    "if isprime:\n",
    "    print('is prime')\n",
    "else:\n",
    "    print('not prime')"
   ]
  },
  {
   "cell_type": "code",
   "execution_count": null,
   "id": "8665b6be",
   "metadata": {},
   "outputs": [],
   "source": [
    "\n"
   ]
  },
  {
   "cell_type": "code",
   "execution_count": 81,
   "id": "b13751e5",
   "metadata": {},
   "outputs": [
    {
     "data": {
      "text/plain": [
       "5"
      ]
     },
     "execution_count": 81,
     "metadata": {},
     "output_type": "execute_result"
    }
   ],
   "source": [
    "int(math.sqrt(32))"
   ]
  },
  {
   "cell_type": "code",
   "execution_count": 80,
   "id": "f298918d",
   "metadata": {},
   "outputs": [
    {
     "data": {
      "text/plain": [
       "12.0"
      ]
     },
     "execution_count": 80,
     "metadata": {},
     "output_type": "execute_result"
    }
   ],
   "source": [
    "math.sqrt(144)"
   ]
  },
  {
   "cell_type": "markdown",
   "id": "79395336",
   "metadata": {},
   "source": []
  },
  {
   "cell_type": "code",
   "execution_count": 9,
   "id": "4b2ec95f",
   "metadata": {},
   "outputs": [
    {
     "name": "stdout",
     "output_type": "stream",
     "text": [
      "1\n",
      "not valid input\n"
     ]
    }
   ],
   "source": [
    "import math\n",
    "N = int(input())\n",
    "isprime= True\n",
    "\n",
    "sqrt = int(math.sqrt(N))\n",
    "\n",
    "for i in range(i, sqrt + 1):\n",
    "    if N % i == 0:\n",
    "        isprime = False\n",
    "        break\n",
    "\n",
    "\n",
    "if N == 1:\n",
    "    print('not valid input')\n",
    "\n",
    "elif isprime:\n",
    "    print('Is prime number')\n",
    "else:\n",
    "    print('not a prime number')"
   ]
  },
  {
   "cell_type": "code",
   "execution_count": null,
   "id": "57dc4927",
   "metadata": {},
   "outputs": [],
   "source": []
  },
  {
   "cell_type": "code",
   "execution_count": null,
   "id": "44645ece",
   "metadata": {},
   "outputs": [],
   "source": []
  },
  {
   "cell_type": "code",
   "execution_count": 15,
   "id": "367efb7d",
   "metadata": {},
   "outputs": [
    {
     "name": "stdout",
     "output_type": "stream",
     "text": [
      "1\n",
      "invalid input\n"
     ]
    }
   ],
   "source": [
    "import math\n",
    "N = int(input())\n",
    "sqrt = int(math.sqrt(N))\n",
    "isprime = True\n",
    "\n",
    "for i in range (2, sqrt+1):\n",
    "    if N % i == 0:\n",
    "        isprime = False\n",
    "        break\n",
    "        \n",
    "if N == 1 or N == 0:\n",
    "    print('invalid input')\n",
    "elif isprime:\n",
    "    print('is prime number')\n",
    "else:\n",
    "    print('not a prime number')"
   ]
  },
  {
   "cell_type": "code",
   "execution_count": null,
   "id": "92ee7b40",
   "metadata": {},
   "outputs": [],
   "source": []
  },
  {
   "cell_type": "code",
   "execution_count": 20,
   "id": "1d90e015",
   "metadata": {},
   "outputs": [
    {
     "name": "stdout",
     "output_type": "stream",
     "text": [
      "144\n",
      "12\n"
     ]
    }
   ],
   "source": [
    "N = int(input())\n",
    "ans = 0\n",
    "\n",
    "for i in range(1, N):\n",
    "    if (i * i == N):\n",
    "        ans = i\n",
    "print(ans)"
   ]
  },
  {
   "cell_type": "code",
   "execution_count": null,
   "id": "76619f0b",
   "metadata": {},
   "outputs": [],
   "source": []
  },
  {
   "cell_type": "code",
   "execution_count": null,
   "id": "c6105281",
   "metadata": {},
   "outputs": [],
   "source": []
  },
  {
   "cell_type": "code",
   "execution_count": null,
   "id": "6685c7e5",
   "metadata": {},
   "outputs": [],
   "source": []
  },
  {
   "cell_type": "code",
   "execution_count": null,
   "id": "35720b5b",
   "metadata": {},
   "outputs": [],
   "source": []
  },
  {
   "cell_type": "code",
   "execution_count": null,
   "id": "06aec8ef",
   "metadata": {},
   "outputs": [],
   "source": []
  },
  {
   "cell_type": "code",
   "execution_count": null,
   "id": "69533694",
   "metadata": {},
   "outputs": [],
   "source": []
  },
  {
   "cell_type": "code",
   "execution_count": null,
   "id": "5c331a6c",
   "metadata": {},
   "outputs": [],
   "source": []
  },
  {
   "cell_type": "code",
   "execution_count": null,
   "id": "06a88b4c",
   "metadata": {},
   "outputs": [],
   "source": []
  },
  {
   "cell_type": "code",
   "execution_count": null,
   "id": "a621e6bb",
   "metadata": {},
   "outputs": [],
   "source": []
  },
  {
   "cell_type": "code",
   "execution_count": null,
   "id": "78cbc044",
   "metadata": {},
   "outputs": [],
   "source": []
  },
  {
   "cell_type": "code",
   "execution_count": null,
   "id": "e34da2ee",
   "metadata": {},
   "outputs": [],
   "source": []
  },
  {
   "cell_type": "code",
   "execution_count": null,
   "id": "1e29e07c",
   "metadata": {},
   "outputs": [],
   "source": []
  },
  {
   "cell_type": "code",
   "execution_count": null,
   "id": "4bb1ebab",
   "metadata": {},
   "outputs": [],
   "source": []
  },
  {
   "cell_type": "code",
   "execution_count": null,
   "id": "5807ea21",
   "metadata": {},
   "outputs": [],
   "source": []
  },
  {
   "cell_type": "code",
   "execution_count": null,
   "id": "3813c0fd",
   "metadata": {},
   "outputs": [],
   "source": []
  },
  {
   "cell_type": "code",
   "execution_count": null,
   "id": "add6e9fb",
   "metadata": {},
   "outputs": [],
   "source": []
  },
  {
   "cell_type": "code",
   "execution_count": null,
   "id": "bc7f725c",
   "metadata": {},
   "outputs": [],
   "source": []
  },
  {
   "cell_type": "code",
   "execution_count": null,
   "id": "796e1f67",
   "metadata": {},
   "outputs": [],
   "source": []
  },
  {
   "cell_type": "code",
   "execution_count": null,
   "id": "1d38343c",
   "metadata": {},
   "outputs": [],
   "source": []
  },
  {
   "cell_type": "code",
   "execution_count": null,
   "id": "97b185c5",
   "metadata": {},
   "outputs": [],
   "source": []
  },
  {
   "cell_type": "code",
   "execution_count": null,
   "id": "4223d456",
   "metadata": {},
   "outputs": [],
   "source": []
  },
  {
   "cell_type": "code",
   "execution_count": null,
   "id": "0ac1f6ce",
   "metadata": {},
   "outputs": [],
   "source": []
  },
  {
   "cell_type": "code",
   "execution_count": null,
   "id": "1aa5a6a4",
   "metadata": {},
   "outputs": [],
   "source": []
  },
  {
   "cell_type": "code",
   "execution_count": null,
   "id": "c125b7ff",
   "metadata": {},
   "outputs": [],
   "source": []
  },
  {
   "cell_type": "code",
   "execution_count": null,
   "id": "411b40e0",
   "metadata": {},
   "outputs": [],
   "source": []
  },
  {
   "cell_type": "code",
   "execution_count": null,
   "id": "33a30f7a",
   "metadata": {},
   "outputs": [],
   "source": []
  },
  {
   "cell_type": "code",
   "execution_count": null,
   "id": "9b36eb88",
   "metadata": {},
   "outputs": [],
   "source": []
  },
  {
   "cell_type": "code",
   "execution_count": null,
   "id": "878eb59a",
   "metadata": {},
   "outputs": [],
   "source": []
  },
  {
   "cell_type": "code",
   "execution_count": null,
   "id": "2f6a632f",
   "metadata": {},
   "outputs": [],
   "source": []
  },
  {
   "cell_type": "code",
   "execution_count": null,
   "id": "4a39e51b",
   "metadata": {},
   "outputs": [],
   "source": []
  },
  {
   "cell_type": "code",
   "execution_count": null,
   "id": "6c2819cb",
   "metadata": {},
   "outputs": [],
   "source": []
  },
  {
   "cell_type": "code",
   "execution_count": null,
   "id": "c7270239",
   "metadata": {},
   "outputs": [],
   "source": []
  },
  {
   "cell_type": "code",
   "execution_count": null,
   "id": "0b1455be",
   "metadata": {},
   "outputs": [],
   "source": []
  },
  {
   "cell_type": "code",
   "execution_count": null,
   "id": "8ec92697",
   "metadata": {},
   "outputs": [],
   "source": []
  },
  {
   "cell_type": "code",
   "execution_count": null,
   "id": "5ffe5030",
   "metadata": {},
   "outputs": [],
   "source": []
  }
 ],
 "metadata": {
  "kernelspec": {
   "display_name": "Python 3 (ipykernel)",
   "language": "python",
   "name": "python3"
  },
  "language_info": {
   "codemirror_mode": {
    "name": "ipython",
    "version": 3
   },
   "file_extension": ".py",
   "mimetype": "text/x-python",
   "name": "python",
   "nbconvert_exporter": "python",
   "pygments_lexer": "ipython3",
   "version": "3.11.5"
  }
 },
 "nbformat": 4,
 "nbformat_minor": 5
}
