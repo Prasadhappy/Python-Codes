{
 "cells": [
  {
   "cell_type": "code",
   "execution_count": 1,
   "id": "a246b03b",
   "metadata": {},
   "outputs": [],
   "source": [
    "def max_consecutive_ones_swap(nums):\n",
    "  \"\"\"\n",
    "  This function finds the maximum number of consecutive 1s in a binary array,\n",
    "  considering the possibility of swapping a single 0 to 1.\n",
    "\n",
    "  Args:\n",
    "      nums: A list of integers (0s and 1s) representing the binary array.\n",
    "\n",
    "  Returns:\n",
    "      The maximum number of consecutive 1s achievable after swapping at most one 0.\n",
    "  \"\"\"\n",
    "\n",
    "  n = len(nums)\n",
    "  # Initialize variables for tracking window, zeros, and max_ones\n",
    "  window_start = 0\n",
    "  zeros_count = 0\n",
    "  max_ones = 0\n",
    "\n",
    "  for window_end in range(n):\n",
    "    # Count the current zero encountered\n",
    "    if nums[window_end] == 0:\n",
    "      zeros_count += 1\n",
    "\n",
    "    # Update max_ones if the current window is valid (at most one zero)\n",
    "    if zeros_count <= 1:\n",
    "      max_ones = max(max_ones, window_end - window_start + 1)\n",
    "\n",
    "    # Slide the window if needed (remove elements from the beginning)\n",
    "    while zeros_count > 1:\n",
    "      if nums[window_start] == 0:\n",
    "        zeros_count -= 1\n",
    "      window_start += 1"
   ]
  },
  {
   "cell_type": "code",
   "execution_count": 5,
   "id": "cbac3de1",
   "metadata": {},
   "outputs": [
    {
     "ename": "TypeError",
     "evalue": "object of type 'int' has no len()",
     "output_type": "error",
     "traceback": [
      "\u001b[1;31m---------------------------------------------------------------------------\u001b[0m",
      "\u001b[1;31mTypeError\u001b[0m                                 Traceback (most recent call last)",
      "Cell \u001b[1;32mIn[5], line 1\u001b[0m\n\u001b[1;32m----> 1\u001b[0m max_consecutive_ones_swap(\u001b[38;5;241m3\u001b[39m)\n",
      "Cell \u001b[1;32mIn[1], line 13\u001b[0m, in \u001b[0;36mmax_consecutive_ones_swap\u001b[1;34m(nums)\u001b[0m\n\u001b[0;32m      1\u001b[0m \u001b[38;5;28;01mdef\u001b[39;00m \u001b[38;5;21mmax_consecutive_ones_swap\u001b[39m(nums):\n\u001b[0;32m      2\u001b[0m \u001b[38;5;250m  \u001b[39m\u001b[38;5;124;03m\"\"\"\u001b[39;00m\n\u001b[0;32m      3\u001b[0m \u001b[38;5;124;03m  This function finds the maximum number of consecutive 1s in a binary array,\u001b[39;00m\n\u001b[0;32m      4\u001b[0m \u001b[38;5;124;03m  considering the possibility of swapping a single 0 to 1.\u001b[39;00m\n\u001b[1;32m   (...)\u001b[0m\n\u001b[0;32m     10\u001b[0m \u001b[38;5;124;03m      The maximum number of consecutive 1s achievable after swapping at most one 0.\u001b[39;00m\n\u001b[0;32m     11\u001b[0m \u001b[38;5;124;03m  \"\"\"\u001b[39;00m\n\u001b[1;32m---> 13\u001b[0m   n \u001b[38;5;241m=\u001b[39m \u001b[38;5;28mlen\u001b[39m(nums)\n\u001b[0;32m     14\u001b[0m   \u001b[38;5;66;03m# Initialize variables for tracking window, zeros, and max_ones\u001b[39;00m\n\u001b[0;32m     15\u001b[0m   window_start \u001b[38;5;241m=\u001b[39m \u001b[38;5;241m0\u001b[39m\n",
      "\u001b[1;31mTypeError\u001b[0m: object of type 'int' has no len()"
     ]
    }
   ],
   "source": [
    "max_consecutive_ones_swap(3)"
   ]
  },
  {
   "cell_type": "code",
   "execution_count": null,
   "id": "8faa8b2e",
   "metadata": {},
   "outputs": [],
   "source": []
  }
 ],
 "metadata": {
  "kernelspec": {
   "display_name": "Python 3 (ipykernel)",
   "language": "python",
   "name": "python3"
  },
  "language_info": {
   "codemirror_mode": {
    "name": "ipython",
    "version": 3
   },
   "file_extension": ".py",
   "mimetype": "text/x-python",
   "name": "python",
   "nbconvert_exporter": "python",
   "pygments_lexer": "ipython3",
   "version": "3.11.5"
  }
 },
 "nbformat": 4,
 "nbformat_minor": 5
}
